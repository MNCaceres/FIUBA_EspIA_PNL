{
  "cells": [
    {
      "cell_type": "markdown",
      "metadata": {
        "id": "g3yeJGnCYxuF"
      },
      "source": [
        "<img src=\"https://github.com/hernancontigiani/ceia_memorias_especializacion/raw/master/Figures/logoFIUBA.jpg\" width=\"500\" align=\"center\">\n",
        "\n",
        "\n",
        "# Procesamiento de lenguaje natural\n",
        "## Modelo de lenguaje con tokenización por palabras"
      ]
    },
    {
      "cell_type": "markdown",
      "metadata": {
        "id": "Iv5PEwGzZA9-"
      },
      "source": [
        "### Consigna\n",
        "- Seleccionar un corpus de texto sobre el cual entrenar el modelo de lenguaje.\n",
        "- Realizar el pre-procesamiento adecuado para tokenizar el corpus, estructurar el dataset y separar entre datos de entrenamiento y validación.\n",
        "- Proponer arquitecturas de redes neuronales basadas en unidades recurrentes para implementar un modelo de lenguaje.\n",
        "- Con el o los modelos que consideren adecuados, generar nuevas secuencias a partir de secuencias de contexto con las estrategias de greedy search y beam search determístico y estocástico. En este último caso observar el efecto de la temperatura en la generación de secuencias.\n",
        "\n",
        "\n",
        "### Sugerencias\n",
        "- Durante el entrenamiento, guiarse por el descenso de la perplejidad en los datos de validación para finalizar el entrenamiento. Para ello se provee un callback.\n",
        "- Explorar utilizar SimpleRNN (celda de Elman), LSTM y GRU.\n",
        "- rmsprop es el optimizador recomendado para la buena convergencia. No obstante se pueden explorar otros.\n"
      ]
    },
    {
      "cell_type": "markdown",
      "metadata": {
        "id": "8WLkHFBbvem6"
      },
      "source": [
        "Se utilizará el corpus de las canciones de Michael Jackson, cuya cantidad de documentos corresponden a 9484."
      ]
    },
    {
      "cell_type": "code",
      "execution_count": null,
      "metadata": {
        "colab": {
          "base_uri": "https://localhost:8080/"
        },
        "collapsed": true,
        "id": "9JKRJAptvDY6",
        "outputId": "76d34eea-b694-4e4b-8244-1c04a2b14cf4"
      },
      "outputs": [
        {
          "output_type": "stream",
          "name": "stdout",
          "text": [
            "Requirement already satisfied: tensorflow in /usr/local/lib/python3.10/dist-packages (2.17.0)\n",
            "Requirement already satisfied: absl-py>=1.0.0 in /usr/local/lib/python3.10/dist-packages (from tensorflow) (1.4.0)\n",
            "Requirement already satisfied: astunparse>=1.6.0 in /usr/local/lib/python3.10/dist-packages (from tensorflow) (1.6.3)\n",
            "Requirement already satisfied: flatbuffers>=24.3.25 in /usr/local/lib/python3.10/dist-packages (from tensorflow) (24.3.25)\n",
            "Requirement already satisfied: gast!=0.5.0,!=0.5.1,!=0.5.2,>=0.2.1 in /usr/local/lib/python3.10/dist-packages (from tensorflow) (0.6.0)\n",
            "Requirement already satisfied: google-pasta>=0.1.1 in /usr/local/lib/python3.10/dist-packages (from tensorflow) (0.2.0)\n",
            "Requirement already satisfied: h5py>=3.10.0 in /usr/local/lib/python3.10/dist-packages (from tensorflow) (3.11.0)\n",
            "Requirement already satisfied: libclang>=13.0.0 in /usr/local/lib/python3.10/dist-packages (from tensorflow) (18.1.1)\n",
            "Requirement already satisfied: ml-dtypes<0.5.0,>=0.3.1 in /usr/local/lib/python3.10/dist-packages (from tensorflow) (0.4.1)\n",
            "Requirement already satisfied: opt-einsum>=2.3.2 in /usr/local/lib/python3.10/dist-packages (from tensorflow) (3.4.0)\n",
            "Requirement already satisfied: packaging in /usr/local/lib/python3.10/dist-packages (from tensorflow) (24.1)\n",
            "Requirement already satisfied: protobuf!=4.21.0,!=4.21.1,!=4.21.2,!=4.21.3,!=4.21.4,!=4.21.5,<5.0.0dev,>=3.20.3 in /usr/local/lib/python3.10/dist-packages (from tensorflow) (3.20.3)\n",
            "Requirement already satisfied: requests<3,>=2.21.0 in /usr/local/lib/python3.10/dist-packages (from tensorflow) (2.32.3)\n",
            "Requirement already satisfied: setuptools in /usr/local/lib/python3.10/dist-packages (from tensorflow) (71.0.4)\n",
            "Requirement already satisfied: six>=1.12.0 in /usr/local/lib/python3.10/dist-packages (from tensorflow) (1.16.0)\n",
            "Requirement already satisfied: termcolor>=1.1.0 in /usr/local/lib/python3.10/dist-packages (from tensorflow) (2.4.0)\n",
            "Requirement already satisfied: typing-extensions>=3.6.6 in /usr/local/lib/python3.10/dist-packages (from tensorflow) (4.12.2)\n",
            "Requirement already satisfied: wrapt>=1.11.0 in /usr/local/lib/python3.10/dist-packages (from tensorflow) (1.16.0)\n",
            "Requirement already satisfied: grpcio<2.0,>=1.24.3 in /usr/local/lib/python3.10/dist-packages (from tensorflow) (1.64.1)\n",
            "Requirement already satisfied: tensorboard<2.18,>=2.17 in /usr/local/lib/python3.10/dist-packages (from tensorflow) (2.17.0)\n",
            "Requirement already satisfied: keras>=3.2.0 in /usr/local/lib/python3.10/dist-packages (from tensorflow) (3.4.1)\n",
            "Requirement already satisfied: tensorflow-io-gcs-filesystem>=0.23.1 in /usr/local/lib/python3.10/dist-packages (from tensorflow) (0.37.1)\n",
            "Requirement already satisfied: numpy<2.0.0,>=1.23.5 in /usr/local/lib/python3.10/dist-packages (from tensorflow) (1.26.4)\n",
            "Requirement already satisfied: wheel<1.0,>=0.23.0 in /usr/local/lib/python3.10/dist-packages (from astunparse>=1.6.0->tensorflow) (0.44.0)\n",
            "Requirement already satisfied: rich in /usr/local/lib/python3.10/dist-packages (from keras>=3.2.0->tensorflow) (13.8.1)\n",
            "Requirement already satisfied: namex in /usr/local/lib/python3.10/dist-packages (from keras>=3.2.0->tensorflow) (0.0.8)\n",
            "Requirement already satisfied: optree in /usr/local/lib/python3.10/dist-packages (from keras>=3.2.0->tensorflow) (0.12.1)\n",
            "Requirement already satisfied: charset-normalizer<4,>=2 in /usr/local/lib/python3.10/dist-packages (from requests<3,>=2.21.0->tensorflow) (3.3.2)\n",
            "Requirement already satisfied: idna<4,>=2.5 in /usr/local/lib/python3.10/dist-packages (from requests<3,>=2.21.0->tensorflow) (3.10)\n",
            "Requirement already satisfied: urllib3<3,>=1.21.1 in /usr/local/lib/python3.10/dist-packages (from requests<3,>=2.21.0->tensorflow) (2.2.3)\n",
            "Requirement already satisfied: certifi>=2017.4.17 in /usr/local/lib/python3.10/dist-packages (from requests<3,>=2.21.0->tensorflow) (2024.8.30)\n",
            "Requirement already satisfied: markdown>=2.6.8 in /usr/local/lib/python3.10/dist-packages (from tensorboard<2.18,>=2.17->tensorflow) (3.7)\n",
            "Requirement already satisfied: tensorboard-data-server<0.8.0,>=0.7.0 in /usr/local/lib/python3.10/dist-packages (from tensorboard<2.18,>=2.17->tensorflow) (0.7.2)\n",
            "Requirement already satisfied: werkzeug>=1.0.1 in /usr/local/lib/python3.10/dist-packages (from tensorboard<2.18,>=2.17->tensorflow) (3.0.4)\n",
            "Requirement already satisfied: MarkupSafe>=2.1.1 in /usr/local/lib/python3.10/dist-packages (from werkzeug>=1.0.1->tensorboard<2.18,>=2.17->tensorflow) (2.1.5)\n",
            "Requirement already satisfied: markdown-it-py>=2.2.0 in /usr/local/lib/python3.10/dist-packages (from rich->keras>=3.2.0->tensorflow) (3.0.0)\n",
            "Requirement already satisfied: pygments<3.0.0,>=2.13.0 in /usr/local/lib/python3.10/dist-packages (from rich->keras>=3.2.0->tensorflow) (2.18.0)\n",
            "Requirement already satisfied: mdurl~=0.1 in /usr/local/lib/python3.10/dist-packages (from markdown-it-py>=2.2.0->rich->keras>=3.2.0->tensorflow) (0.1.2)\n"
          ]
        }
      ],
      "source": [
        "pip install tensorflow"
      ]
    },
    {
      "cell_type": "code",
      "execution_count": null,
      "metadata": {
        "id": "Y-QdFbHZYj7C"
      },
      "outputs": [],
      "source": [
        "import random\n",
        "import io\n",
        "import pickle\n",
        "\n",
        "import numpy as np\n",
        "import pandas as pd\n",
        "import matplotlib.pyplot as plt\n",
        "from sklearn.model_selection import train_test_split\n",
        "\n",
        "from tensorflow import keras\n",
        "from tensorflow.keras import layers\n",
        "from keras.utils import to_categorical\n",
        "from keras.models import Sequential\n",
        "from keras.layers import Dense, LSTM, Embedding, Dropout\n",
        "from tensorflow.keras.losses import SparseCategoricalCrossentropy"
      ]
    },
    {
      "cell_type": "markdown",
      "metadata": {
        "id": "xTvXlEKQZdqx"
      },
      "source": [
        "### Datos\n",
        "Como ejemplo se utilizará como corpus un dataset canciones de bandas de habla inglés."
      ]
    },
    {
      "cell_type": "code",
      "execution_count": null,
      "metadata": {
        "colab": {
          "base_uri": "https://localhost:8080/"
        },
        "collapsed": true,
        "id": "IkdPfrQJZdB5",
        "outputId": "2cdf3bbc-02c8-4685-c985-b582e658e7e3"
      },
      "outputs": [
        {
          "output_type": "stream",
          "name": "stdout",
          "text": [
            "--2024-10-07 12:58:48--  http://songs_dataset.zip/\n",
            "Resolving songs_dataset.zip (songs_dataset.zip)... failed: Name or service not known.\n",
            "wget: unable to resolve host address ‘songs_dataset.zip’\n",
            "--2024-10-07 12:58:48--  https://github.com/FIUBA-Posgrado-Inteligencia-Artificial/procesamiento_lenguaje_natural/raw/main/datasets/songs_dataset.zip\n",
            "Resolving github.com (github.com)... 140.82.116.3\n",
            "Connecting to github.com (github.com)|140.82.116.3|:443... connected.\n",
            "HTTP request sent, awaiting response... 302 Found\n",
            "Location: https://raw.githubusercontent.com/FIUBA-Posgrado-Inteligencia-Artificial/procesamiento_lenguaje_natural/main/datasets/songs_dataset.zip [following]\n",
            "--2024-10-07 12:58:48--  https://raw.githubusercontent.com/FIUBA-Posgrado-Inteligencia-Artificial/procesamiento_lenguaje_natural/main/datasets/songs_dataset.zip\n",
            "Resolving raw.githubusercontent.com (raw.githubusercontent.com)... 185.199.108.133, 185.199.109.133, 185.199.110.133, ...\n",
            "Connecting to raw.githubusercontent.com (raw.githubusercontent.com)|185.199.108.133|:443... connected.\n",
            "HTTP request sent, awaiting response... 200 OK\n",
            "Length: 2075036 (2.0M) [application/zip]\n",
            "Saving to: ‘songs_dataset.zip’\n",
            "\n",
            "songs_dataset.zip   100%[===================>]   1.98M  --.-KB/s    in 0.05s   \n",
            "\n",
            "2024-10-07 12:58:49 (37.7 MB/s) - ‘songs_dataset.zip’ saved [2075036/2075036]\n",
            "\n",
            "FINISHED --2024-10-07 12:58:49--\n",
            "Total wall clock time: 0.9s\n",
            "Downloaded: 1 files, 2.0M in 0.05s (37.7 MB/s)\n"
          ]
        }
      ],
      "source": [
        "# Descargamos la carpeta de dataset\n",
        "import os\n",
        "import platform\n",
        "if os.access('./songs_dataset', os.F_OK) is False:\n",
        "    if os.access('songs_dataset.zip', os.F_OK) is False:\n",
        "        if platform.system() == 'Windows':\n",
        "            !curl https://raw.githubusercontent.com/FIUBA-Posgrado-Inteligencia-Artificial/procesamiento_lenguaje_natural/main/datasets/songs_dataset.zip -o songs_dataset.zip\n",
        "        else:\n",
        "            !wget songs_dataset.zip https://github.com/FIUBA-Posgrado-Inteligencia-Artificial/procesamiento_lenguaje_natural/raw/main/datasets/songs_dataset.zip\n",
        "    !unzip -q songs_dataset.zip\n",
        "else:\n",
        "    print(\"El dataset ya se encuentra descargado\")"
      ]
    },
    {
      "cell_type": "code",
      "execution_count": null,
      "metadata": {
        "colab": {
          "base_uri": "https://localhost:8080/",
          "height": 261
        },
        "id": "Gb39v3PaZmRH",
        "outputId": "8e820fdf-8790-426a-d2ae-61feec99c13e"
      },
      "outputs": [
        {
          "output_type": "stream",
          "name": "stderr",
          "text": [
            "<ipython-input-6-8ec73369ecf3>:2: ParserWarning: Falling back to the 'python' engine because the 'c' engine does not support regex separators (separators > 1 char and different from '\\s+' are interpreted as regex); you can avoid this warning by specifying engine='python'.\n",
            "  df = pd.read_csv('songs_dataset/michael-jackson.txt', sep='/n', header=None)\n"
          ]
        },
        {
          "output_type": "execute_result",
          "data": {
            "text/plain": [
              "                                          0\n",
              "0                           [Spoken Intro:]\n",
              "1                   You ever want something\n",
              "2          that you know you shouldn't have\n",
              "3  The more you know you shouldn't have it,\n",
              "4                      The more you want it"
            ],
            "text/html": [
              "\n",
              "  <div id=\"df-320ac804-5855-4e82-bd03-8d79502e29ab\" class=\"colab-df-container\">\n",
              "    <div>\n",
              "<style scoped>\n",
              "    .dataframe tbody tr th:only-of-type {\n",
              "        vertical-align: middle;\n",
              "    }\n",
              "\n",
              "    .dataframe tbody tr th {\n",
              "        vertical-align: top;\n",
              "    }\n",
              "\n",
              "    .dataframe thead th {\n",
              "        text-align: right;\n",
              "    }\n",
              "</style>\n",
              "<table border=\"1\" class=\"dataframe\">\n",
              "  <thead>\n",
              "    <tr style=\"text-align: right;\">\n",
              "      <th></th>\n",
              "      <th>0</th>\n",
              "    </tr>\n",
              "  </thead>\n",
              "  <tbody>\n",
              "    <tr>\n",
              "      <th>0</th>\n",
              "      <td>[Spoken Intro:]</td>\n",
              "    </tr>\n",
              "    <tr>\n",
              "      <th>1</th>\n",
              "      <td>You ever want something</td>\n",
              "    </tr>\n",
              "    <tr>\n",
              "      <th>2</th>\n",
              "      <td>that you know you shouldn't have</td>\n",
              "    </tr>\n",
              "    <tr>\n",
              "      <th>3</th>\n",
              "      <td>The more you know you shouldn't have it,</td>\n",
              "    </tr>\n",
              "    <tr>\n",
              "      <th>4</th>\n",
              "      <td>The more you want it</td>\n",
              "    </tr>\n",
              "  </tbody>\n",
              "</table>\n",
              "</div>\n",
              "    <div class=\"colab-df-buttons\">\n",
              "\n",
              "  <div class=\"colab-df-container\">\n",
              "    <button class=\"colab-df-convert\" onclick=\"convertToInteractive('df-320ac804-5855-4e82-bd03-8d79502e29ab')\"\n",
              "            title=\"Convert this dataframe to an interactive table.\"\n",
              "            style=\"display:none;\">\n",
              "\n",
              "  <svg xmlns=\"http://www.w3.org/2000/svg\" height=\"24px\" viewBox=\"0 -960 960 960\">\n",
              "    <path d=\"M120-120v-720h720v720H120Zm60-500h600v-160H180v160Zm220 220h160v-160H400v160Zm0 220h160v-160H400v160ZM180-400h160v-160H180v160Zm440 0h160v-160H620v160ZM180-180h160v-160H180v160Zm440 0h160v-160H620v160Z\"/>\n",
              "  </svg>\n",
              "    </button>\n",
              "\n",
              "  <style>\n",
              "    .colab-df-container {\n",
              "      display:flex;\n",
              "      gap: 12px;\n",
              "    }\n",
              "\n",
              "    .colab-df-convert {\n",
              "      background-color: #E8F0FE;\n",
              "      border: none;\n",
              "      border-radius: 50%;\n",
              "      cursor: pointer;\n",
              "      display: none;\n",
              "      fill: #1967D2;\n",
              "      height: 32px;\n",
              "      padding: 0 0 0 0;\n",
              "      width: 32px;\n",
              "    }\n",
              "\n",
              "    .colab-df-convert:hover {\n",
              "      background-color: #E2EBFA;\n",
              "      box-shadow: 0px 1px 2px rgba(60, 64, 67, 0.3), 0px 1px 3px 1px rgba(60, 64, 67, 0.15);\n",
              "      fill: #174EA6;\n",
              "    }\n",
              "\n",
              "    .colab-df-buttons div {\n",
              "      margin-bottom: 4px;\n",
              "    }\n",
              "\n",
              "    [theme=dark] .colab-df-convert {\n",
              "      background-color: #3B4455;\n",
              "      fill: #D2E3FC;\n",
              "    }\n",
              "\n",
              "    [theme=dark] .colab-df-convert:hover {\n",
              "      background-color: #434B5C;\n",
              "      box-shadow: 0px 1px 3px 1px rgba(0, 0, 0, 0.15);\n",
              "      filter: drop-shadow(0px 1px 2px rgba(0, 0, 0, 0.3));\n",
              "      fill: #FFFFFF;\n",
              "    }\n",
              "  </style>\n",
              "\n",
              "    <script>\n",
              "      const buttonEl =\n",
              "        document.querySelector('#df-320ac804-5855-4e82-bd03-8d79502e29ab button.colab-df-convert');\n",
              "      buttonEl.style.display =\n",
              "        google.colab.kernel.accessAllowed ? 'block' : 'none';\n",
              "\n",
              "      async function convertToInteractive(key) {\n",
              "        const element = document.querySelector('#df-320ac804-5855-4e82-bd03-8d79502e29ab');\n",
              "        const dataTable =\n",
              "          await google.colab.kernel.invokeFunction('convertToInteractive',\n",
              "                                                    [key], {});\n",
              "        if (!dataTable) return;\n",
              "\n",
              "        const docLinkHtml = 'Like what you see? Visit the ' +\n",
              "          '<a target=\"_blank\" href=https://colab.research.google.com/notebooks/data_table.ipynb>data table notebook</a>'\n",
              "          + ' to learn more about interactive tables.';\n",
              "        element.innerHTML = '';\n",
              "        dataTable['output_type'] = 'display_data';\n",
              "        await google.colab.output.renderOutput(dataTable, element);\n",
              "        const docLink = document.createElement('div');\n",
              "        docLink.innerHTML = docLinkHtml;\n",
              "        element.appendChild(docLink);\n",
              "      }\n",
              "    </script>\n",
              "  </div>\n",
              "\n",
              "\n",
              "<div id=\"df-d738e2fa-39c4-4394-8874-7999e874b5f2\">\n",
              "  <button class=\"colab-df-quickchart\" onclick=\"quickchart('df-d738e2fa-39c4-4394-8874-7999e874b5f2')\"\n",
              "            title=\"Suggest charts\"\n",
              "            style=\"display:none;\">\n",
              "\n",
              "<svg xmlns=\"http://www.w3.org/2000/svg\" height=\"24px\"viewBox=\"0 0 24 24\"\n",
              "     width=\"24px\">\n",
              "    <g>\n",
              "        <path d=\"M19 3H5c-1.1 0-2 .9-2 2v14c0 1.1.9 2 2 2h14c1.1 0 2-.9 2-2V5c0-1.1-.9-2-2-2zM9 17H7v-7h2v7zm4 0h-2V7h2v10zm4 0h-2v-4h2v4z\"/>\n",
              "    </g>\n",
              "</svg>\n",
              "  </button>\n",
              "\n",
              "<style>\n",
              "  .colab-df-quickchart {\n",
              "      --bg-color: #E8F0FE;\n",
              "      --fill-color: #1967D2;\n",
              "      --hover-bg-color: #E2EBFA;\n",
              "      --hover-fill-color: #174EA6;\n",
              "      --disabled-fill-color: #AAA;\n",
              "      --disabled-bg-color: #DDD;\n",
              "  }\n",
              "\n",
              "  [theme=dark] .colab-df-quickchart {\n",
              "      --bg-color: #3B4455;\n",
              "      --fill-color: #D2E3FC;\n",
              "      --hover-bg-color: #434B5C;\n",
              "      --hover-fill-color: #FFFFFF;\n",
              "      --disabled-bg-color: #3B4455;\n",
              "      --disabled-fill-color: #666;\n",
              "  }\n",
              "\n",
              "  .colab-df-quickchart {\n",
              "    background-color: var(--bg-color);\n",
              "    border: none;\n",
              "    border-radius: 50%;\n",
              "    cursor: pointer;\n",
              "    display: none;\n",
              "    fill: var(--fill-color);\n",
              "    height: 32px;\n",
              "    padding: 0;\n",
              "    width: 32px;\n",
              "  }\n",
              "\n",
              "  .colab-df-quickchart:hover {\n",
              "    background-color: var(--hover-bg-color);\n",
              "    box-shadow: 0 1px 2px rgba(60, 64, 67, 0.3), 0 1px 3px 1px rgba(60, 64, 67, 0.15);\n",
              "    fill: var(--button-hover-fill-color);\n",
              "  }\n",
              "\n",
              "  .colab-df-quickchart-complete:disabled,\n",
              "  .colab-df-quickchart-complete:disabled:hover {\n",
              "    background-color: var(--disabled-bg-color);\n",
              "    fill: var(--disabled-fill-color);\n",
              "    box-shadow: none;\n",
              "  }\n",
              "\n",
              "  .colab-df-spinner {\n",
              "    border: 2px solid var(--fill-color);\n",
              "    border-color: transparent;\n",
              "    border-bottom-color: var(--fill-color);\n",
              "    animation:\n",
              "      spin 1s steps(1) infinite;\n",
              "  }\n",
              "\n",
              "  @keyframes spin {\n",
              "    0% {\n",
              "      border-color: transparent;\n",
              "      border-bottom-color: var(--fill-color);\n",
              "      border-left-color: var(--fill-color);\n",
              "    }\n",
              "    20% {\n",
              "      border-color: transparent;\n",
              "      border-left-color: var(--fill-color);\n",
              "      border-top-color: var(--fill-color);\n",
              "    }\n",
              "    30% {\n",
              "      border-color: transparent;\n",
              "      border-left-color: var(--fill-color);\n",
              "      border-top-color: var(--fill-color);\n",
              "      border-right-color: var(--fill-color);\n",
              "    }\n",
              "    40% {\n",
              "      border-color: transparent;\n",
              "      border-right-color: var(--fill-color);\n",
              "      border-top-color: var(--fill-color);\n",
              "    }\n",
              "    60% {\n",
              "      border-color: transparent;\n",
              "      border-right-color: var(--fill-color);\n",
              "    }\n",
              "    80% {\n",
              "      border-color: transparent;\n",
              "      border-right-color: var(--fill-color);\n",
              "      border-bottom-color: var(--fill-color);\n",
              "    }\n",
              "    90% {\n",
              "      border-color: transparent;\n",
              "      border-bottom-color: var(--fill-color);\n",
              "    }\n",
              "  }\n",
              "</style>\n",
              "\n",
              "  <script>\n",
              "    async function quickchart(key) {\n",
              "      const quickchartButtonEl =\n",
              "        document.querySelector('#' + key + ' button');\n",
              "      quickchartButtonEl.disabled = true;  // To prevent multiple clicks.\n",
              "      quickchartButtonEl.classList.add('colab-df-spinner');\n",
              "      try {\n",
              "        const charts = await google.colab.kernel.invokeFunction(\n",
              "            'suggestCharts', [key], {});\n",
              "      } catch (error) {\n",
              "        console.error('Error during call to suggestCharts:', error);\n",
              "      }\n",
              "      quickchartButtonEl.classList.remove('colab-df-spinner');\n",
              "      quickchartButtonEl.classList.add('colab-df-quickchart-complete');\n",
              "    }\n",
              "    (() => {\n",
              "      let quickchartButtonEl =\n",
              "        document.querySelector('#df-d738e2fa-39c4-4394-8874-7999e874b5f2 button');\n",
              "      quickchartButtonEl.style.display =\n",
              "        google.colab.kernel.accessAllowed ? 'block' : 'none';\n",
              "    })();\n",
              "  </script>\n",
              "</div>\n",
              "\n",
              "    </div>\n",
              "  </div>\n"
            ],
            "application/vnd.google.colaboratory.intrinsic+json": {
              "type": "dataframe",
              "variable_name": "df",
              "summary": "{\n  \"name\": \"df\",\n  \"rows\": 9484,\n  \"fields\": [\n    {\n      \"column\": 0,\n      \"properties\": {\n        \"dtype\": \"string\",\n        \"num_unique_values\": 5992,\n        \"samples\": [\n          \"I Can't Live My Life\",\n          \"To show your stuff\",\n          \"She Said I'm All Yours\"\n        ],\n        \"semantic_type\": \"\",\n        \"description\": \"\"\n      }\n    }\n  ]\n}"
            }
          },
          "metadata": {},
          "execution_count": 6
        }
      ],
      "source": [
        "# Armamos el dataset utilizando salto de línea para separar las oraciones/docs\n",
        "df = pd.read_csv('songs_dataset/michael-jackson.txt', sep='/n', header=None)\n",
        "df.head()"
      ]
    },
    {
      "cell_type": "markdown",
      "metadata": {
        "id": "VeMpWpiyG5Ya"
      },
      "source": [
        "Consideraremos que cada secuencia para este dataset es un verso.\n",
        "\n",
        "Una de las primeras decisiones que hay que tomar es el tamaño de contexto de tokens máximo que puede consumir el modelo. Este podría ser un hiperparámetro del problema.\n",
        "\n",
        "Para elegir el tamaño de contexto máximo para este problema se puede explorar el dataset, para ello:\n",
        "- se consideran las palabras como términos.\n",
        "- se segmentará el texto de todos los versos del dataset y ses explorará la cantidad de términos presentes.\n",
        "\n"
      ]
    },
    {
      "cell_type": "code",
      "execution_count": null,
      "metadata": {
        "colab": {
          "base_uri": "https://localhost:8080/"
        },
        "id": "riT898QlZnmF",
        "outputId": "606b14ea-527e-4813-c924-5c17dc182e94"
      },
      "outputs": [
        {
          "output_type": "stream",
          "name": "stdout",
          "text": [
            "Cantidad de documentos: 9484\n"
          ]
        }
      ],
      "source": [
        "print(\"Cantidad de documentos:\", df.shape[0])"
      ]
    },
    {
      "cell_type": "markdown",
      "metadata": {
        "id": "cP1JdiOIKQWi"
      },
      "source": [
        "### Elegir el tamaño del contexto"
      ]
    },
    {
      "cell_type": "code",
      "execution_count": null,
      "metadata": {
        "id": "m5FeTaGvbDbw"
      },
      "outputs": [],
      "source": [
        "# Usaremos las utilidades de procesamiento de textos y secuencias de Keras\n",
        "from tensorflow.keras.preprocessing.text import Tokenizer # equivalente a ltokenizer de nltk\n",
        "from tensorflow.keras.preprocessing.text import text_to_word_sequence # equivalente a word_tokenize de nltk\n",
        "from tensorflow.keras.utils import pad_sequences # se utilizará para padding\n"
      ]
    },
    {
      "cell_type": "code",
      "execution_count": null,
      "metadata": {
        "colab": {
          "base_uri": "https://localhost:8080/"
        },
        "id": "jveeyMVKHn9J",
        "outputId": "deb3029e-263c-4305-f158-9f405c93d28c"
      },
      "outputs": [
        {
          "output_type": "execute_result",
          "data": {
            "text/plain": [
              "['[Spoken Intro:]',\n",
              " 'You ever want something',\n",
              " \"that you know you shouldn't have\",\n",
              " \"The more you know you shouldn't have it,\",\n",
              " 'The more you want it',\n",
              " 'And then one day you get it,',\n",
              " \"It's so good too\",\n",
              " \"But it's just like my girl\",\n",
              " \"When she's around me\",\n",
              " 'I just feel so good, so good',\n",
              " 'But right now I just feel cold, so cold',\n",
              " 'Right down to my bones',\n",
              " \"'Cause ooh...\",\n",
              " \"Ain't no sunshine when she's gone\",\n",
              " \"It's not warm when she's away\",\n",
              " \"Ain't no sunshine when she's gone\",\n",
              " \"And she's always gone too long\",\n",
              " 'Anytime she goes away',\n",
              " \"Wonder this time where she's gone\",\n",
              " \"Wonder if she's gone to stay\",\n",
              " \"Ain't no sunshine when she's gone\",\n",
              " \"And this house just ain't no home\",\n",
              " 'Anytime she goes away',\n",
              " 'I know, I know, I know, I know,',\n",
              " 'I know, know, know, know, know,',\n",
              " 'I know, I know,',\n",
              " 'Hey I ought to leave',\n",
              " 'I ought to leave her alone',\n",
              " \"Ain't no sunshine when she's gone\",\n",
              " \"Ain't no sunshine when she's gone\",\n",
              " 'Only darkness every day',\n",
              " \"Ain't no sunshine when she's gone\",\n",
              " \"And this house just ain't no home\",\n",
              " 'Anytime she goes away',\n",
              " 'Can it be I stayed away too long',\n",
              " 'Did I leave your mind when I was gone',\n",
              " \"It's not my thing trying to get back\",\n",
              " \"But this time let me tell you where I'm at\",\n",
              " \"You don't have to worry 'cause I'm coming\",\n",
              " 'Back to where I should have always stayed',\n",
              " \"And now I've heard the maybe to your story\",\n",
              " \"And it's enough love for me to stay\",\n",
              " 'Can it be I stayed away too long',\n",
              " 'Did I leave your mind when I was gone',\n",
              " \"It's not my thing trying to get back\",\n",
              " \"But this time let me tell you where I'm at\",\n",
              " '[Chorus:]',\n",
              " 'I wanna, wanna be where you are',\n",
              " 'Anywhere you are',\n",
              " 'I wanna, wanna be where you are',\n",
              " 'Everywhere you are',\n",
              " '[Bridge:]',\n",
              " \"Please don't close the door to our future\",\n",
              " \"There's so many things we haven't tried\",\n",
              " 'I could love you better than I used to',\n",
              " 'And give you all the love I have inside',\n",
              " '[Chorus:]',\n",
              " 'I wanna, wanna be where you are',\n",
              " 'Any, any, anywhere you are',\n",
              " 'I wanna, wanna be where you are',\n",
              " 'I gotta be where you are',\n",
              " 'Oooh',\n",
              " \"Foolish of me, I couldn't see\",\n",
              " 'The forest for the trees',\n",
              " \"You've been so true\",\n",
              " \"I've been so cruel to you\",\n",
              " \"Oh, girl please don't leave me\",\n",
              " '[Chorus:]',\n",
              " \"If you stay I'll find a way\",\n",
              " 'To erase the past',\n",
              " \"Baby don't leave me\",\n",
              " \"Girl don't take your love from me\",\n",
              " 'Oh girl',\n",
              " 'What can I say to make you stay',\n",
              " \"Baby, don't leave me\",\n",
              " \"You've been so kind\",\n",
              " 'It blows my mind to know',\n",
              " 'Oh girl, I really hurt you',\n",
              " '[Chorus:]',\n",
              " \"Tell me girl, it's not to late\",\n",
              " 'And you give me a chance',\n",
              " 'To make it up to you',\n",
              " \"Don't take your love from me\",\n",
              " \"Girl don't take your love\",\n",
              " \"Don't take your love\",\n",
              " '[Bridge:]',\n",
              " 'Girl, if you take your love away from me',\n",
              " \"I'm gonna be in misery\",\n",
              " 'Your love is the strength that I lean upon',\n",
              " \"How will I make it when it's gone\",\n",
              " 'Of all the little things I wanted to say....',\n",
              " '...I really wanted to do',\n",
              " 'Girl , this time...',\n",
              " 'Ooh, oh girl I really mean it',\n",
              " '[Chorus:]',\n",
              " \"So tell me girl, it's not too late\",\n",
              " \"And you'll give me a chance\",\n",
              " 'To make it up to you',\n",
              " \"Don't take your love from me\",\n",
              " \"Don't take your love, no no no no no\",\n",
              " \"Don't take your love\",\n",
              " \"Don't leave me girl\",\n",
              " \"Don't take your love from me\",\n",
              " \"Baby, don't take your love from me\",\n",
              " \"Don't take your love from me\",\n",
              " \"Oooh, don't take your love from me\",\n",
              " \"Baby, don't take your love from me\",\n",
              " '[Refrain]',\n",
              " \"Maybe you and I can't do great things\",\n",
              " 'We may not change the world in one day',\n",
              " 'But we still can change some things today...',\n",
              " 'In our small way',\n",
              " 'Empty words are not enough',\n",
              " \"Where there's hurt we'll be a crush\",\n",
              " \"When there's thirst we'll fill each other's cup\",\n",
              " 'Because we care we love enough to share',\n",
              " '[Refrain]',\n",
              " \"Maybe you and I can't do great things\",\n",
              " 'We may not change the world in one day',\n",
              " 'But we still can change some things today...',\n",
              " 'In our small way',\n",
              " \"In despair we'll be the hope\",\n",
              " 'And the prayer that frees the soul',\n",
              " \"We'll be there to share each lonely road\",\n",
              " 'Because we love, I know',\n",
              " 'We care enough',\n",
              " '[Refrain]',\n",
              " \"Maybe you and I can't do great things\",\n",
              " 'We may not change the world in one day',\n",
              " 'But we still can change some things today...',\n",
              " 'In our small way',\n",
              " 'Just a little time is all it takes',\n",
              " \"What a difference just a smile can make, you'll see\",\n",
              " 'Love is all we need',\n",
              " '[Refrain]',\n",
              " \"Maybe you and I can't do great things\",\n",
              " 'We may not change the world in one day',\n",
              " 'But we still can change some things today...',\n",
              " 'In our small way',\n",
              " 'Got to be there, got to be there',\n",
              " 'In the morning',\n",
              " 'When she says hello to the world',\n",
              " 'Got to be there, got to be there',\n",
              " 'Bring her good times',\n",
              " \"And show her that she's my girl\",\n",
              " \"Oh what a feeling there'll be\",\n",
              " 'The moment I know she loves me',\n",
              " \"'Cause when I look in her eyes I realize\",\n",
              " 'I need her sharing her world beside me',\n",
              " \"So I've got to be there\",\n",
              " 'Got to be there in the morning',\n",
              " 'And welcome her into my world',\n",
              " 'And show her that she is my girl',\n",
              " 'When she says, \"Hello world!\"',\n",
              " 'I need her sharing the world beside me',\n",
              " \"That's why I've got to be there\",\n",
              " 'Got to be there where love begins',\n",
              " \"And that's everywhere she goes\",\n",
              " \"I've got to be there so she knows\",\n",
              " \"That when she's with me, she's home\",\n",
              " 'Got to be there',\n",
              " 'Got to be there',\n",
              " 'He rocks in the tree tops all day long',\n",
              " \"Hoppin' and a-boppin' and singing his song\",\n",
              " 'All the little birdies on Jaybird Street',\n",
              " 'Love to hear the robin go tweet tweet tweet',\n",
              " '[Chorus:]',\n",
              " \"Rockin' robin, rock rock\",\n",
              " \"Rockin' robin'\",\n",
              " \"Blow rockin' robin\",\n",
              " \"'Cause we're really gonna rock tonight\",\n",
              " 'Every little swallow, every chick-a-dee',\n",
              " 'Every little bird in the tall oak tree',\n",
              " 'The wise old owl, the big black crow',\n",
              " \"Flappin' their wings singing go bird go\",\n",
              " '[Chorus]',\n",
              " 'Pretty little raven at the bird-band stand',\n",
              " 'Told them how to do the bop and it was grand',\n",
              " 'They started going steady and bless my soul',\n",
              " 'He out-bopped the buzzard and the oriol',\n",
              " 'He rocks in the tree tops all day long',\n",
              " \"Hoppin' and a-boppin' and singing his song\",\n",
              " 'All the little birdies on Jaybird Street',\n",
              " 'Love to hear the robin go tweet tweet tweet',\n",
              " '[Chorus]',\n",
              " 'When this old world gets you down',\n",
              " \"When your spirit's on the ground\",\n",
              " 'Just remember I will always be around',\n",
              " 'Just climb on the wings of my love',\n",
              " \"I'll take you high on the wings of my love\",\n",
              " \"When you're feeling all alone\",\n",
              " \"Like a child who's got no home\",\n",
              " \"You know you've always got a place where you can go\",\n",
              " 'Just climb on the wings of my love',\n",
              " 'Like a beach that knows no boundaries with all the trees',\n",
              " \"As it rushes to the seas darling we'll be just as free\",\n",
              " \"I'll lift your spirits high our love will fly\",\n",
              " \"We'll have heaven blue skies and forever sunshine\",\n",
              " \"'Til you break those ties that bind\",\n",
              " \"'Til that day you're really mine\",\n",
              " 'Anytime you want to leave your world behind',\n",
              " 'Just climb on the wings of my love',\n",
              " \"I'll lift your spirits high our love will fly\",\n",
              " \"We'll have heaven blue skies and forever sunshine\",\n",
              " \"We've got rainbows yet to find\",\n",
              " \"And we'll find them all in time\",\n",
              " \"Girl you know someday we'll even touch the sky\",\n",
              " 'Just climb on the wings of my love',\n",
              " 'Anytime you want to leave your world behind',\n",
              " \"I'll take you high on the wings of my love\",\n",
              " \"Just take my hand and together we'll touch the sky\",\n",
              " 'Just climb on the wings of my love',\n",
              " 'Yes remember I will always be around',\n",
              " \"I'll take you high on the wings of my love\",\n",
              " 'Maria hey hey Maria',\n",
              " \"Maria don't you hear me calling Maria\",\n",
              " 'Maria girl you know you were the only one',\n",
              " 'Hey hey Maria',\n",
              " \"Maria don't you miss me just a little\",\n",
              " 'Maria after all you were the only one',\n",
              " 'Come on back to me Maria',\n",
              " 'Maria come on back to me girl',\n",
              " 'Hey hey Maria',\n",
              " \"Maria it's been long so long\",\n",
              " \"Maria since you've been gone\",\n",
              " 'Hey hey Maria',\n",
              " \"Maria don't you need me just a little\",\n",
              " \"Maria 'cause honest girl you were the only one\",\n",
              " 'Come on back to me Maria',\n",
              " 'Oh come on back to me girl',\n",
              " 'Maria I need you',\n",
              " \"Maria why d'you keep a-running away\",\n",
              " 'Oh baby you keep a-running away',\n",
              " 'Oh baby yeah Maria',\n",
              " 'I need you honey',\n",
              " 'Oh Maria you sweet little sunflower',\n",
              " 'Oh hear my plea for sympathy',\n",
              " 'I just want you here with me Maria',\n",
              " \"If you're on that lonely night\",\n",
              " \"What's my life without you girl\",\n",
              " \"I'm so lonely I'm so blue\",\n",
              " 'Without you darling my life is through',\n",
              " 'Come on back',\n",
              " 'Love is here',\n",
              " \"And oh my darling, now you're gone\",\n",
              " 'Love is here',\n",
              " \"And oh my darling, now you're gone\",\n",
              " 'You persuaded me to love you',\n",
              " 'And I did',\n",
              " 'But instead of tendeness',\n",
              " 'I found heartache instead',\n",
              " 'Into your arms I fell',\n",
              " 'So unaware of the lonelyness',\n",
              " 'Thar was waiting there',\n",
              " '[Spoken:]',\n",
              " 'You closed the door to your heart, girl',\n",
              " 'And you turned the key',\n",
              " 'Locked your love away from me',\n",
              " 'Love is here',\n",
              " \"And oh my darling, now you're gone\",\n",
              " 'You made me love you',\n",
              " \"And oh my darling, now you're gone\",\n",
              " 'You said loving you',\n",
              " 'Would make life beautiful',\n",
              " 'With each passing day',\n",
              " 'But as soon as love came',\n",
              " 'Into my heart',\n",
              " 'You turned and you walked',\n",
              " 'Just walked away',\n",
              " '[Spoken:]',\n",
              " 'You stripped me of my dreams',\n",
              " 'You gave me faith, then you took my hope',\n",
              " 'Look at me now',\n",
              " 'Look at me',\n",
              " 'See what loving has done to me',\n",
              " 'Look at my face',\n",
              " \"See how cryin' has left its trace\",\n",
              " 'After you made me all your own',\n",
              " 'Then you left me all alone',\n",
              " 'You made your words sound so sweet',\n",
              " \"Knowing that your love I couldn't keep\",\n",
              " '[Spoken:]',\n",
              " 'My heart cries out for your tuch',\n",
              " \"But baby, you're not there\",\n",
              " 'And the lonely cry fades in the air',\n",
              " 'Love is here',\n",
              " \"And oh my darling, now you're gone\",\n",
              " 'Love is here',\n",
              " \"And oh my darling, now you're gone\",\n",
              " 'You made me love you',\n",
              " \"Oh oh my darling, now you're gone\",\n",
              " \"Talking 'bout love, love, love, love,\",\n",
              " \"Ooh ooh my darling, now you're gone\",\n",
              " \"When you're down and trubled\",\n",
              " 'And you need some love and care',\n",
              " \"And nothin', no nothin' is goin' right\",\n",
              " 'Just close your eyes and think of me',\n",
              " \"And soon I'll be there to brighten up\",\n",
              " 'Yeah, even your darkest night',\n",
              " 'You just call out my name',\n",
              " 'And you know, wherever I am',\n",
              " \"I'll come a-runnin'\",\n",
              " 'To see you again',\n",
              " '[Chorus:]',\n",
              " 'Winter, spring, summer or fall',\n",
              " 'All you have to do is call',\n",
              " \"And I'll be there, yeah I will\",\n",
              " \"You've got a friend\",\n",
              " 'When the sky above you',\n",
              " 'Grows dark and full of clouds',\n",
              " 'And that old north wind',\n",
              " 'He begins to blow',\n",
              " \"Here's what you do baby\",\n",
              " 'Keep your head together',\n",
              " 'And call my name out loud',\n",
              " \"And soon you'll hear me\",\n",
              " \"Knockin' at your door\",\n",
              " 'Oh yes I will, yes I will',\n",
              " 'You just call out my name',\n",
              " 'And you know, wherever I am',\n",
              " \"I'll come a-runnin'\",\n",
              " 'To see you again',\n",
              " '[Chorus]',\n",
              " \"Ain't it good to know\",\n",
              " \"That you've got a friend\",\n",
              " 'People can be so cold',\n",
              " \"They'll hurt you and desert you\",\n",
              " 'And take your soul if you let them',\n",
              " \"Oh, don't let them\",\n",
              " '[Chorus:]',\n",
              " 'Winter, spring, summer or fall',\n",
              " 'All you have to do is call',\n",
              " \"And I'll be there, yes I will\",\n",
              " \"You've got a friend, yes you do\",\n",
              " \"You've got a friend, yes you do\",\n",
              " 'Right till the end, for you',\n",
              " \"Ain't it good to know\",\n",
              " 'Ben, the two of us need look no more',\n",
              " 'We both found what we were looking for',\n",
              " 'With a friend to call my own',\n",
              " \"I'll never be alone\",\n",
              " 'And you my friend will see',\n",
              " \"You've got a friend in me\",\n",
              " \"(You've got a friend in me)\",\n",
              " \"Ben, you're always running here and there\",\n",
              " '(Here and there)',\n",
              " \"You feel you're not wanted anywhere\",\n",
              " '(Anywhere)',\n",
              " 'If you ever look behind',\n",
              " \"And don't like what you find\",\n",
              " \"There's something you should know\",\n",
              " \"You've got a place to go\",\n",
              " \"(You've got a place to go)\",\n",
              " 'I used to say \"I\" and \"me\"',\n",
              " 'Now it\\'s \"us\", now it\\'s \"we\"',\n",
              " 'I used to say \"I\" and \"me\"',\n",
              " 'Now it\\'s \"us\", now it\\'s \"we\"',\n",
              " 'Ben, most people would turn you away',\n",
              " \"I don't listen to a word they say\",\n",
              " \"They don't see you as I do\",\n",
              " 'I wish they would try to',\n",
              " \"I'm sure they'd think again\",\n",
              " 'If they had a friend like Ben',\n",
              " '(A friend)',\n",
              " 'Like Ben',\n",
              " '(Like Ben)',\n",
              " 'Like Ben',\n",
              " 'Love is like a circus and a carnival is beautiful to see',\n",
              " 'Love can turn your mind around like ferris wheels and spinning carosels',\n",
              " \"You'll be a part of the world of make believe\",\n",
              " 'Flying high like a man on a trapeze',\n",
              " 'Oh, everyday is a holiday',\n",
              " 'Get your tickets right away',\n",
              " 'Love, love, love',\n",
              " 'Is the Greatest Show on Earth',\n",
              " 'The fantasy you see is like a child again through rainbow colored eyes',\n",
              " 'Step right up its circus time and get your moneys worth of love today',\n",
              " \"You'll be a part of the world of make believe\",\n",
              " 'Flying high like a man on a trapeze',\n",
              " 'Everyday is a holiday',\n",
              " 'Get your tickets right away',\n",
              " 'Love, love, yea',\n",
              " 'Is the Greatest Show on Earth',\n",
              " 'Everyday is a holiday',\n",
              " 'Get your tickets right away',\n",
              " 'Love, love, love',\n",
              " 'Is the Greatest Show on Earth',\n",
              " 'Love, love, love',\n",
              " 'Is the greatest show on earth (yea e yea)',\n",
              " 'Love, love, yea',\n",
              " 'Is the greatest show on earth',\n",
              " 'Love, love, yea',\n",
              " 'People...',\n",
              " \"('Round and 'round and around...)\",\n",
              " \"People make the world go 'round\",\n",
              " \"('Round and 'round and around...)\",\n",
              " 'Teachers on strike, no more school today',\n",
              " \"They want more money but the board won't pay\",\n",
              " 'People',\n",
              " \"Everybody's talkin' 'bout ecology\",\n",
              " \"The air's so polluted that it's hard to breathe\",\n",
              " 'People',\n",
              " '[Refrain]',\n",
              " \"But that's what makes the world go round\",\n",
              " 'The ups and downs a carousel',\n",
              " \"Changing people's heads around\",\n",
              " 'Go underground young men...',\n",
              " 'People make the world go round...',\n",
              " 'Old folks judge you by the clothes you wear',\n",
              " \"They'd swear you're a hippy if you have long hair\",\n",
              " 'Young politicians fight for poverty',\n",
              " 'While people still cry for equality',\n",
              " '[Refrain]',\n",
              " \"But that's what makes the world go round\",\n",
              " 'The ups and downs a carousel',\n",
              " \"Changing people's heads around\",\n",
              " 'Go underground young men...',\n",
              " 'People make the world go round...',\n",
              " '[Instrumental]',\n",
              " '[Refrain]',\n",
              " \"But that's what makes the world go round\",\n",
              " 'The ups and downs a carousel',\n",
              " \"Changing people's heads around\",\n",
              " 'Go underground young men...',\n",
              " 'People make the world go round...',\n",
              " 'Bad news, bad news!',\n",
              " \"I heard you're packing to leave!\",\n",
              " 'I come running right over',\n",
              " \"I just couldn't believe it\",\n",
              " \"I couldn't believe it\",\n",
              " '[Refrain]',\n",
              " 'Oh baby, baby',\n",
              " 'You must be out of your mind',\n",
              " \"Do you know what you're kicking away?\",\n",
              " \"We've got a good thing goin', baby\",\n",
              " \"We've got a groovy thing\",\n",
              " \"I've never done you no wrong\",\n",
              " \"I never hit you when you're down\",\n",
              " 'I always gave you good thing',\n",
              " 'I never ran around',\n",
              " 'I never ran around',\n",
              " '[Refrain]',\n",
              " 'Oh baby, baby',\n",
              " 'You must be out of your mind',\n",
              " \"Do you know what you're kicking away?\",\n",
              " \"We've got a good thing goin', baby\",\n",
              " \"We've got a groovy thing\",\n",
              " \"There's something you ought to know\",\n",
              " \"If you're fixing to go\",\n",
              " \"I can't make it without you\",\n",
              " 'No no no no, no no no no',\n",
              " 'No no no no, no no no no',\n",
              " '[Refrain]',\n",
              " 'Oh baby, baby',\n",
              " 'You must be out of your mind',\n",
              " \"Do you know what you're kicking away?\",\n",
              " \"We've got a good thing goin', baby\",\n",
              " \"We've got a groovy thing\",\n",
              " \"We've got a good thing goin', baby\",\n",
              " \"We've got a groovy thing\",\n",
              " \"Everybody's somebody's fool\",\n",
              " 'The world is the biggest school',\n",
              " 'As you live, you learn though a torch will burn',\n",
              " \"Everybody's somebody's fool\",\n",
              " 'You go through life making fools of others',\n",
              " \"Prentending you're giving them love\",\n",
              " 'But remember sister or brother',\n",
              " 'You all have to answer to the one u above',\n",
              " \"It's beautiful to watch love begin\",\n",
              " 'But oh so sad when it ends',\n",
              " 'As you got through life remember this rule',\n",
              " \"Everybody's somebody's fool\",\n",
              " \"It's beautiful to watch love begin\",\n",
              " 'But oh so sad when it ends',\n",
              " 'As you got through life remember this rule',\n",
              " \"Everybody's somebody's fool\",\n",
              " \"I've got sunshine\",\n",
              " 'On a cloudy day',\n",
              " \"When it's cold outside\",\n",
              " \"I've got the month of May\",\n",
              " \"I guess you'd say\",\n",
              " 'What can make me feel this way?',\n",
              " 'My girl',\n",
              " '(My girl, my girl)',\n",
              " \"Talkin' 'bout my girl\",\n",
              " '(My girl)',\n",
              " \"I've got so much honey\",\n",
              " 'the bees envy me',\n",
              " \"I've got a sweeter song than\",\n",
              " 'the birds in the trees',\n",
              " \"I guess you'll say\",\n",
              " 'What can make me feel this way?',\n",
              " 'My girl',\n",
              " '(My girl, my girl)',\n",
              " \"Talkin' 'bout my girl\",\n",
              " '(My girl)',\n",
              " 'Hey hey hey',\n",
              " 'Hey hey hey',\n",
              " 'Ooooh...',\n",
              " \"I don't need no money,\",\n",
              " 'fortune or fame',\n",
              " \"I've got all the riches baby\",\n",
              " 'one man can claim',\n",
              " \"Well I guess you'll say\",\n",
              " 'What can make me feel this way?',\n",
              " 'My girl',\n",
              " '(My girl, my girl)',\n",
              " \"Talkin' 'bout my girl\",\n",
              " '(My girl)',\n",
              " \"My pocket were full and now my money's gone\",\n",
              " \"My friends come around and now they're gone\",\n",
              " 'Things come and they come and then they go',\n",
              " 'And where they go nobody knows',\n",
              " '[Refrain]',\n",
              " \"It's gonna come around\",\n",
              " 'What goes around comes around',\n",
              " \"It's gonna come around\",\n",
              " 'What goes around comes around',\n",
              " 'My cup over runneth with the fullness and grace',\n",
              " 'Yet people push bullshit in my face',\n",
              " \"The future can't hold what your money can't buy\",\n",
              " 'My brother keep striving your child relies',\n",
              " '[Refrain]',\n",
              " \"It's gonna come around\",\n",
              " 'What goes around comes around',\n",
              " \"It's gonna come around\",\n",
              " 'What goes around comes around',\n",
              " 'The world keep on spinning does the future know?',\n",
              " \"We're destined to screw ourselves one blow\",\n",
              " \"We've ruined what's pure down from nature below?\",\n",
              " \"You'd better look back it'll all be gone\",\n",
              " '[Refrain]',\n",
              " \"It's gonna come around\",\n",
              " 'What goes around comes around',\n",
              " \"It's gonna come around\",\n",
              " 'What goes around comes around',\n",
              " 'So children please listen this world is yours',\n",
              " 'This message to deep to ignore',\n",
              " 'Your forefathers said but they did not do',\n",
              " 'The things that would show that they cared for you',\n",
              " '[Refrain]',\n",
              " \"It's gonna come around\",\n",
              " 'What goes around comes around',\n",
              " \"It's gonna come around\",\n",
              " 'What goes around comes around',\n",
              " 'Comes around, comes around, comes around',\n",
              " 'Comes around, comes around, comes around',\n",
              " 'Comes around, comes around, comes around',\n",
              " 'Comes around yeah',\n",
              " 'Gonna take you higher',\n",
              " \"I'm gonna take you higher\",\n",
              " \"I'm gonna take you higher\",\n",
              " 'Yeah yeah yeah',\n",
              " \"I'm gonna take you higher\",\n",
              " 'Gonna take you higher',\n",
              " 'Yeah yeah yeah',\n",
              " 'Gonna take you higher, higher',\n",
              " 'Higher, higher, higher, higher',\n",
              " 'Gonna take you higher',\n",
              " 'Gonna take you higher',\n",
              " '[Refrain]',\n",
              " \"Maybe you and I can't do great things\",\n",
              " 'We may not change the world in one day',\n",
              " 'But we still can change some things today...',\n",
              " 'In our small way',\n",
              " 'Empty words are not enough',\n",
              " \"Where there's hurt we'll be a crush\",\n",
              " \"When there's thirst we'll fill each other's cup\",\n",
              " 'Because we care we love enough to share',\n",
              " '[Refrain]',\n",
              " \"Maybe you and I can't do great things\",\n",
              " 'We may not change the world in one day',\n",
              " 'But we still can change some things today...',\n",
              " 'In our small way',\n",
              " \"In despair we'll be the hope\",\n",
              " 'And the prayer that frees the soul',\n",
              " \"We'll be there to share each lonely road\",\n",
              " 'Because we love, I know',\n",
              " 'We care enough',\n",
              " '[Refrain]',\n",
              " \"Maybe you and I can't do great things\",\n",
              " 'We may not change the world in one day',\n",
              " 'But we still can change some things today...',\n",
              " 'In our small way',\n",
              " 'Just a little time is all it takes',\n",
              " \"What a difference just a smile can make, you'll see\",\n",
              " 'Love is all we need',\n",
              " '[Refrain]',\n",
              " \"Maybe you and I can't do great things\",\n",
              " 'We may not change the world in one day',\n",
              " 'But we still can change some things today...',\n",
              " 'In our small way',\n",
              " \"Your precious sweetheart, she's so faithful\",\n",
              " \"She's so true, oh yeah\",\n",
              " \"Her dreams are tumblin'\",\n",
              " \"Her world is crumblin'\",\n",
              " 'Because of you, uh uh',\n",
              " \"One day you'll hurt her just once too much\",\n",
              " 'And when you finally lose your tender touch',\n",
              " '[Refrain]',\n",
              " 'Shoo-be-doo-be-doo-be-doo-da-day',\n",
              " 'Her feet may wander, her heart may stray',\n",
              " 'Shoo-be-doo-be-doo-be-doo-da-day',\n",
              " 'You gonna send your baby straight to me',\n",
              " \"I'm gonna give her all the lovin'\",\n",
              " 'Within my heart, oh yeah',\n",
              " \"I'm gonna patch up every single little dream\",\n",
              " 'You torn apart, understand me now?',\n",
              " \"And when she tells you she's cried her last tear\",\n",
              " \"Heaven knows I'm gonna be somewhere near\",\n",
              " '[Refrain]',\n",
              " 'Shoo-be-doo-be-doo-be-doo-da-day',\n",
              " 'Her feet may wander, her heart may stray',\n",
              " 'Shoo-be-doo-be-doo-be-doo-da-day',\n",
              " 'You gonna send your baby straight to me',\n",
              " 'Oh yeah-yeah, you better',\n",
              " 'You better listen to me, yeah',\n",
              " \"Heartaches are callin' and tears are fallin'\",\n",
              " 'Because of you, oh yeah',\n",
              " \"And when you're gone she'll know\",\n",
              " \"I'm the one to go to her rescue\",\n",
              " \"Maybe you didn't know that baby\",\n",
              " \"You're gonna leave her one too many times\",\n",
              " 'And when you come back that',\n",
              " \"Girl's gonna be mine, all mine\",\n",
              " 'Just because you know I love you so much',\n",
              " \"Don't be afraid to tell me you're sad\",\n",
              " 'Because you lost his love',\n",
              " 'Though your love is not for me',\n",
              " \"I don't wanna see you in mysery, so come on, baby come on\",\n",
              " '[Refrain]',\n",
              " 'You can cry on my shoulder...',\n",
              " 'You can cry on my shoulder',\n",
              " 'And bring all your troubles to me',\n",
              " 'All your troubles to me',\n",
              " \"Big girls ain't supposed to cry,\",\n",
              " \"If you do I'll understand,\",\n",
              " 'Maybe I can show you how you can win his love again',\n",
              " 'It may seem strange I know',\n",
              " \"But it's just that I love you\",\n",
              " 'So come on, baby come on',\n",
              " '[Refrain]',\n",
              " 'You can cry on my shoulder',\n",
              " 'You can cry on my shoulder',\n",
              " 'And bring all your troubles to me.',\n",
              " 'All your troubles to me',\n",
              " \"Girl you've given him all you had\",\n",
              " 'He,d better stop treating you so bad,',\n",
              " 'Come on babe, come on, oh yeah',\n",
              " '[Refrain]',\n",
              " 'You can cry on my shoulder, yes you can girl',\n",
              " 'You can cry on my shoulder',\n",
              " 'And bring all your troubles to me, yeah babe, yes you can now',\n",
              " 'Darling, ooooh, oooooooh yes, yes you can girl...',\n",
              " \"I'll be there to help,\",\n",
              " 'You can cry, you can cry, you can cry',\n",
              " 'Baby',\n",
              " '(You can cry on my shoulder)',\n",
              " 'Ooooooh yeah babe, yeah babe',\n",
              " '(You can cry on my shoulder)',\n",
              " 'You can cry, you can cry...',\n",
              " \"With A Child's Heart\",\n",
              " 'Go face the worries of the day',\n",
              " \"With a child's heart\",\n",
              " 'Turn each problem into play',\n",
              " 'No need to worry no need to fear',\n",
              " 'Just being alive makes it all so very clear',\n",
              " \"With a child's heart\",\n",
              " 'Nothing can ever get you down',\n",
              " \"With a child's heart\",\n",
              " \"You've got no reason to frown\",\n",
              " 'Love is as welcome',\n",
              " 'As a sunny sunny day',\n",
              " 'No grown-up thoughts',\n",
              " 'To lead our hearts astray',\n",
              " 'Take life easy, so easy nice and easy',\n",
              " 'Like a child so gay and so carefree',\n",
              " 'The whole world smiles with you',\n",
              " 'As you go your merry way',\n",
              " \"Oh with a child's heart\",\n",
              " \"Nothing's gonna get me down\",\n",
              " 'Into each life some rain falls',\n",
              " 'Then comes the snow',\n",
              " 'But after the snow',\n",
              " 'The flowers will grow',\n",
              " 'Girl when my life got stormy',\n",
              " 'You stayed for the ride',\n",
              " 'You stayed my side',\n",
              " 'You make the sun shine',\n",
              " '[Refrain]',\n",
              " \"I'm up again I never let you down\",\n",
              " \"Nothing's ever gonna stop me now\",\n",
              " 'Up again I never let you down',\n",
              " 'I love you',\n",
              " \"This Humpty Dumpty's lucky\",\n",
              " \"He's had his fall\",\n",
              " 'But after it all',\n",
              " 'He brushed himself off',\n",
              " 'Knowing how much you loved me',\n",
              " 'I made one more try',\n",
              " 'I reached for the sky',\n",
              " 'And I made it this time',\n",
              " '[Refrain]',\n",
              " \"I'm up again I never let you down\",\n",
              " \"Nothing's ever gonna stop me now\",\n",
              " 'Up again I never let you down',\n",
              " 'I love you',\n",
              " 'You are the promised kiss of springtime',\n",
              " 'That makes the lonely winter seem long',\n",
              " 'You are the breathless hush of evening',\n",
              " 'That trembles on the brink of a lovely song',\n",
              " 'You are the angel glow that lights a star',\n",
              " 'The dearest things I know are what you are',\n",
              " 'Some day my happy arms will hold you',\n",
              " \"And some day I'll know that moment divine\",\n",
              " 'When all the things you are, are mine',\n",
              " 'You are the angel glow that lights a star',\n",
              " 'The dearest things I know are what you are',\n",
              " 'Some, some, some, some, day',\n",
              " 'My happy arms will hold you',\n",
              " \"And some day I'll know that moment divine\",\n",
              " 'When all the things you are, are mine',\n",
              " 'yeah yeah, all the things you are, are mine',\n",
              " 'all the things you are, got to be mine',\n",
              " 'Some day you are, are mine',\n",
              " 'all the things you are, got to be mine',\n",
              " 'all the things you are, got to be mine',\n",
              " '[fade out]',\n",
              " 'Sadness had been close as my next of kin',\n",
              " 'Then Happy came one day, chased my blues away',\n",
              " 'My life began when Happy smiled',\n",
              " 'Sweet, like candy to a child',\n",
              " 'Stay here and love me just a while',\n",
              " 'Let sadness see what Happy does',\n",
              " 'Let Happy be where Sadness was',\n",
              " \"Happy, that's you\",\n",
              " 'You made my life brand new',\n",
              " 'Lost as a little lam was I, till you came in',\n",
              " 'My life began when Happy smiled',\n",
              " 'Sweet, like candy to a child',\n",
              " 'Stay here and love me just a while',\n",
              " 'Let sadness see what Happy does',\n",
              " 'Let Happy be where Sadness was',\n",
              " '(Till now)',\n",
              " 'Where have I been?',\n",
              " 'What lifetime was I in?',\n",
              " 'Suspended between time and space',\n",
              " 'Lonely until Happy came smiling up at me',\n",
              " 'Sadness had no choice but to flee',\n",
              " 'I said a prayer so silently',\n",
              " 'Let Sadness see what Happy does',\n",
              " 'Let Happy be where Sadness was',\n",
              " 'Till now',\n",
              " 'Happy, yeah yeah',\n",
              " 'Happy, oehoe happy',\n",
              " 'happy oh yeah Happy',\n",
              " '[fade out]',\n",
              " \"They try to tell us we're too young\",\n",
              " 'Too young to really be in love',\n",
              " \"They say that love's a word\",\n",
              " \"A word we've only heard\",\n",
              " \"But can't begin to know the meaning of\",\n",
              " \"And yet we're not too young to know\",\n",
              " 'This love will last though years may go',\n",
              " 'And then someday they may recall',\n",
              " 'We were not to young at all',\n",
              " \"They try to tell us we're too young\",\n",
              " 'Too young to really be in love',\n",
              " \"And yet we're not too young to know\",\n",
              " 'This love will last though years may go',\n",
              " 'And then someday they may recall',\n",
              " 'We were not to young at all',\n",
              " 'You better stop',\n",
              " \"Your doggin' around\",\n",
              " 'Yeah, yeah, yeah, yeah',\n",
              " \"'Cause if you don't stop\",\n",
              " \"I'm gonna have to put you down\",\n",
              " \"I can't take it much longer\",\n",
              " \"My heart's getting weak\",\n",
              " \"It's not getting any stronger\",\n",
              " 'You keep me so upset',\n",
              " \"My head's in a whirl\",\n",
              " 'But if you wanna be, yeah',\n",
              " 'Be my girl',\n",
              " 'You better stop',\n",
              " \"Your doggin' around\",\n",
              " \"You know what I'm talkin' about\",\n",
              " 'Yeah, yeah, yeah',\n",
              " \"If you don't stop\",\n",
              " \"I'm gonna have to put you down\",\n",
              " 'Baby, yes I do, yes I do',\n",
              " 'Gonna, gonna put you down',\n",
              " \"You're doggin' me [repeat 7x]\",\n",
              " \"I'm gonna have to put you down Yeah\",\n",
              " \"Yes you do, you're doggin' me [repeat 3x]\",\n",
              " 'You better stop',\n",
              " \"Your doggin' me around\",\n",
              " \"Free and untamed that's how I've grown\",\n",
              " \"(It's Johnny Raven)\",\n",
              " \"Settling down ain't my nature\",\n",
              " \"Roots I'll never own\",\n",
              " \"(It's Johnny Raven)\",\n",
              " 'Oh your smile',\n",
              " \"But tell me, ain't your child\",\n",
              " 'How can you cage a bird',\n",
              " 'Born to be wild',\n",
              " 'Refrain',\n",
              " \"I'm Johnny Raven\",\n",
              " \"(He's Johnny Raven)\",\n",
              " 'by and by (By and By)',\n",
              " \"Oh, I'm going to leave your nest girl\",\n",
              " 'Another nest to try',\n",
              " 'Ooh Johnny Raven',\n",
              " \"Girl you know I shouldn't have loved you\",\n",
              " 'Yeah, but I gotta leave you',\n",
              " 'When my restless heart says goodbye',\n",
              " 'Look at you little girl',\n",
              " 'You feel love so deep',\n",
              " \"(It's Johnny Raven)\",\n",
              " 'If I could change in a second',\n",
              " \"I'd change for you like that\",\n",
              " 'Stay right here for keeps',\n",
              " \"(It's Johnny Raven)\",\n",
              " \"But I'm home free for no thrills\",\n",
              " 'Stray I will',\n",
              " 'Seems I gotta need one girl',\n",
              " 'Never can feel',\n",
              " 'Refrain',\n",
              " \"Yeah I'm Johnny Raven\",\n",
              " \"(It's Johnny Raven)\",\n",
              " 'by and by',\n",
              " \"Oh, I'm going to leave yoour nest girl\",\n",
              " 'Another nest to try',\n",
              " 'Ooh Johnny Raven',\n",
              " \"Girl you know I shouldn't have loved you\",\n",
              " 'Yeah, but I gotta leave you',\n",
              " 'When my restless heart says goodbye',\n",
              " 'Everybody knows my name',\n",
              " \"I'm Johnny Raven\",\n",
              " \"(It's Johnny Raven)\",\n",
              " 'yeah, yeah by abd by',\n",
              " \"(It's Johnny Raven)\",\n",
              " \"I'm gonna fly\",\n",
              " \"When you cry part of me's gonna die\",\n",
              " 'Love, Love, Love,Love',\n",
              " 'Love, Love, Love,Love',\n",
              " 'Love, Love, Love,Love',\n",
              " 'Love, Love, Love,Love',\n",
              " 'Euphoria, Euphoria, Euphoria,Euphoria',\n",
              " 'E-U-P-H-O-R-I-A',\n",
              " \"That's the new word for today\",\n",
              " 'E-U-P-H-O-R-I-A',\n",
              " \"It's very easy to say\",\n",
              " \"Say Euphoria and you'll feel fine from the start\",\n",
              " 'You can close your eyes',\n",
              " 'And see the world with your heart',\n",
              " 'Do what you wish, be what you are',\n",
              " 'What a victorious thrill',\n",
              " 'Wearing a smile, all of the while',\n",
              " 'Feeling the world standing still',\n",
              " 'Watch raindbows glow rest on a bed of flowers',\n",
              " 'Then dial a star',\n",
              " \"Anything's in your powers\",\n",
              " 'E-U-P-H-O-R-I-A',\n",
              " 'Full euphoria',\n",
              " 'Knowing no ills, needing no pills',\n",
              " 'Singing a rock and roll hymn',\n",
              " 'Feeling glorious, full of love',\n",
              " 'Fine from the start',\n",
              " 'You can close your eyes',\n",
              " 'And see the world with your heart',\n",
              " 'How good to be happy and free',\n",
              " 'Living the way that you choose',\n",
              " 'Healthly and clean',\n",
              " \"Can't understand anyone having the blues\",\n",
              " 'Euphoria never to feel frustration',\n",
              " 'How great to give love without invitation',\n",
              " 'Euphoria, euphoria',\n",
              " 'Long as we love each other',\n",
              " 'Euphoria, euphoria',\n",
              " 'Living for one another',\n",
              " 'Euphoria, euphoria',\n",
              " \"That's one word for heaven\",\n",
              " 'Euphoria, euphoria',\n",
              " 'living your live as Heaven',\n",
              " 'Morning glow, morning glow',\n",
              " 'Starts to glimmer when you know',\n",
              " 'Winds of change are set to blow',\n",
              " 'And sweep this whole land through',\n",
              " 'Morning glow is long past due',\n",
              " 'Morning glow fill the earth',\n",
              " \"Come on shine far all you're worth\",\n",
              " \"We'll be present at the birth\",\n",
              " 'Of all faith looking new',\n",
              " 'Morning glow is long past due',\n",
              " 'Oh oh morning glow',\n",
              " \"I'd like to help you grow\",\n",
              " 'You should have started long ago',\n",
              " 'Morning glow all days long',\n",
              " \"For we sing tomorrow's song\",\n",
              " 'Never knew we could be so strong',\n",
              " \"But now it's very clear\",\n",
              " 'Morning glow is almost here',\n",
              " 'Oh oh morning glow',\n",
              " \"I'd like to help you grow\",\n",
              " 'We should have started long ago',\n",
              " 'Morning glow all of your life',\n",
              " 'We can make the new day right',\n",
              " 'All the bad songs of the night',\n",
              " 'Will fade into the past',\n",
              " 'Morning glow is here at last',\n",
              " \"We've been together for such a long time now\",\n",
              " 'Music, music and me',\n",
              " \"Don't care wether all our songs rhyme\",\n",
              " 'Now music, music and me',\n",
              " 'Only know wherever I go',\n",
              " \"We're as close as two friends can be\",\n",
              " 'There have been others',\n",
              " 'But never two lovers',\n",
              " 'Like music, music and me',\n",
              " 'Grab a song and come along',\n",
              " 'You can sing your melody',\n",
              " 'In your mind you will find',\n",
              " 'A world of sweet harmony',\n",
              " 'Birds of a feather will fly together',\n",
              " 'Now music, music and me',\n",
              " 'Music and me',\n",
              " 'No matter how hard',\n",
              " 'The task may seem',\n",
              " \"Don't give up our plans\",\n",
              " \"Don't give up our dreams\",\n",
              " 'No broken bridges',\n",
              " 'Can turn us around',\n",
              " \"Cause what we're searchin' for\",\n",
              " 'Will soon be found',\n",
              " '[Refrain]',\n",
              " \"Cause we're almost there\",\n",
              " 'Just one more step',\n",
              " \"(Cause we're almost there)\",\n",
              " 'Just one more step',\n",
              " '(Just one more step)',\n",
              " \"Don't give up\",\n",
              " \"'Cause we're almost all almost there\",\n",
              " \"('Cause we're almost there)\",\n",
              " '(Look at the lovers)',\n",
              " 'Look at the lonely lovers',\n",
              " \"That didn't make it\",\n",
              " \"Life's long hard climb\",\n",
              " \"(Life's long hard climb)\",\n",
              " \"They just couldn't take it\",\n",
              " \"(They just couldn't take it)\",\n",
              " \"Don't let it happen to me and you\",\n",
              " \"Hold on together, darlin'\",\n",
              " \"We'll make it through\",\n",
              " \"Darlin', keep on reachin' out for me\",\n",
              " 'Keep on reachin, do it for me',\n",
              " 'Do it for me, cause baby',\n",
              " '[Refrain]',\n",
              " \"('Cause we're almost there)\",\n",
              " \"(We're almost there)\",\n",
              " \"('Cause we're almost there)\",\n",
              " \"We're so close\",\n",
              " 'I can taste it',\n",
              " 'A life so sweet',\n",
              " \"Can't afford to waste it\",\n",
              " \"(Can't afford to waste it)\",\n",
              " 'Need to feel your hand',\n",
              " \"Slippin' from mine?\",\n",
              " \"Just hold on tighter now, darlin'\",\n",
              " \"Keep on tryin'\",\n",
              " '[Refrain]',\n",
              " 'Baby, do it for me, do it do it baby',\n",
              " \"(Cause we're almost there)\",\n",
              " 'Just one more step',\n",
              " \"(We're almost there)\",\n",
              " \"Don't give up\",\n",
              " \"(Cause we're almost there)\",\n",
              " 'Just one more step',\n",
              " \"Baby baby, don't give up\",\n",
              " \"('Cause we're almost there)\",\n",
              " 'Keep on, keep on',\n",
              " \"(We're almost there)\",\n",
              " 'Just one more step',\n",
              " \"('Cause we're almost there)\",\n",
              " \"Cause we're almost there\",\n",
              " '[Instrumental]',\n",
              " 'Juste one more step',\n",
              " \"Cause we're almost there\",\n",
              " \"We've come to far\",\n",
              " 'To turn around',\n",
              " 'Ooh!!',\n",
              " \"Keep on reachin'\",\n",
              " 'For higher ground',\n",
              " \"We've had our ups and we've had our downs\",\n",
              " \"Let nothin' in the world darlin'\",\n",
              " 'Turn us around',\n",
              " \"Cause we're almost there\",\n",
              " \"We're almost there\",\n",
              " \"We're almost there\",\n",
              " \"Everything we're lookin' for\",\n",
              " ...]"
            ]
          },
          "metadata": {},
          "execution_count": 9
        }
      ],
      "source": [
        "# cada verso lo guardamos en una lista\n",
        "text = list(df.loc[:,0])\n",
        "text"
      ]
    },
    {
      "cell_type": "code",
      "execution_count": null,
      "metadata": {
        "id": "CMu9CX34J8RQ"
      },
      "outputs": [],
      "source": [
        "# segmentamos el texto con la utilidad de Keras\n",
        "segmented_sentences = [text_to_word_sequence(sentence) for sentence in text]"
      ]
    },
    {
      "cell_type": "code",
      "execution_count": null,
      "metadata": {
        "colab": {
          "base_uri": "https://localhost:8080/",
          "height": 36
        },
        "id": "neCJEVNvkkjE",
        "outputId": "84c44f3e-dfa1-46f7-8784-52fc0d18dfa0"
      },
      "outputs": [
        {
          "output_type": "execute_result",
          "data": {
            "text/plain": [
              "'[Spoken Intro:]'"
            ],
            "application/vnd.google.colaboratory.intrinsic+json": {
              "type": "string"
            }
          },
          "metadata": {},
          "execution_count": 11
        }
      ],
      "source": [
        "text[0]"
      ]
    },
    {
      "cell_type": "code",
      "execution_count": null,
      "metadata": {
        "colab": {
          "base_uri": "https://localhost:8080/"
        },
        "id": "duxuc-DVkcpP",
        "outputId": "afa1faa8-7598-4619-bdb2-2748a5d74fc9"
      },
      "outputs": [
        {
          "output_type": "execute_result",
          "data": {
            "text/plain": [
              "['spoken', 'intro']"
            ]
          },
          "metadata": {},
          "execution_count": 12
        }
      ],
      "source": [
        "segmented_sentences[0]"
      ]
    },
    {
      "cell_type": "code",
      "execution_count": null,
      "metadata": {
        "id": "x35rV7QZH49n"
      },
      "outputs": [],
      "source": [
        "# calculamos la longitud de cada secuencia\n",
        "length_sentences = [len(sentence) for sentence in segmented_sentences]"
      ]
    },
    {
      "cell_type": "code",
      "execution_count": null,
      "metadata": {
        "colab": {
          "base_uri": "https://localhost:8080/",
          "height": 569
        },
        "id": "R8P8vDXRII4c",
        "outputId": "3d7f03c4-1ae3-4543-956b-9c76422faa61"
      },
      "outputs": [
        {
          "output_type": "execute_result",
          "data": {
            "text/plain": [
              "(array([5.950e+02, 6.180e+02, 1.179e+03, 1.605e+03, 1.509e+03, 1.404e+03,\n",
              "        9.170e+02, 6.920e+02, 3.830e+02, 2.540e+02, 1.570e+02, 6.200e+01,\n",
              "        6.300e+01, 2.300e+01, 1.000e+01, 7.000e+00, 1.000e+00, 0.000e+00,\n",
              "        1.000e+00, 4.000e+00]),\n",
              " array([ 1.  ,  1.95,  2.9 ,  3.85,  4.8 ,  5.75,  6.7 ,  7.65,  8.6 ,\n",
              "         9.55, 10.5 , 11.45, 12.4 , 13.35, 14.3 , 15.25, 16.2 , 17.15,\n",
              "        18.1 , 19.05, 20.  ]),\n",
              " <BarContainer object of 20 artists>)"
            ]
          },
          "metadata": {},
          "execution_count": 14
        },
        {
          "output_type": "display_data",
          "data": {
            "text/plain": [
              "<Figure size 640x480 with 1 Axes>"
            ],
            "image/png": "[encoded data removed]"
          },
          "metadata": {}
        }
      ],
      "source": [
        "# podemos ver su distribución\n",
        "plt.hist(length_sentences,bins=20)"
      ]
    },
    {
      "cell_type": "code",
      "execution_count": null,
      "metadata": {
        "colab": {
          "base_uri": "https://localhost:8080/"
        },
        "id": "wumBNwdjJM3j",
        "outputId": "8d8d76c3-cfdc-49b0-c45d-6554a6b33615"
      },
      "outputs": [
        {
          "output_type": "stream",
          "name": "stdout",
          "text": [
            "max_context_size: 8\n"
          ]
        }
      ],
      "source": [
        "# a partir de la distribución de longitudes de secuencias elegimos algún criterio\n",
        "# para determinar el máximo tamaño de contexto. En este caso es un percentil, pero\n",
        "# otros criterios también pueden ser válidos con la justificación adecuada.\n",
        "# También puede ser una selección \"a mano\"\n",
        "\n",
        "# el -1 es porque el último token será el target\n",
        "max_context_size = int(np.percentile(length_sentences, 90)-1)\n",
        "\n",
        "# max_context_size = int(np.ceil(np.mean(length_sentences))) # criterio de media\n",
        "# max_context_size = int(np.ceil(np.median(length_sentences))) # criterio de mediana\n",
        "print(f'max_context_size: {max_context_size}')"
      ]
    },
    {
      "cell_type": "markdown",
      "metadata": {
        "id": "2oIUjVU0LB0r"
      },
      "source": [
        "###  Tokenizar"
      ]
    },
    {
      "cell_type": "code",
      "execution_count": null,
      "metadata": {
        "id": "_XKQIpRiLNbg"
      },
      "outputs": [],
      "source": [
        "# instanciamos el tokenizador\n",
        "tok = Tokenizer()\n",
        "\n",
        "# El tokenizer \"aprende\" las palabras que se usaran\n",
        "# Se construye (fit) una vez por proyecto, se aplica N veces (tal cual un encoder)\n",
        "# El token 0 es reservado y no es asignado. Se utiliza para designar a palabras\n",
        "# fuera del vocabulario aprendido\n",
        "tok.fit_on_texts(segmented_sentences)\n",
        "\n",
        "# Convertimos las palabras a números\n",
        "# entran palabras -> salen números\n",
        "tokenized_sentences = tok.texts_to_sequences(segmented_sentences)"
      ]
    },
    {
      "cell_type": "code",
      "execution_count": null,
      "metadata": {
        "colab": {
          "base_uri": "https://localhost:8080/"
        },
        "id": "AK2wfHyslrTz",
        "outputId": "e6607bae-b93c-4411-a58c-466d52f0ac19"
      },
      "outputs": [
        {
          "output_type": "execute_result",
          "data": {
            "text/plain": [
              "[680, 1001]"
            ]
          },
          "metadata": {},
          "execution_count": 17
        }
      ],
      "source": [
        "tokenized_sentences[0]"
      ]
    },
    {
      "cell_type": "code",
      "execution_count": null,
      "metadata": {
        "colab": {
          "base_uri": "https://localhost:8080/"
        },
        "id": "s-93u9lxlwlP",
        "outputId": "a6e0c5fe-a400-4192-c8d6-87955bb8538a"
      },
      "outputs": [
        {
          "output_type": "execute_result",
          "data": {
            "text/plain": [
              "['spoken', 'intro']"
            ]
          },
          "metadata": {},
          "execution_count": 18
        }
      ],
      "source": [
        "segmented_sentences[0]"
      ]
    },
    {
      "cell_type": "markdown",
      "metadata": {
        "id": "pfpYcaypKcI9"
      },
      "source": [
        "### Organizando y estructurando el dataset"
      ]
    },
    {
      "cell_type": "markdown",
      "metadata": {
        "id": "l3iPTx-UJl6r"
      },
      "source": [
        "En este punto tenemos en la variable `tokenized_sentences` los versos tokenizados. Vamos a quedarnos con un conjunto de validación que utilizaremos para medir la calidad de la generación de secuencias con la métrica de Perplejidad."
      ]
    },
    {
      "cell_type": "code",
      "execution_count": null,
      "metadata": {
        "id": "cSeqVGyV_wz5"
      },
      "outputs": [],
      "source": [
        "tokenized_sentences_train, tokenized_sentences_val, _, _ = train_test_split(tokenized_sentences, tokenized_sentences, test_size=0.2, random_state=42)"
      ]
    },
    {
      "cell_type": "markdown",
      "metadata": {
        "id": "gmsoPbV6LxcW"
      },
      "source": [
        "\\Vamos a splitear las oraciones que tienen tamaño mayor al contexto máximo, para generarnos más secuencias de entrenamiento. Este paso puede obviarse si el tamaño de contexto máximo es muy grande.\n",
        "\n",
        "Por ejemplo, si tenemos el texto *La bella y graciosa moza marchóse a lavar la ropa* y nuestro contexto es de 5 palabras, tendremos:\n",
        "\n",
        "- *La bella y graciosa moza*\n",
        "- *bella y graciosa moza marchóse*\n",
        "- *y graciosa moza marchóse a*\n",
        "- *graciosa moza marchóse a lavar*\n",
        "- *moza marchóse a lavar la*\n",
        "- *marchóse a lavar la ropa*"
      ]
    },
    {
      "cell_type": "code",
      "execution_count": null,
      "metadata": {
        "id": "E5BPO4qPPnNR"
      },
      "outputs": [],
      "source": [
        "tok_sent = []\n",
        "\n",
        "for sent in tokenized_sentences_train:\n",
        "\n",
        "  # si la secuencia tiene más términos que el tamaño de contexto máximo,\n",
        "  # armo varias sub-secuencias de tamaño máximo\n",
        "  if len(sent) > (max_context_size+1):\n",
        "    extra = len(sent)-(max_context_size+1) + 1\n",
        "    for i in range(extra):\n",
        "      tok_sent.append(sent[i:i+max_context_size+1])\n",
        "  else: # si la secuencia tiene menos términos el tamaño de contexto máximo, dejo la secuencia como está\n",
        "    tok_sent.append(sent)\n"
      ]
    },
    {
      "cell_type": "code",
      "execution_count": null,
      "metadata": {
        "colab": {
          "base_uri": "https://localhost:8080/"
        },
        "id": "RiEt0AAz_64v",
        "outputId": "6a283734-d3ed-483f-8109-7f44533f7e77"
      },
      "outputs": [
        {
          "output_type": "execute_result",
          "data": {
            "text/plain": [
              "8645"
            ]
          },
          "metadata": {},
          "execution_count": 21
        }
      ],
      "source": [
        "len(tok_sent)"
      ]
    },
    {
      "cell_type": "markdown",
      "metadata": {
        "id": "QnwSC7A_LWfd"
      },
      "source": [
        "Ahora aumentamos los datos aprovechando que de una secuencia grande se pueden generar varias más pequeñas:\n",
        "\n",
        "- *La hermosa casa en el prado*\n",
        "- *La hermosa*\n",
        "- *La hermosa casa*\n",
        "- *La hermosa casa en*\n",
        "- *La hermosa casa en el*\n",
        "- *La hermosa casa en el prado*"
      ]
    },
    {
      "cell_type": "code",
      "execution_count": null,
      "metadata": {
        "id": "lWdhVV04htki"
      },
      "outputs": [],
      "source": [
        "tok_sent_augm = []\n",
        "\n",
        "for sent in tok_sent:\n",
        "\n",
        "  # generamos todas las sub-secuencias\n",
        "  subseq = [sent[:i+2] for i in range(len(sent)-1)]\n",
        "  # en esta línea paddeamos al tamaño de contexto máximo\n",
        "  tok_sent_augm.append(pad_sequences(subseq, maxlen=max_context_size+1, padding='pre'))\n"
      ]
    },
    {
      "cell_type": "code",
      "execution_count": null,
      "metadata": {
        "id": "THXXBya1tnZ8"
      },
      "outputs": [],
      "source": [
        "# finalmente concatenamos todas las secuencias en un único array de numpy\n",
        "train_seqs = np.concatenate(tok_sent_augm, axis=0)"
      ]
    },
    {
      "cell_type": "code",
      "execution_count": null,
      "metadata": {
        "colab": {
          "base_uri": "https://localhost:8080/"
        },
        "id": "o5Uiflnwt10J",
        "outputId": "847ab5d7-5ff1-4919-f4c0-ab4873d9420c"
      },
      "outputs": [
        {
          "output_type": "execute_result",
          "data": {
            "text/plain": [
              "(39554, 9)"
            ]
          },
          "metadata": {},
          "execution_count": 24
        }
      ],
      "source": [
        "train_seqs.shape"
      ]
    },
    {
      "cell_type": "code",
      "execution_count": null,
      "metadata": {
        "id": "yprwJHiMBQIS"
      },
      "outputs": [],
      "source": [
        "# y de aquí sacamos las entradas y los targets que consumirá nuestro sistema en\n",
        "# tiempo de entrenamiento\n",
        "X = train_seqs[:,:-1]\n",
        "y = train_seqs[:,1:]"
      ]
    },
    {
      "cell_type": "markdown",
      "metadata": {
        "id": "YxuKNI05Ttct"
      },
      "source": [
        "Nótese que estamos estructurando el problema de aprendizaje como *many-to-many*:\n",
        "\n",
        "Entrada: secuencia de tokens [$x_0$, $x_1$, ..., $x_N$]\n",
        "\n",
        "Target: secuencia de tokens [$x_1$, $x_2$, ..., $x_{N+1}$]\n",
        "\n",
        "De manera que la red tiene que aprender que su salida deben ser los tokens desplazados en una posición y un nuevo token predicho (el N+1).\n",
        "\n",
        "La ventaja de estructurar el aprendizaje de esta manera es que para cada token de target se propaga una señal de gradiente por el grafo de cómputo recurrente, que es mejor que estructurar el problema como *many-to-one* en donde sólo una señal de gradiente se propaga."
      ]
    },
    {
      "cell_type": "code",
      "execution_count": null,
      "metadata": {
        "colab": {
          "base_uri": "https://localhost:8080/"
        },
        "id": "KFAyA4zCWE-5",
        "outputId": "14d7df5f-ff3e-4b9a-cdb3-1998ffe40f73"
      },
      "outputs": [
        {
          "output_type": "execute_result",
          "data": {
            "text/plain": [
              "(39554, 8)"
            ]
          },
          "metadata": {},
          "execution_count": 26
        }
      ],
      "source": [
        "y.shape"
      ]
    },
    {
      "cell_type": "code",
      "execution_count": null,
      "metadata": {
        "colab": {
          "base_uri": "https://localhost:8080/"
        },
        "id": "1D9ESMGyB_QD",
        "outputId": "a3e934b0-8b2d-4da6-8b98-bf05a8c0abee"
      },
      "outputs": [
        {
          "output_type": "execute_result",
          "data": {
            "text/plain": [
              "{1: 'you',\n",
              " 2: 'the',\n",
              " 3: 'i',\n",
              " 4: 'me',\n",
              " 5: 'to',\n",
              " 6: 'and',\n",
              " 7: 'it',\n",
              " 8: 'a',\n",
              " 9: 'my',\n",
              " 10: 'in',\n",
              " 11: 'love',\n",
              " 12: 'your',\n",
              " 13: \"don't\",\n",
              " 14: 'is',\n",
              " 15: 'of',\n",
              " 16: 'that',\n",
              " 17: 'on',\n",
              " 18: 'just',\n",
              " 19: 'be',\n",
              " 20: 'for',\n",
              " 21: 'all',\n",
              " 22: 'baby',\n",
              " 23: 'so',\n",
              " 24: 'know',\n",
              " 25: 'no',\n",
              " 26: \"you're\",\n",
              " 27: \"i'm\",\n",
              " 28: 'do',\n",
              " 29: 'get',\n",
              " 30: 'got',\n",
              " 31: 'what',\n",
              " 32: 'girl',\n",
              " 33: 'she',\n",
              " 34: 'are',\n",
              " 35: 'with',\n",
              " 36: 'yeah',\n",
              " 37: 'bad',\n",
              " 38: 'make',\n",
              " 39: \"it's\",\n",
              " 40: 'we',\n",
              " 41: 'like',\n",
              " 42: 'can',\n",
              " 43: 'but',\n",
              " 44: 'if',\n",
              " 45: 'really',\n",
              " 46: 'about',\n",
              " 47: 'when',\n",
              " 48: \"can't\",\n",
              " 49: 'this',\n",
              " 50: 'let',\n",
              " 51: 'oh',\n",
              " 52: 'wanna',\n",
              " 53: 'too',\n",
              " 54: 'he',\n",
              " 55: 'world',\n",
              " 56: 'stop',\n",
              " 57: 'now',\n",
              " 58: 'take',\n",
              " 59: 'there',\n",
              " 60: 'her',\n",
              " 61: 'give',\n",
              " 62: 'time',\n",
              " 63: 'go',\n",
              " 64: 'see',\n",
              " 65: 'come',\n",
              " 66: 'keep',\n",
              " 67: 'how',\n",
              " 68: 'will',\n",
              " 69: 'why',\n",
              " 70: 'one',\n",
              " 71: \"ain't\",\n",
              " 72: 'way',\n",
              " 73: 'they',\n",
              " 74: 'have',\n",
              " 75: 'life',\n",
              " 76: 'right',\n",
              " 77: 'away',\n",
              " 78: 'chorus',\n",
              " 79: 'feel',\n",
              " 80: 'not',\n",
              " 81: 'around',\n",
              " 82: 'gonna',\n",
              " 83: 'say',\n",
              " 84: 'up',\n",
              " 85: 'down',\n",
              " 86: \"she's\",\n",
              " 87: 'was',\n",
              " 88: 'out',\n",
              " 89: 'tell',\n",
              " 90: 'want',\n",
              " 91: 'day',\n",
              " 92: 'hold',\n",
              " 93: 'hee',\n",
              " 94: \"'cause\",\n",
              " 95: 'night',\n",
              " 96: 'never',\n",
              " 97: 'alone',\n",
              " 98: \"i'll\",\n",
              " 99: 'then',\n",
              " 100: 'am',\n",
              " 101: \"we're\",\n",
              " 102: 'us',\n",
              " 103: 'who',\n",
              " 104: 'mine',\n",
              " 105: 'heart',\n",
              " 106: 'michael',\n",
              " 107: 'at',\n",
              " 108: 'need',\n",
              " 109: 'back',\n",
              " 110: 'man',\n",
              " 111: \"there's\",\n",
              " 112: 'every',\n",
              " 113: 'from',\n",
              " 114: 'here',\n",
              " 115: 'hand',\n",
              " 116: 'had',\n",
              " 117: 'dah',\n",
              " 118: 'leave',\n",
              " 119: 'enough',\n",
              " 120: 'things',\n",
              " 121: 'verse',\n",
              " 122: 'change',\n",
              " 123: 'cry',\n",
              " 124: 'or',\n",
              " 125: \"that's\",\n",
              " 126: \"won't\",\n",
              " 127: 'much',\n",
              " 128: 'na',\n",
              " 129: 'did',\n",
              " 130: 'would',\n",
              " 131: 'gone',\n",
              " 132: 'look',\n",
              " 133: 'said',\n",
              " 134: 'better',\n",
              " 135: 'as',\n",
              " 136: 'always',\n",
              " 137: \"you'll\",\n",
              " 138: 'hoo',\n",
              " 139: 'ooh',\n",
              " 140: 'remember',\n",
              " 141: 'matter',\n",
              " 142: 'where',\n",
              " 143: 'could',\n",
              " 144: 'because',\n",
              " 145: 'care',\n",
              " 146: 'by',\n",
              " 147: \"i've\",\n",
              " 148: 'place',\n",
              " 149: \"doesn't\",\n",
              " 150: 'good',\n",
              " 151: 'stay',\n",
              " 152: 'through',\n",
              " 153: 'our',\n",
              " 154: 'soul',\n",
              " 155: \"'til\",\n",
              " 156: 'anything',\n",
              " 157: 'some',\n",
              " 158: 'off',\n",
              " 159: 'still',\n",
              " 160: 'eyes',\n",
              " 161: 'forever',\n",
              " 162: 'only',\n",
              " 163: 'should',\n",
              " 164: 'though',\n",
              " 165: 'thought',\n",
              " 166: 'gotta',\n",
              " 167: 'live',\n",
              " 168: 'ok',\n",
              " 169: 'ever',\n",
              " 170: 'been',\n",
              " 171: 'find',\n",
              " 172: 'think',\n",
              " 173: 'da',\n",
              " 174: 'beat',\n",
              " 175: 'annie',\n",
              " 176: 'don’t',\n",
              " 177: 'thing',\n",
              " 178: 'free',\n",
              " 179: 'again',\n",
              " 180: 'told',\n",
              " 181: 'came',\n",
              " 182: 'dance',\n",
              " 183: 'mind',\n",
              " 184: 'together',\n",
              " 185: \"workin'\",\n",
              " 186: 'tonight',\n",
              " 187: 'wants',\n",
              " 188: 'refrain',\n",
              " 189: 'over',\n",
              " 190: 'more',\n",
              " 191: 'has',\n",
              " 192: 'cold',\n",
              " 193: 'his',\n",
              " 194: 'fly',\n",
              " 195: 'people',\n",
              " 196: 'money',\n",
              " 197: 'does',\n",
              " 198: 'him',\n",
              " 199: 'before',\n",
              " 200: 'scream',\n",
              " 201: 'hey',\n",
              " 202: 'inside',\n",
              " 203: 'call',\n",
              " 204: 'monster',\n",
              " 205: 'hear',\n",
              " 206: 'even',\n",
              " 207: \"doin'\",\n",
              " 208: 'into',\n",
              " 209: 'face',\n",
              " 210: 'head',\n",
              " 211: 'turn',\n",
              " 212: 'nothing',\n",
              " 213: 'floor',\n",
              " 214: 'force',\n",
              " 215: \"we'll\",\n",
              " 216: 'high',\n",
              " 217: 'touch',\n",
              " 218: 'try',\n",
              " 219: \"lovin'\",\n",
              " 220: 'someone',\n",
              " 221: 'long',\n",
              " 222: \"you've\",\n",
              " 223: 'going',\n",
              " 224: 'nobody',\n",
              " 225: 'ya',\n",
              " 226: 'show',\n",
              " 227: \"we've\",\n",
              " 228: 'shake',\n",
              " 229: 'fame',\n",
              " 230: 'everybody',\n",
              " 231: 'everything',\n",
              " 232: 'lie',\n",
              " 233: 'dirty',\n",
              " 234: 'little',\n",
              " 235: 'today',\n",
              " 236: 'lonely',\n",
              " 237: 'loving',\n",
              " 238: 'dreams',\n",
              " 239: 'friend',\n",
              " 240: 'believe',\n",
              " 241: 'lost',\n",
              " 242: \"he's\",\n",
              " 243: 'almost',\n",
              " 244: 'cause',\n",
              " 245: 'hurt',\n",
              " 246: 'may',\n",
              " 247: 'left',\n",
              " 248: 'whatever',\n",
              " 249: 'smile',\n",
              " 250: 'gave',\n",
              " 251: 'makes',\n",
              " 252: 'well',\n",
              " 253: 'lady',\n",
              " 254: 'god',\n",
              " 255: 'close',\n",
              " 256: 'rock',\n",
              " 257: 'name',\n",
              " 258: 'comes',\n",
              " 259: 'living',\n",
              " 260: 'yourself',\n",
              " 261: 'words',\n",
              " 262: 'each',\n",
              " 263: 'them',\n",
              " 264: 'answer',\n",
              " 265: 'happy',\n",
              " 266: 'die',\n",
              " 267: 'pain',\n",
              " 268: 'hollywood',\n",
              " 269: 'je',\n",
              " 270: 'home',\n",
              " 271: 'true',\n",
              " 272: 'chance',\n",
              " 273: 'blow',\n",
              " 274: 'break',\n",
              " 275: \"goin'\",\n",
              " 276: 'seem',\n",
              " 277: 'boy',\n",
              " 278: 'shout',\n",
              " 279: 'blood',\n",
              " 280: 'read',\n",
              " 281: 'it’s',\n",
              " 282: 'dada',\n",
              " 283: \"who's\",\n",
              " 284: 'those',\n",
              " 285: 'young',\n",
              " 286: 'must',\n",
              " 287: 'brother',\n",
              " 288: 'help',\n",
              " 289: 'another',\n",
              " 290: 'far',\n",
              " 291: 'scary',\n",
              " 292: 'rocked',\n",
              " 293: 'de',\n",
              " 294: 'something',\n",
              " 295: 'says',\n",
              " 296: 'child',\n",
              " 297: 'sky',\n",
              " 298: 'faith',\n",
              " 299: 'wherever',\n",
              " 300: 'wrong',\n",
              " 301: 'children',\n",
              " 302: 'being',\n",
              " 303: \"i'd\",\n",
              " 304: 'an',\n",
              " 305: 'diana',\n",
              " 306: 'tu',\n",
              " 307: 'please',\n",
              " 308: 'times',\n",
              " 309: 'feeling',\n",
              " 310: 'sweet',\n",
              " 311: 'soon',\n",
              " 312: 'fall',\n",
              " 313: 'understand',\n",
              " 314: 'start',\n",
              " 315: \"startin'\",\n",
              " 316: \"somethin'\",\n",
              " 317: 'price',\n",
              " 318: 'farewell',\n",
              " 319: 'talk',\n",
              " 320: 'business',\n",
              " 321: 'control',\n",
              " 322: \"pressurin'\",\n",
              " 323: 'he’s',\n",
              " 324: 'morning',\n",
              " 325: 'yes',\n",
              " 326: 'maria',\n",
              " 327: 'were',\n",
              " 328: 'took',\n",
              " 329: 'babe',\n",
              " 330: 'kiss',\n",
              " 331: 'days',\n",
              " 332: 'ah',\n",
              " 333: 'truth',\n",
              " 334: 'y',\n",
              " 335: 'la',\n",
              " 336: 'found',\n",
              " 337: 'feet',\n",
              " 338: 'whole',\n",
              " 339: 'sing',\n",
              " 340: 'scared',\n",
              " 341: 'stuff',\n",
              " 342: 'aaow',\n",
              " 343: 'moon',\n",
              " 344: 'dom',\n",
              " 345: 'sheldon',\n",
              " 346: 'maybe',\n",
              " 347: 'both',\n",
              " 348: 'put',\n",
              " 349: 'dead',\n",
              " 350: 'tired',\n",
              " 351: 'speed',\n",
              " 352: 'bridge',\n",
              " 353: 'heaven',\n",
              " 354: 'own',\n",
              " 355: 'dark',\n",
              " 356: 'part',\n",
              " 357: 'higher',\n",
              " 358: 'glow',\n",
              " 359: 'alright',\n",
              " 360: 'lay',\n",
              " 361: 'wall',\n",
              " 362: 'mother',\n",
              " 363: 't',\n",
              " 364: 'real',\n",
              " 365: 'demon',\n",
              " 366: 'dangerous',\n",
              " 367: 'mercy',\n",
              " 368: 'i’m',\n",
              " 369: 'their',\n",
              " 370: 'after',\n",
              " 371: 'without',\n",
              " 372: 'hard',\n",
              " 373: 'while',\n",
              " 374: 'news',\n",
              " 375: 'deep',\n",
              " 376: 'once',\n",
              " 377: 'doo',\n",
              " 378: 'hot',\n",
              " 379: 'groove',\n",
              " 380: 'trip',\n",
              " 381: 'under',\n",
              " 382: 'trust',\n",
              " 383: 'jam',\n",
              " 384: 'que',\n",
              " 385: 'goes',\n",
              " 386: 'door',\n",
              " 387: 'black',\n",
              " 388: 'wings',\n",
              " 389: 'two',\n",
              " 390: 'looking',\n",
              " 391: \"somebody's\",\n",
              " 392: 'uh',\n",
              " 393: 'sun',\n",
              " 394: 'fade',\n",
              " 395: 'strong',\n",
              " 396: 'light',\n",
              " 397: 'lover',\n",
              " 398: 'thriller',\n",
              " 399: 'forget',\n",
              " 400: 'keeping',\n",
              " 401: 'damn',\n",
              " 402: 'sell',\n",
              " 403: 'abortion',\n",
              " 404: 'used',\n",
              " 405: 'song',\n",
              " 406: 'wind',\n",
              " 407: \"talkin'\",\n",
              " 408: 'round',\n",
              " 409: 'fight',\n",
              " 410: 'ran',\n",
              " 411: 'friends',\n",
              " 412: \"they're\",\n",
              " 413: 'p',\n",
              " 414: 'other',\n",
              " 415: 'music',\n",
              " 416: 'woo',\n",
              " 417: 'mirror',\n",
              " 418: 'sit',\n",
              " 419: 'met',\n",
              " 420: 'seen',\n",
              " 421: 'ticket',\n",
              " 422: 'nah',\n",
              " 423: 'pray',\n",
              " 424: 'devil',\n",
              " 425: 'papers',\n",
              " 426: 'warm',\n",
              " 427: 'bring',\n",
              " 428: 'stand',\n",
              " 429: 'lift',\n",
              " 430: 'done',\n",
              " 431: 'message',\n",
              " 432: 'euphoria',\n",
              " 433: 'knew',\n",
              " 434: 'such',\n",
              " 435: '1st',\n",
              " 436: '2nd',\n",
              " 437: 'across',\n",
              " 438: 'wait',\n",
              " 439: 'might',\n",
              " 440: 'promise',\n",
              " 441: 'walk',\n",
              " 442: 'screen',\n",
              " 443: 'taking',\n",
              " 444: 'father',\n",
              " 445: 'ooo',\n",
              " 446: 'susie',\n",
              " 447: 'messin’',\n",
              " 448: 'amor',\n",
              " 449: 'mi',\n",
              " 450: 'sunshine',\n",
              " 451: 'coming',\n",
              " 452: 'wanted',\n",
              " 453: 'knows',\n",
              " 454: 'raven',\n",
              " 455: \"didn't\",\n",
              " 456: 'afraid',\n",
              " 457: 'seems',\n",
              " 458: 'ad',\n",
              " 459: 'body',\n",
              " 460: \"wouldn't\",\n",
              " 461: 'same',\n",
              " 462: 'cannot',\n",
              " 463: 'human',\n",
              " 464: 'pull',\n",
              " 465: 'monkey',\n",
              " 466: 'can’t',\n",
              " 467: 'i’d',\n",
              " 468: \"they've\",\n",
              " 469: 'ne',\n",
              " 470: 'share',\n",
              " 471: 'honey',\n",
              " 472: 'arms',\n",
              " 473: 'fell',\n",
              " 474: \"nothin'\",\n",
              " 475: 'word',\n",
              " 476: 'everyday',\n",
              " 477: 'hair',\n",
              " 478: 'fortune',\n",
              " 479: 'tears',\n",
              " 480: 'side',\n",
              " 481: \"doggin'\",\n",
              " 482: 'johnny',\n",
              " 483: 'set',\n",
              " 484: 'number',\n",
              " 485: 'desire',\n",
              " 486: 'lies',\n",
              " 487: 'low',\n",
              " 488: 'hate',\n",
              " 489: 'ma',\n",
              " 490: 'breaking',\n",
              " 491: 'game',\n",
              " 492: 'knock',\n",
              " 493: 'liberian',\n",
              " 494: \"takin'\",\n",
              " 495: \"touchin'\",\n",
              " 496: 'somebody',\n",
              " 497: 'jackson',\n",
              " 498: \"trippin'\",\n",
              " 499: 'aahh',\n",
              " 500: 'morphine',\n",
              " 501: \"who'd\",\n",
              " 502: 'happens',\n",
              " 503: 'tschada',\n",
              " 504: 'daa',\n",
              " 505: 'todo',\n",
              " 506: 'shameone',\n",
              " 507: 'than',\n",
              " 508: 'any',\n",
              " 509: 'mean',\n",
              " 510: 'singing',\n",
              " 511: 'pretty',\n",
              " 512: 'gets',\n",
              " 513: 'darling',\n",
              " 514: 'made',\n",
              " 515: 'air',\n",
              " 516: 'fool',\n",
              " 517: 'burn',\n",
              " 518: 'guess',\n",
              " 519: 'apart',\n",
              " 520: 'last',\n",
              " 521: 'fear',\n",
              " 522: 'alive',\n",
              " 523: 'goodbye',\n",
              " 524: \"darlin'\",\n",
              " 525: 'myself',\n",
              " 526: 'saw',\n",
              " 527: 'else',\n",
              " 528: '2',\n",
              " 529: '3',\n",
              " 530: 'wrote',\n",
              " 531: 'write',\n",
              " 532: \"g'on\",\n",
              " 533: 'billie',\n",
              " 534: 'jean',\n",
              " 535: 'paul',\n",
              " 536: 'crying',\n",
              " 537: 'tomorrow',\n",
              " 538: 'siedah',\n",
              " 539: 'tv',\n",
              " 540: 'magazine',\n",
              " 541: 'demerol',\n",
              " 542: 'there’s',\n",
              " 543: \"holdin'\",\n",
              " 544: \"kissin'\",\n",
              " 545: 'many',\n",
              " 546: 'oooh',\n",
              " 547: 'hope',\n",
              " 548: 'loves',\n",
              " 549: 'ground',\n",
              " 550: 'climb',\n",
              " 551: 'beautiful',\n",
              " 552: 'its',\n",
              " 553: 'summer',\n",
              " 554: 'earth',\n",
              " 555: 'yea',\n",
              " 556: 'judge',\n",
              " 557: 'hit',\n",
              " 558: 'making',\n",
              " 559: 'watch',\n",
              " 560: 'dream',\n",
              " 561: 'shoulder',\n",
              " 562: 'reason',\n",
              " 563: 'rain',\n",
              " 564: '1',\n",
              " 565: 'lib',\n",
              " 566: 'heal',\n",
              " 567: 'move',\n",
              " 568: 'fire',\n",
              " 569: '3rd',\n",
              " 570: 'middle',\n",
              " 571: 'vegetable',\n",
              " 572: 'eat',\n",
              " 573: 'ghost',\n",
              " 574: 'doom',\n",
              " 575: 'son',\n",
              " 576: 'line',\n",
              " 577: 'kill',\n",
              " 578: 'woman',\n",
              " 579: 'dying',\n",
              " 580: 'brought',\n",
              " 581: 'lord',\n",
              " 582: 'factual',\n",
              " 583: 'family',\n",
              " 584: 'animal',\n",
              " 585: 'eres',\n",
              " 586: 'veux',\n",
              " 587: 'pas',\n",
              " 588: 'wonder',\n",
              " 589: 'tried',\n",
              " 590: 'great',\n",
              " 591: 'behind',\n",
              " 592: 'turned',\n",
              " 593: 'end',\n",
              " 594: 'wish',\n",
              " 595: 'sure',\n",
              " 596: 'pay',\n",
              " 597: 'carousel',\n",
              " 598: 'swear',\n",
              " 599: 'sad',\n",
              " 600: 'nature',\n",
              " 601: 'strange',\n",
              " 602: 'star',\n",
              " 603: 'years',\n",
              " 604: 'power',\n",
              " 605: 'letter',\n",
              " 606: 'ask',\n",
              " 607: 'town',\n",
              " 608: \"livin'\",\n",
              " 609: 'crazy',\n",
              " 610: \"makin'\",\n",
              " 611: 'stuck',\n",
              " 612: 'thunder',\n",
              " 613: 'mouth',\n",
              " 614: 'dawn',\n",
              " 615: \"one's\",\n",
              " 616: 'dare',\n",
              " 617: \"'em\",\n",
              " 618: 'stranger',\n",
              " 619: 'felt',\n",
              " 620: 'chika',\n",
              " 621: 'changed',\n",
              " 622: 'first',\n",
              " 623: 'sleeping',\n",
              " 624: 'struck',\n",
              " 625: 'white',\n",
              " 626: 'aaaaaaaaah',\n",
              " 627: 'oooooooooh',\n",
              " 628: 'holy',\n",
              " 629: 'mary',\n",
              " 630: 'that’s',\n",
              " 631: 'you’re',\n",
              " 632: 'rarest',\n",
              " 633: 'speechless',\n",
              " 634: 'wishing',\n",
              " 635: 'everywhere',\n",
              " 636: 'takes',\n",
              " 637: 'waiting',\n",
              " 638: 'sound',\n",
              " 639: 'listen',\n",
              " 640: 'circus',\n",
              " 641: 'step',\n",
              " 642: \"fallin'\",\n",
              " 643: 'win',\n",
              " 644: 'ooooooh',\n",
              " 645: 'play',\n",
              " 646: 'very',\n",
              " 647: 'easy',\n",
              " 648: 'shine',\n",
              " 649: 'sadness',\n",
              " 650: 'until',\n",
              " 651: 'choice',\n",
              " 652: 'getting',\n",
              " 653: 'choose',\n",
              " 654: 'land',\n",
              " 655: 'brighter',\n",
              " 656: 'midnight',\n",
              " 657: 'bit',\n",
              " 658: 'boom',\n",
              " 659: \"let's\",\n",
              " 660: \"feelin'\",\n",
              " 661: 'sunlight',\n",
              " 662: 'room',\n",
              " 663: 'hide',\n",
              " 664: 'needs',\n",
              " 665: 'knife',\n",
              " 666: 'called',\n",
              " 667: 'perfect',\n",
              " 668: 'doggone',\n",
              " 669: 'save',\n",
              " 670: 'rap',\n",
              " 671: 'showed',\n",
              " 672: 'voice',\n",
              " 673: 'ways',\n",
              " 674: 'cares',\n",
              " 675: 'dum',\n",
              " 676: 'te',\n",
              " 677: 'toi',\n",
              " 678: 'fin',\n",
              " 679: 'nous',\n",
              " 680: 'spoken',\n",
              " 681: \"couldn't\",\n",
              " 682: 'upon',\n",
              " 683: 'small',\n",
              " 684: 'tree',\n",
              " 685: 'big',\n",
              " 686: 'blue',\n",
              " 687: 'running',\n",
              " 688: 'walked',\n",
              " 689: 'knowing',\n",
              " 690: 'talking',\n",
              " 691: 'till',\n",
              " 692: 'worth',\n",
              " 693: \"everybody's\",\n",
              " 694: 'men',\n",
              " 695: 'giving',\n",
              " 696: 'd',\n",
              " 697: 'next',\n",
              " 698: 'between',\n",
              " 699: 'repeat',\n",
              " 700: 'thrill',\n",
              " 701: 'belong',\n",
              " 702: 'doctor',\n",
              " 703: 'disco',\n",
              " 704: 'party',\n",
              " 705: 'hands',\n",
              " 706: 'learned',\n",
              " 707: 'run',\n",
              " 708: 'passion',\n",
              " 709: 'kid',\n",
              " 710: 'law',\n",
              " 711: \"we'd\",\n",
              " 712: 'window',\n",
              " 713: 'regret',\n",
              " 714: 'yesterday',\n",
              " 715: \"nobody's\",\n",
              " 716: 'asking',\n",
              " 717: \"beggin'\",\n",
              " 718: 'composure',\n",
              " 719: 'carry',\n",
              " 720: 'shot',\n",
              " 721: 'childhood',\n",
              " 722: 'sitting',\n",
              " 723: 'jealousy',\n",
              " 724: 'i’ll',\n",
              " 725: 'uuuuuuuuuuh',\n",
              " 726: 'letting',\n",
              " 727: \"grievin'\",\n",
              " 728: 'trying',\n",
              " 729: 'heard',\n",
              " 730: 'anywhere',\n",
              " 731: 'kind',\n",
              " 732: 'moment',\n",
              " 733: 'street',\n",
              " 734: 'old',\n",
              " 735: 'yet',\n",
              " 736: \"what's\",\n",
              " 737: 'instead',\n",
              " 738: \"cryin'\",\n",
              " 739: \"'bout\",\n",
              " 740: 'ben',\n",
              " 741: \"'round\",\n",
              " 742: 'kicking',\n",
              " 743: 'sister',\n",
              " 744: 'buy',\n",
              " 745: 'finally',\n",
              " 746: 'tender',\n",
              " 747: 'tells',\n",
              " 748: 'somewhere',\n",
              " 749: 'new',\n",
              " 750: 'waste',\n",
              " 751: 'saying',\n",
              " 752: 'cinderella',\n",
              " 753: 'awhile',\n",
              " 754: 'dreaming',\n",
              " 755: 'king',\n",
              " 756: 'x2',\n",
              " 757: 'fever',\n",
              " 758: 'boogie',\n",
              " 759: \"thinkin'\",\n",
              " 760: 'especially',\n",
              " 761: 'straighten',\n",
              " 762: 'girlfriend',\n",
              " 763: 'doot',\n",
              " 764: 'doing',\n",
              " 765: \"sayin'\",\n",
              " 766: \"tellin'\",\n",
              " 767: 'moonlight',\n",
              " 768: '2x',\n",
              " 769: 'scene',\n",
              " 770: 'three',\n",
              " 771: 'looked',\n",
              " 772: 'watching',\n",
              " 773: 'l',\n",
              " 774: 'reach',\n",
              " 775: 'laughing',\n",
              " 776: 'treat',\n",
              " 777: 'drop',\n",
              " 778: 'follow',\n",
              " 779: 'stevie',\n",
              " 780: 'shows',\n",
              " 781: 'sign',\n",
              " 782: 'brothers',\n",
              " 783: 'janet',\n",
              " 784: 'lust',\n",
              " 785: 'knees',\n",
              " 786: 'race',\n",
              " 787: 'throw',\n",
              " 788: 'skin',\n",
              " 789: 'use',\n",
              " 790: 'haunting',\n",
              " 791: 'history',\n",
              " 792: 'butterflies',\n",
              " 793: 'lo',\n",
              " 794: 'kissed',\n",
              " 795: 'wooh',\n",
              " 796: 'sparrow',\n",
              " 797: 'darkness',\n",
              " 798: 'story',\n",
              " 799: 'past',\n",
              " 800: 'fill',\n",
              " 801: 'prayer',\n",
              " 802: 'road',\n",
              " 803: \"there'll\",\n",
              " 804: 'tweet',\n",
              " 805: 'started',\n",
              " 806: 'since',\n",
              " 807: 'clouds',\n",
              " 808: \"they'll\",\n",
              " 809: 'greatest',\n",
              " 810: 'rainbow',\n",
              " 811: 'begin',\n",
              " 812: 'push',\n",
              " 813: 'ourselves',\n",
              " 814: 'yours',\n",
              " 815: 'shoo',\n",
              " 816: 'send',\n",
              " 817: 'within',\n",
              " 818: 'near',\n",
              " 819: 'troubles',\n",
              " 820: 'loved',\n",
              " 821: 'promised',\n",
              " 822: \"love's\",\n",
              " 823: 'standing',\n",
              " 824: 'along',\n",
              " 825: 'broken',\n",
              " 826: 'magic',\n",
              " 827: 'angels',\n",
              " 828: 'mama',\n",
              " 829: 'sounds',\n",
              " 830: 'prayers',\n",
              " 831: 'signed',\n",
              " 832: 'guy',\n",
              " 833: 'nine',\n",
              " 834: 'five',\n",
              " 835: 'enjoy',\n",
              " 836: 'sin',\n",
              " 837: \"c'mon\",\n",
              " 838: 'pride',\n",
              " 839: 'feed',\n",
              " 840: 'proud',\n",
              " 841: 'okay',\n",
              " 842: 'against',\n",
              " 843: 'careful',\n",
              " 844: 'twice',\n",
              " 845: 'eye',\n",
              " 846: 'walls',\n",
              " 847: 'c',\n",
              " 848: 'work',\n",
              " 849: 'top',\n",
              " 850: 'thinking',\n",
              " 851: 'melodie',\n",
              " 852: 'bye',\n",
              " 853: 'telling',\n",
              " 854: 'known',\n",
              " 855: \"speedin'\",\n",
              " 856: 'naku',\n",
              " 857: 'piya',\n",
              " 858: 'kids',\n",
              " 859: 'blind',\n",
              " 860: 'starting',\n",
              " 861: 'clearer',\n",
              " 862: 'stars',\n",
              " 863: 'sorrow',\n",
              " 864: 'phone',\n",
              " 865: 'peace',\n",
              " 866: 'feels',\n",
              " 867: 'create',\n",
              " 868: 'bothered',\n",
              " 869: 'quench',\n",
              " 870: 'confused',\n",
              " 871: \"gon'\",\n",
              " 872: 'sunset',\n",
              " 873: 'bet',\n",
              " 874: 'romance',\n",
              " 875: 'daddy',\n",
              " 876: 'ha',\n",
              " 877: 'dancing',\n",
              " 878: 'caught',\n",
              " 879: 'explain',\n",
              " 880: 'stalking',\n",
              " 881: 'lesson',\n",
              " 882: 'threatened',\n",
              " 883: 'dude',\n",
              " 884: \"brother's\",\n",
              " 885: 'decide',\n",
              " 886: 'already',\n",
              " 887: 'rise',\n",
              " 888: 'uuuuuuh',\n",
              " 889: 'si',\n",
              " 890: 'tout',\n",
              " 891: 'et',\n",
              " 892: 'anytime',\n",
              " 893: 'house',\n",
              " 894: 'stayed',\n",
              " 895: 'future',\n",
              " 896: 'late',\n",
              " 897: 'empty',\n",
              " 898: 'despair',\n",
              " 899: 'hello',\n",
              " 900: 'realize',\n",
              " 901: 'sharing',\n",
              " 902: 'rocks',\n",
              " 903: 'someday',\n",
              " 904: 'cries',\n",
              " 905: 'winter',\n",
              " 906: 'above',\n",
              " 907: 'full',\n",
              " 908: 'fantasy',\n",
              " 909: 'school',\n",
              " 910: 'ends',\n",
              " 911: \"you'd\",\n",
              " 912: 'grace',\n",
              " 913: \"she'll\",\n",
              " 914: 'supposed',\n",
              " 915: \"child's\",\n",
              " 916: 'clear',\n",
              " 917: 'hearts',\n",
              " 918: 'evening',\n",
              " 919: 'lovely',\n",
              " 920: 'lights',\n",
              " 921: 'space',\n",
              " 922: 'wild',\n",
              " 923: 'restless',\n",
              " 924: 'second',\n",
              " 925: 'bed',\n",
              " 926: 'winds',\n",
              " 927: 'lovers',\n",
              " 928: \"life's\",\n",
              " 929: \"tryin'\",\n",
              " 930: 'ti',\n",
              " 931: 'disappear',\n",
              " 932: 'princess',\n",
              " 933: 'meant',\n",
              " 934: 'shall',\n",
              " 935: 'surely',\n",
              " 936: 'catch',\n",
              " 937: 'places',\n",
              " 938: 'heat',\n",
              " 939: 'madness',\n",
              " 940: 'loose',\n",
              " 941: 'ready',\n",
              " 942: 'different',\n",
              " 943: 'killer',\n",
              " 944: 'open',\n",
              " 945: 'hell',\n",
              " 946: 'funky',\n",
              " 947: 'kick',\n",
              " 948: 'movie',\n",
              " 949: 'tenderness',\n",
              " 950: 'caress',\n",
              " 951: 'walking',\n",
              " 952: 'everytime',\n",
              " 953: 'fast',\n",
              " 954: 'return',\n",
              " 955: 'year',\n",
              " 956: 'leaving',\n",
              " 957: 'half',\n",
              " 958: 'shame',\n",
              " 959: 'shoot',\n",
              " 960: 'smooth',\n",
              " 961: 'crescendo',\n",
              " 962: 'apartment',\n",
              " 963: 'bloodstains',\n",
              " 964: 'carpet',\n",
              " 965: 'bedroom',\n",
              " 966: 'dang',\n",
              " 967: 'minds',\n",
              " 968: 'self',\n",
              " 969: 'police',\n",
              " 970: 'wanting',\n",
              " 971: 'seemed',\n",
              " 972: 'entire',\n",
              " 973: 'saturday',\n",
              " 974: 'lying',\n",
              " 975: 'injustice',\n",
              " 976: 'bear',\n",
              " 977: 'joy',\n",
              " 978: 'confidence',\n",
              " 979: 'means',\n",
              " 980: 'sleep',\n",
              " 981: 'dog',\n",
              " 982: 's',\n",
              " 983: 'soldier',\n",
              " 984: 'fake',\n",
              " 985: 'searching',\n",
              " 986: 'stories',\n",
              " 987: 'glory',\n",
              " 988: 'dies',\n",
              " 989: 'legacy',\n",
              " 990: 'stick',\n",
              " 991: '‘til',\n",
              " 992: 'won’t',\n",
              " 993: 'let’s',\n",
              " 994: 'one’s',\n",
              " 995: 'cheater',\n",
              " 996: 'uuh',\n",
              " 997: 'complain',\n",
              " 998: 'cuando',\n",
              " 999: 'bien',\n",
              " 1000: 'pitbull',\n",
              " ...}"
            ]
          },
          "metadata": {},
          "execution_count": 27
        }
      ],
      "source": [
        "# Palabras del vocabulario\n",
        "tok.index_word"
      ]
    },
    {
      "cell_type": "code",
      "execution_count": null,
      "metadata": {
        "colab": {
          "base_uri": "https://localhost:8080/"
        },
        "id": "WtzINYjWCMf1",
        "outputId": "cf9b10ae-de96-44c8-b1b5-3367dd28a1c2"
      },
      "outputs": [
        {
          "output_type": "execute_result",
          "data": {
            "text/plain": [
              "3273"
            ]
          },
          "metadata": {},
          "execution_count": 28
        }
      ],
      "source": [
        "# Cantidad de palabras en el vocabulario\n",
        "vocab_size = len(tok.word_counts)\n",
        "vocab_size"
      ]
    },
    {
      "cell_type": "code",
      "execution_count": null,
      "metadata": {
        "colab": {
          "base_uri": "https://localhost:8080/"
        },
        "id": "spTBxmFQc6h8",
        "outputId": "b37c93bf-278e-4a67-d1c3-88815e97a5e0"
      },
      "outputs": [
        {
          "output_type": "stream",
          "name": "stdout",
          "text": [
            "{'you': 1, 'the': 2, 'i': 3, 'me': 4, 'to': 5, 'and': 6, 'it': 7, 'a': 8, 'my': 9, 'in': 10, 'love': 11, 'your': 12, \"don't\": 13, 'is': 14, 'of': 15, 'that': 16, 'on': 17, 'just': 18, 'be': 19, 'for': 20, 'all': 21, 'baby': 22, 'so': 23, 'know': 24, 'no': 25, \"you're\": 26, \"i'm\": 27, 'do': 28, 'get': 29, 'got': 30, 'what': 31, 'girl': 32, 'she': 33, 'are': 34, 'with': 35, 'yeah': 36, 'bad': 37, 'make': 38, \"it's\": 39, 'we': 40, 'like': 41, 'can': 42, 'but': 43, 'if': 44, 'really': 45, 'about': 46, 'when': 47, \"can't\": 48, 'this': 49, 'let': 50, 'oh': 51, 'wanna': 52, 'too': 53, 'he': 54, 'world': 55, 'stop': 56, 'now': 57, 'take': 58, 'there': 59, 'her': 60, 'give': 61, 'time': 62, 'go': 63, 'see': 64, 'come': 65, 'keep': 66, 'how': 67, 'will': 68, 'why': 69, 'one': 70, \"ain't\": 71, 'way': 72, 'they': 73, 'have': 74, 'life': 75, 'right': 76, 'away': 77, 'chorus': 78, 'feel': 79, 'not': 80, 'around': 81, 'gonna': 82, 'say': 83, 'up': 84, 'down': 85, \"she's\": 86, 'was': 87, 'out': 88, 'tell': 89, 'want': 90, 'day': 91, 'hold': 92, 'hee': 93, \"'cause\": 94, 'night': 95, 'never': 96, 'alone': 97, \"i'll\": 98, 'then': 99, 'am': 100, \"we're\": 101, 'us': 102, 'who': 103, 'mine': 104, 'heart': 105, 'michael': 106, 'at': 107, 'need': 108, 'back': 109, 'man': 110, \"there's\": 111, 'every': 112, 'from': 113, 'here': 114, 'hand': 115, 'had': 116, 'dah': 117, 'leave': 118, 'enough': 119, 'things': 120, 'verse': 121, 'change': 122, 'cry': 123, 'or': 124, \"that's\": 125, \"won't\": 126, 'much': 127, 'na': 128, 'did': 129, 'would': 130, 'gone': 131, 'look': 132, 'said': 133, 'better': 134, 'as': 135, 'always': 136, \"you'll\": 137, 'hoo': 138, 'ooh': 139, 'remember': 140, 'matter': 141, 'where': 142, 'could': 143, 'because': 144, 'care': 145, 'by': 146, \"i've\": 147, 'place': 148, \"doesn't\": 149, 'good': 150, 'stay': 151, 'through': 152, 'our': 153, 'soul': 154, \"'til\": 155, 'anything': 156, 'some': 157, 'off': 158, 'still': 159, 'eyes': 160, 'forever': 161, 'only': 162, 'should': 163, 'though': 164, 'thought': 165, 'gotta': 166, 'live': 167, 'ok': 168, 'ever': 169, 'been': 170, 'find': 171, 'think': 172, 'da': 173, 'beat': 174, 'annie': 175, 'don’t': 176, 'thing': 177, 'free': 178, 'again': 179, 'told': 180, 'came': 181, 'dance': 182, 'mind': 183, 'together': 184, \"workin'\": 185, 'tonight': 186, 'wants': 187, 'refrain': 188, 'over': 189, 'more': 190, 'has': 191, 'cold': 192, 'his': 193, 'fly': 194, 'people': 195, 'money': 196, 'does': 197, 'him': 198, 'before': 199, 'scream': 200, 'hey': 201, 'inside': 202, 'call': 203, 'monster': 204, 'hear': 205, 'even': 206, \"doin'\": 207, 'into': 208, 'face': 209, 'head': 210, 'turn': 211, 'nothing': 212, 'floor': 213, 'force': 214, \"we'll\": 215, 'high': 216, 'touch': 217, 'try': 218, \"lovin'\": 219, 'someone': 220, 'long': 221, \"you've\": 222, 'going': 223, 'nobody': 224, 'ya': 225, 'show': 226, \"we've\": 227, 'shake': 228, 'fame': 229, 'everybody': 230, 'everything': 231, 'lie': 232, 'dirty': 233, 'little': 234, 'today': 235, 'lonely': 236, 'loving': 237, 'dreams': 238, 'friend': 239, 'believe': 240, 'lost': 241, \"he's\": 242, 'almost': 243, 'cause': 244, 'hurt': 245, 'may': 246, 'left': 247, 'whatever': 248, 'smile': 249, 'gave': 250, 'makes': 251, 'well': 252, 'lady': 253, 'god': 254, 'close': 255, 'rock': 256, 'name': 257, 'comes': 258, 'living': 259, 'yourself': 260, 'words': 261, 'each': 262, 'them': 263, 'answer': 264, 'happy': 265, 'die': 266, 'pain': 267, 'hollywood': 268, 'je': 269, 'home': 270, 'true': 271, 'chance': 272, 'blow': 273, 'break': 274, \"goin'\": 275, 'seem': 276, 'boy': 277, 'shout': 278, 'blood': 279, 'read': 280, 'it’s': 281, 'dada': 282, \"who's\": 283, 'those': 284, 'young': 285, 'must': 286, 'brother': 287, 'help': 288, 'another': 289, 'far': 290, 'scary': 291, 'rocked': 292, 'de': 293, 'something': 294, 'says': 295, 'child': 296, 'sky': 297, 'faith': 298, 'wherever': 299, 'wrong': 300, 'children': 301, 'being': 302, \"i'd\": 303, 'an': 304, 'diana': 305, 'tu': 306, 'please': 307, 'times': 308, 'feeling': 309, 'sweet': 310, 'soon': 311, 'fall': 312, 'understand': 313, 'start': 314, \"startin'\": 315, \"somethin'\": 316, 'price': 317, 'farewell': 318, 'talk': 319, 'business': 320, 'control': 321, \"pressurin'\": 322, 'he’s': 323, 'morning': 324, 'yes': 325, 'maria': 326, 'were': 327, 'took': 328, 'babe': 329, 'kiss': 330, 'days': 331, 'ah': 332, 'truth': 333, 'y': 334, 'la': 335, 'found': 336, 'feet': 337, 'whole': 338, 'sing': 339, 'scared': 340, 'stuff': 341, 'aaow': 342, 'moon': 343, 'dom': 344, 'sheldon': 345, 'maybe': 346, 'both': 347, 'put': 348, 'dead': 349, 'tired': 350, 'speed': 351, 'bridge': 352, 'heaven': 353, 'own': 354, 'dark': 355, 'part': 356, 'higher': 357, 'glow': 358, 'alright': 359, 'lay': 360, 'wall': 361, 'mother': 362, 't': 363, 'real': 364, 'demon': 365, 'dangerous': 366, 'mercy': 367, 'i’m': 368, 'their': 369, 'after': 370, 'without': 371, 'hard': 372, 'while': 373, 'news': 374, 'deep': 375, 'once': 376, 'doo': 377, 'hot': 378, 'groove': 379, 'trip': 380, 'under': 381, 'trust': 382, 'jam': 383, 'que': 384, 'goes': 385, 'door': 386, 'black': 387, 'wings': 388, 'two': 389, 'looking': 390, \"somebody's\": 391, 'uh': 392, 'sun': 393, 'fade': 394, 'strong': 395, 'light': 396, 'lover': 397, 'thriller': 398, 'forget': 399, 'keeping': 400, 'damn': 401, 'sell': 402, 'abortion': 403, 'used': 404, 'song': 405, 'wind': 406, \"talkin'\": 407, 'round': 408, 'fight': 409, 'ran': 410, 'friends': 411, \"they're\": 412, 'p': 413, 'other': 414, 'music': 415, 'woo': 416, 'mirror': 417, 'sit': 418, 'met': 419, 'seen': 420, 'ticket': 421, 'nah': 422, 'pray': 423, 'devil': 424, 'papers': 425, 'warm': 426, 'bring': 427, 'stand': 428, 'lift': 429, 'done': 430, 'message': 431, 'euphoria': 432, 'knew': 433, 'such': 434, '1st': 435, '2nd': 436, 'across': 437, 'wait': 438, 'might': 439, 'promise': 440, 'walk': 441, 'screen': 442, 'taking': 443, 'father': 444, 'ooo': 445, 'susie': 446, 'messin’': 447, 'amor': 448, 'mi': 449, 'sunshine': 450, 'coming': 451, 'wanted': 452, 'knows': 453, 'raven': 454, \"didn't\": 455, 'afraid': 456, 'seems': 457, 'ad': 458, 'body': 459, \"wouldn't\": 460, 'same': 461, 'cannot': 462, 'human': 463, 'pull': 464, 'monkey': 465, 'can’t': 466, 'i’d': 467, \"they've\": 468, 'ne': 469, 'share': 470, 'honey': 471, 'arms': 472, 'fell': 473, \"nothin'\": 474, 'word': 475, 'everyday': 476, 'hair': 477, 'fortune': 478, 'tears': 479, 'side': 480, \"doggin'\": 481, 'johnny': 482, 'set': 483, 'number': 484, 'desire': 485, 'lies': 486, 'low': 487, 'hate': 488, 'ma': 489, 'breaking': 490, 'game': 491, 'knock': 492, 'liberian': 493, \"takin'\": 494, \"touchin'\": 495, 'somebody': 496, 'jackson': 497, \"trippin'\": 498, 'aahh': 499, 'morphine': 500, \"who'd\": 501, 'happens': 502, 'tschada': 503, 'daa': 504, 'todo': 505, 'shameone': 506, 'than': 507, 'any': 508, 'mean': 509, 'singing': 510, 'pretty': 511, 'gets': 512, 'darling': 513, 'made': 514, 'air': 515, 'fool': 516, 'burn': 517, 'guess': 518, 'apart': 519, 'last': 520, 'fear': 521, 'alive': 522, 'goodbye': 523, \"darlin'\": 524, 'myself': 525, 'saw': 526, 'else': 527, '2': 528, '3': 529, 'wrote': 530, 'write': 531, \"g'on\": 532, 'billie': 533, 'jean': 534, 'paul': 535, 'crying': 536, 'tomorrow': 537, 'siedah': 538, 'tv': 539, 'magazine': 540, 'demerol': 541, 'there’s': 542, \"holdin'\": 543, \"kissin'\": 544, 'many': 545, 'oooh': 546, 'hope': 547, 'loves': 548, 'ground': 549, 'climb': 550, 'beautiful': 551, 'its': 552, 'summer': 553, 'earth': 554, 'yea': 555, 'judge': 556, 'hit': 557, 'making': 558, 'watch': 559, 'dream': 560, 'shoulder': 561, 'reason': 562, 'rain': 563, '1': 564, 'lib': 565, 'heal': 566, 'move': 567, 'fire': 568, '3rd': 569, 'middle': 570, 'vegetable': 571, 'eat': 572, 'ghost': 573, 'doom': 574, 'son': 575, 'line': 576, 'kill': 577, 'woman': 578, 'dying': 579, 'brought': 580, 'lord': 581, 'factual': 582, 'family': 583, 'animal': 584, 'eres': 585, 'veux': 586, 'pas': 587, 'wonder': 588, 'tried': 589, 'great': 590, 'behind': 591, 'turned': 592, 'end': 593, 'wish': 594, 'sure': 595, 'pay': 596, 'carousel': 597, 'swear': 598, 'sad': 599, 'nature': 600, 'strange': 601, 'star': 602, 'years': 603, 'power': 604, 'letter': 605, 'ask': 606, 'town': 607, \"livin'\": 608, 'crazy': 609, \"makin'\": 610, 'stuck': 611, 'thunder': 612, 'mouth': 613, 'dawn': 614, \"one's\": 615, 'dare': 616, \"'em\": 617, 'stranger': 618, 'felt': 619, 'chika': 620, 'changed': 621, 'first': 622, 'sleeping': 623, 'struck': 624, 'white': 625, 'aaaaaaaaah': 626, 'oooooooooh': 627, 'holy': 628, 'mary': 629, 'that’s': 630, 'you’re': 631, 'rarest': 632, 'speechless': 633, 'wishing': 634, 'everywhere': 635, 'takes': 636, 'waiting': 637, 'sound': 638, 'listen': 639, 'circus': 640, 'step': 641, \"fallin'\": 642, 'win': 643, 'ooooooh': 644, 'play': 645, 'very': 646, 'easy': 647, 'shine': 648, 'sadness': 649, 'until': 650, 'choice': 651, 'getting': 652, 'choose': 653, 'land': 654, 'brighter': 655, 'midnight': 656, 'bit': 657, 'boom': 658, \"let's\": 659, \"feelin'\": 660, 'sunlight': 661, 'room': 662, 'hide': 663, 'needs': 664, 'knife': 665, 'called': 666, 'perfect': 667, 'doggone': 668, 'save': 669, 'rap': 670, 'showed': 671, 'voice': 672, 'ways': 673, 'cares': 674, 'dum': 675, 'te': 676, 'toi': 677, 'fin': 678, 'nous': 679, 'spoken': 680, \"couldn't\": 681, 'upon': 682, 'small': 683, 'tree': 684, 'big': 685, 'blue': 686, 'running': 687, 'walked': 688, 'knowing': 689, 'talking': 690, 'till': 691, 'worth': 692, \"everybody's\": 693, 'men': 694, 'giving': 695, 'd': 696, 'next': 697, 'between': 698, 'repeat': 699, 'thrill': 700, 'belong': 701, 'doctor': 702, 'disco': 703, 'party': 704, 'hands': 705, 'learned': 706, 'run': 707, 'passion': 708, 'kid': 709, 'law': 710, \"we'd\": 711, 'window': 712, 'regret': 713, 'yesterday': 714, \"nobody's\": 715, 'asking': 716, \"beggin'\": 717, 'composure': 718, 'carry': 719, 'shot': 720, 'childhood': 721, 'sitting': 722, 'jealousy': 723, 'i’ll': 724, 'uuuuuuuuuuh': 725, 'letting': 726, \"grievin'\": 727, 'trying': 728, 'heard': 729, 'anywhere': 730, 'kind': 731, 'moment': 732, 'street': 733, 'old': 734, 'yet': 735, \"what's\": 736, 'instead': 737, \"cryin'\": 738, \"'bout\": 739, 'ben': 740, \"'round\": 741, 'kicking': 742, 'sister': 743, 'buy': 744, 'finally': 745, 'tender': 746, 'tells': 747, 'somewhere': 748, 'new': 749, 'waste': 750, 'saying': 751, 'cinderella': 752, 'awhile': 753, 'dreaming': 754, 'king': 755, 'x2': 756, 'fever': 757, 'boogie': 758, \"thinkin'\": 759, 'especially': 760, 'straighten': 761, 'girlfriend': 762, 'doot': 763, 'doing': 764, \"sayin'\": 765, \"tellin'\": 766, 'moonlight': 767, '2x': 768, 'scene': 769, 'three': 770, 'looked': 771, 'watching': 772, 'l': 773, 'reach': 774, 'laughing': 775, 'treat': 776, 'drop': 777, 'follow': 778, 'stevie': 779, 'shows': 780, 'sign': 781, 'brothers': 782, 'janet': 783, 'lust': 784, 'knees': 785, 'race': 786, 'throw': 787, 'skin': 788, 'use': 789, 'haunting': 790, 'history': 791, 'butterflies': 792, 'lo': 793, 'kissed': 794, 'wooh': 795, 'sparrow': 796, 'darkness': 797, 'story': 798, 'past': 799, 'fill': 800, 'prayer': 801, 'road': 802, \"there'll\": 803, 'tweet': 804, 'started': 805, 'since': 806, 'clouds': 807, \"they'll\": 808, 'greatest': 809, 'rainbow': 810, 'begin': 811, 'push': 812, 'ourselves': 813, 'yours': 814, 'shoo': 815, 'send': 816, 'within': 817, 'near': 818, 'troubles': 819, 'loved': 820, 'promised': 821, \"love's\": 822, 'standing': 823, 'along': 824, 'broken': 825, 'magic': 826, 'angels': 827, 'mama': 828, 'sounds': 829, 'prayers': 830, 'signed': 831, 'guy': 832, 'nine': 833, 'five': 834, 'enjoy': 835, 'sin': 836, \"c'mon\": 837, 'pride': 838, 'feed': 839, 'proud': 840, 'okay': 841, 'against': 842, 'careful': 843, 'twice': 844, 'eye': 845, 'walls': 846, 'c': 847, 'work': 848, 'top': 849, 'thinking': 850, 'melodie': 851, 'bye': 852, 'telling': 853, 'known': 854, \"speedin'\": 855, 'naku': 856, 'piya': 857, 'kids': 858, 'blind': 859, 'starting': 860, 'clearer': 861, 'stars': 862, 'sorrow': 863, 'phone': 864, 'peace': 865, 'feels': 866, 'create': 867, 'bothered': 868, 'quench': 869, 'confused': 870, \"gon'\": 871, 'sunset': 872, 'bet': 873, 'romance': 874, 'daddy': 875, 'ha': 876, 'dancing': 877, 'caught': 878, 'explain': 879, 'stalking': 880, 'lesson': 881, 'threatened': 882, 'dude': 883, \"brother's\": 884, 'decide': 885, 'already': 886, 'rise': 887, 'uuuuuuh': 888, 'si': 889, 'tout': 890, 'et': 891, 'anytime': 892, 'house': 893, 'stayed': 894, 'future': 895, 'late': 896, 'empty': 897, 'despair': 898, 'hello': 899, 'realize': 900, 'sharing': 901, 'rocks': 902, 'someday': 903, 'cries': 904, 'winter': 905, 'above': 906, 'full': 907, 'fantasy': 908, 'school': 909, 'ends': 910, \"you'd\": 911, 'grace': 912, \"she'll\": 913, 'supposed': 914, \"child's\": 915, 'clear': 916, 'hearts': 917, 'evening': 918, 'lovely': 919, 'lights': 920, 'space': 921, 'wild': 922, 'restless': 923, 'second': 924, 'bed': 925, 'winds': 926, 'lovers': 927, \"life's\": 928, \"tryin'\": 929, 'ti': 930, 'disappear': 931, 'princess': 932, 'meant': 933, 'shall': 934, 'surely': 935, 'catch': 936, 'places': 937, 'heat': 938, 'madness': 939, 'loose': 940, 'ready': 941, 'different': 942, 'killer': 943, 'open': 944, 'hell': 945, 'funky': 946, 'kick': 947, 'movie': 948, 'tenderness': 949, 'caress': 950, 'walking': 951, 'everytime': 952, 'fast': 953, 'return': 954, 'year': 955, 'leaving': 956, 'half': 957, 'shame': 958, 'shoot': 959, 'smooth': 960, 'crescendo': 961, 'apartment': 962, 'bloodstains': 963, 'carpet': 964, 'bedroom': 965, 'dang': 966, 'minds': 967, 'self': 968, 'police': 969, 'wanting': 970, 'seemed': 971, 'entire': 972, 'saturday': 973, 'lying': 974, 'injustice': 975, 'bear': 976, 'joy': 977, 'confidence': 978, 'means': 979, 'sleep': 980, 'dog': 981, 's': 982, 'soldier': 983, 'fake': 984, 'searching': 985, 'stories': 986, 'glory': 987, 'dies': 988, 'legacy': 989, 'stick': 990, '‘til': 991, 'won’t': 992, 'let’s': 993, 'one’s': 994, 'cheater': 995, 'uuh': 996, 'complain': 997, 'cuando': 998, 'bien': 999, 'pitbull': 1000, 'intro': 1001, \"shouldn't\": 1002, 'worry': 1003, 'trees': 1004, 'blows': 1005, 'begins': 1006, 'robin': 1007, 'bird': 1008, 'spirits': 1009, 'spring': 1010, \"they'd\": 1011, 'e': 1012, 'breathe': 1013, 'ups': 1014, 'downs': 1015, 'changing': 1016, 'groovy': 1017, 'learn': 1018, 'others': 1019, 'u': 1020, 'birds': 1021, 'cried': 1022, \"callin'\": 1023, 'thoughts': 1024, \"nothing's\": 1025, 'grow': 1026, 'ride': 1027, 'angel': 1028, 'nest': 1029, 'keeps': 1030, 'r': 1031, 'fine': 1032, 'songs': 1033, 'happen': 1034, 'taste': 1035, 'shines': 1036, 'sings': 1037, 'rhythm': 1038, 'shalalala': 1039, 'hurry': 1040, 'vow': 1041, 'aching': 1042, '4th': 1043, \"man's\": 1044, 'shelf': 1045, 'rules': 1046, 'exactly': 1047, 'cuts': 1048, 'disguise': 1049, 'softly': 1050, 'prize': 1051, \"someone's\": 1052, 'mystery': 1053, 'rather': 1054, 'j': 1055, 'spin': 1056, \"movin'\": 1057, \"lyin'\": 1058, \"baby's\": 1059, 'slowly': 1060, 'sa': 1061, 'fighting': 1062, 'nowhere': 1063, 'forty': 1064, 'hour': 1065, 'defeated': 1066, \"showin'\": 1067, 'claims': 1068, 'smell': 1069, 'happened': 1070, 'reaching': 1071, 'spark': 1072, \"'s\": 1073, 'sweetest': 1074, 'dime': 1075, 'spend': 1076, 'moving': 1077, 'happiness': 1078, 'waits': 1079, 'broke': 1080, 'satisfied': 1081, 'headed': 1082, 'freeway': 1083, 'leadway': 1084, \"stoppin'\": 1085, 'hug': 1086, 'major': 1087, 'planets': 1088, 'fulfill': 1089, 'victim': 1090, 'mountain': 1091, \"laughin'\": 1092, 'streetwalking': 1093, 'problems': 1094, 'food': 1095, 'shoes': 1096, 'stephanie': 1097, 'monaco': 1098, 'presence': 1099, 'closet': 1100, 'driving': 1101, 'cut': 1102, 'park': 1103, 'situation': 1104, 'remain': 1105, 'nations': 1106, 'bright': 1107, 'vows': 1108, 'wont': 1109, 'boldly': 1110, 'flat': 1111, 'vain': 1112, 'bash': 1113, 'scheme': 1114, 'liberty': 1115, 'mask': 1116, 'moscow': 1117, 'fix': 1118, 'sick': 1119, 'notice': 1120, 'abraham': 1121, \"he'll\": 1122, 'fate': 1123, 'youth': 1124, 'conquest': 1125, \"foolin'\": 1126, 'mj': 1127, 'screaming': 1128, \"susie's\": 1129, 'worthwhile': 1130, 'preaching': 1131, 'creak': 1132, 'ghostly': 1133, 'heartbreaker': 1134, 'invincible': 1135, 'you’ve': 1136, 'x': 1137, 'you’ll': 1138, '‘cause': 1139, 'thank': 1140, 'romancing': 1141, 'driver': 1142, 'rider': 1143, 'job': 1144, 'wary': 1145, 'oho': 1146, 'ice': 1147, 'woah': 1148, 'al': 1149, 'quien': 1150, 'estas': 1151, 'hay': 1152, 'toast': 1153, 'ought': 1154, \"other's\": 1155, 'cup': 1156, 'difference': 1157, 'beside': 1158, \"rockin'\": 1159, 'band': 1160, 'grand': 1161, 'beach': 1162, 'seas': 1163, 'key': 1164, 'darkest': 1165, \"runnin'\": 1166, 'loud': 1167, 'spinning': 1168, 'flying': 1169, 'holiday': 1170, 'tickets': 1171, \"people's\": 1172, 'heads': 1173, 'underground': 1174, 'cloudy': 1175, 'ooooh': 1176, 'pocket': 1177, 'cared': 1178, 'lose': 1179, 'stray': 1180, 'single': 1181, 'torn': 1182, 'tear': 1183, 'problem': 1184, 'sunny': 1185, 'grown': 1186, 'lead': 1187, 'smiles': 1188, 'falls': 1189, 'flowers': 1190, 'blues': 1191, 'began': 1192, 'candy': 1193, 'brand': 1194, 'lifetime': 1195, 'recall': 1196, 'stronger': 1197, '3x': 1198, 'h': 1199, 'o': 1200, 'starts': 1201, 'grab': 1202, 'harmony': 1203, \"reachin'\": 1204, 'touching': 1205, 'somehow': 1206, 'fairytales': 1207, 'few': 1208, 'minute': 1209, 'become': 1210, 'suddenly': 1211, 'falling': 1212, 'lot': 1213, \"dancin'\": 1214, 'dear': 1215, 'probably': 1216, 'ouuuuuuuuuuuuuuuuuuuuuuuuuuuuuh': 1217, 'feelings': 1218, 'fan': 1219, 'wondering': 1220, \"complanin'\": 1221, 'sight': 1222, 'reality': 1223, 'chances': 1224, 'chant': 1225, 'boyfriend': 1226, 'etc': 1227, 'laugh': 1228, 'damned': 1229, 'glad': 1230, 'breakdown': 1231, 'pretend': 1232, 'se': 1233, 'ecstasy': 1234, 'burning': 1235, \"heaven's\": 1236, 'silly': 1237, 'endlessly': 1238, 'looks': 1239, 'beast': 1240, 'imagination': 1241, 'tomb': 1242, 'evil': 1243, 'fair': 1244, 'city': 1245, 'likes': 1246, 'stare': 1247, 'shadows': 1248, 'confusions': 1249, 'pieces': 1250, 'faces': 1251, 'double': 1252, 'symphony': 1253, 'nickel': 1254, 'storm': 1255, 'elsewhere': 1256, 'arrive': 1257, 'begging': 1258, 'worlds': 1259, 'best': 1260, 'butt': 1261, 'count': 1262, \"sky's\": 1263, 'limit': 1264, \"throwin'\": 1265, \"keepin'\": 1266, 'acha': 1267, 'border': 1268, 'highway': 1269, 'compass': 1270, 'penda': 1271, 'taka': 1272, 'mpenziwe': 1273, 'mistake': 1274, 'secret': 1275, 'acts': 1276, 'finger': 1277, \"sendin'\": 1278, \"linin'\": 1279, \"bringin'\": 1280, \"waitin'\": 1281, 'nation': 1282, 'danger': 1283, 'whispers': 1284, 'trapped': 1285, 'underneath': 1286, 'criminal': 1287, \"walkin'\": 1288, 'anyway': 1289, 'sorry': 1290, 'motion': 1291, 'plan': 1292, \"aren't\": 1293, 'soothe': 1294, 'jeans': 1295, 'mojo': 1296, 'case': 1297, 'lives': 1298, \"god's\": 1299, 'bang': 1300, 'scare': 1301, 'war': 1302, \"she'd\": 1303, 'thee': 1304, 'simply': 1305, \"world's\": 1306, \"power's\": 1307, 'winner': 1308, 'blown': 1309, 'beyond': 1310, 'taken': 1311, 'cope': 1312, 'sword': 1313, 'libs': 1314, \"abusin'\": 1315, 'victimize': 1316, 'insane': 1317, 'allegation': 1318, 'suite': 1319, 'throwing': 1320, 'killing': 1321, 'weeping': 1322, 'heavens': 1323, 'cia': 1324, 'taught': 1325, \"'lone\": 1326, 'slander': 1327, 'torture': 1328, 'actual': 1329, 'stab': 1330, \"disgustin'\": 1331, 'path': 1332, 'legend': 1333, 'hero': 1334, 'stairs': 1335, 'tenderly': 1336, 'fashioned': 1337, 'slenderly': 1338, 'everyone': 1339, 'escape': 1340, 'seven': 1341, 'inches': 1342, 'bitch': 1343, \"mother's\": 1344, 'playing': 1345, \"jammin'\": 1346, 'moly': 1347, 'nasty': 1348, 'rocking': 1349, 'chair': 1350, \"coughin'\": 1351, \"yawnin'\": 1352, 'arrow': 1353, 'hiding': 1354, 'speaks': 1355, 'makin’': 1356, 'searched': 1357, 'pass': 1358, 'calls': 1359, \"wasn't\": 1360, 'privacy': 1361, 'rod': 1362, 'serling': 1363, 'village': 1364, 'worst': 1365, 'nightmare': 1366, 'paper': 1367, 'reaches': 1368, 'touches': 1369, 'shining': 1370, \"friday's\": 1371, 'nighter': 1372, 'aaw': 1373, 'pah': 1374, 'innocently': 1375, 'akon': 1376, 'jumping': 1377, 'bouncing': 1378, 'drunk': 1379, 'yeh': 1380, 'boogieman': 1381, 'messin': 1382, 'quiet': 1383, 'staring': 1384, 'pushed': 1385, 'spied': 1386, 'revenge': 1387, 'capone': 1388, 'como': 1389, 'por': 1390, 'conoces': 1391, 'tambien': 1392, 'yo': 1393, 'vivir': 1394, 'es': 1395, 'vida': 1396, 'das': 1397, 'sens': 1398, \"j'ai\": 1399, 'ce': 1400, 'pour': 1401, \"c'est\": 1402, 'moi': 1403, 'ca': 1404, 'stoppe': 1405, 'crois': 1406, 'deviendrais': 1407, 'fou': 1408, 'ton': 1409, 'amour': 1410, 'tengo': 1411, 'bones': 1412, \"haven't\": 1413, 'foolish': 1414, 'forest': 1415, 'erase': 1416, 'strength': 1417, 'lean': 1418, 'crush': 1419, 'thirst': 1420, 'frees': 1421, 'welcome': 1422, 'tops': 1423, \"hoppin'\": 1424, \"boppin'\": 1425, 'birdies': 1426, 'jaybird': 1427, 'steady': 1428, 'skies': 1429, 'calling': 1430, 'heartache': 1431, 'locked': 1432, 'trace': 1433, 'brighten': 1434, 'most': 1435, 'trapeze': 1436, 'teachers': 1437, 'strike': 1438, 'folks': 1439, 'clothes': 1440, 'wear': 1441, 'equality': 1442, 'instrumental': 1443, 'biggest': 1444, 'fools': 1445, 'rule': 1446, 'outside': 1447, 'month': 1448, 'bees': 1449, 'claim': 1450, 'destined': 1451, 'pure': 1452, 'ignore': 1453, 'precious': 1454, 'faithful': 1455, 'wander': 1456, 'straight': 1457, 'girls': 1458, 'given': 1459, 'carefree': 1460, 'snow': 1461, 'lucky': 1462, 'reached': 1463, 'dearest': 1464, 'divine': 1465, 'chased': 1466, 'smiled': 1467, 'silently': 1468, 'longer': 1469, 'weak': 1470, \"head's\": 1471, 'born': 1472, 'wearing': 1473, 'rest': 1474, 'dial': 1475, 'roll': 1476, 'clean': 1477, 'having': 1478, 'invitation': 1479, 'due': 1480, 'ago': 1481, 'rhyme': 1482, 'melody': 1483, 'plans': 1484, 'afford': 1485, \"slippin'\": 1486, \"lookin'\": 1487, 'search': 1488, 'caused': 1489, 'forgive': 1490, 'speak': 1491, 'laughter': 1492, 'treasure': 1493, 'caring': 1494, 'john': 1495, 'ouuh': 1496, 'country': 1497, 'dancin': 1498, 'dapper': 1499, 'dan': 1500, 'ohh': 1501, 'hundred': 1502, 'beginning': 1503, 'touched': 1504, 'promess': 1505, 'mister': 1506, 'postman': 1507, 'miles': 1508, 'questions': 1509, 'closer': 1510, 'melting': 1511, 'sensation': 1512, 'hours': 1513, 'heartbreak': 1514, 'enemy': 1515, 'eternal': 1516, 'relax': 1517, 'sugar': 1518, 'often': 1519, \"seein'\": 1520, \"groovin'\": 1521, \"choosin'\": 1522, 'determined': 1523, 'act': 1524, 'letters': 1525, \"an'\": 1526, 'whether': 1527, 'stands': 1528, 'kept': 1529, 'helpless': 1530, 'sigh': 1531, 'web': 1532, 'freak': 1533, 'raise': 1534, \"squealin'\": 1535, 'became': 1536, 'buffet': 1537, \"dyin'\": 1538, 'coo': 1539, 'paradise': 1540, 'fears': 1541, 'special': 1542, 'yep': 1543, 'stops': 1544, 'terror': 1545, 'slam': 1546, 'survive': 1547, 'creatures': 1548, 'masquerade': 1549, 'wide': 1550, 'closing': 1551, 'thousand': 1552, 'shiver': 1553, 'dig': 1554, 'tough': 1555, \"playin'\": 1556, 'queen': 1557, \"girls'\": 1558, 'nights': 1559, 'demand': 1560, 'schemes': 1561, 'danced': 1562, 'advice': 1563, 'four': 1564, 'background': 1565, 'cool': 1566, 'steal': 1567, 'rides': 1568, 'crowd': 1569, 'memories': 1570, 'sometimes': 1571, 'numbers': 1572, 'pick': 1573, 'lend': 1574, 'willing': 1575, 'moved': 1576, 'selfish': 1577, 'million': 1578, 'bucks': 1579, 'proof': 1580, 'corner': 1581, \"summer's\": 1582, 'hometown': 1583, 'discuss': 1584, 'sometime': 1585, 'rough': 1586, 'sail': 1587, 'which': 1588, 'growing': 1589, 'broad': 1590, 'daylight': 1591, 'lock': 1592, 'cheap': 1593, 'stones': 1594, 'slap': 1595, 'dress': 1596, 'car': 1597, 'paint': 1598, \"givin'\": 1599, 'forevermore': 1600, 'view': 1601, 'tracks': 1602, 'midway': 1603, 'uhh': 1604, \"yo'\": 1605, 'movies': 1606, 'complete': 1607, 'cheek': 1608, 'mission': 1609, 'point': 1610, 'pretending': 1611, \"ya'\": 1612, 'washed': 1613, 'seduce': 1614, 'aa': 1615, 'forgot': 1616, 'table': 1617, 'deceive': 1618, 'excited': 1619, 'satisfying': 1620, 'fact': 1621, 'paris': 1622, 'notion': 1623, 'asked': 1624, 'favor': 1625, 'false': 1626, 'system': 1627, 'recognize': 1628, 'performed': 1629, \"mike's\": 1630, 'mingle': 1631, 'violence': 1632, 'drug': 1633, 'brutality': 1634, 'wet': 1635, 'secrets': 1636, 'burns': 1637, 'spell': 1638, 'gives': 1639, 'shock': 1640, 'pleasure': 1641, 'innocent': 1642, 'played': 1643, 'joyful': 1644, 'reveal': 1645, 'crucify': 1646, 'miracles': 1647, 'print': 1648, 'either': 1649, 'sheets': 1650, 'b': 1651, 'performance': 1652, 'grief': 1653, 'color': 1654, 'promises': 1655, 'untold': 1656, 'agony': 1657, 'spent': 1658, 'river': 1659, 'lowly': 1660, 'blessed': 1661, 'deepest': 1662, 'surrender': 1663, 'circumstance': 1664, 'water': 1665, 'float': 1666, 'ta': 1667, 'dust': 1668, 'respect': 1669, 'lines': 1670, 'persuasive': 1671, 'whisper': 1672, 'edged': 1673, 'shadow': 1674, 'prove': 1675, 'souls': 1676, 'scrutinize': 1677, 'confusion': 1678, 'death': 1679, 'male': 1680, 'mad': 1681, 'sue': 1682, 'kike': 1683, \"bein'\": 1684, 'sake': 1685, 'speculation': 1686, 'government': 1687, 'kgb': 1688, 'west': 1689, 'confess': 1690, 'cameras': 1691, 'gun': 1692, 'nigga': 1693, 'flow': 1694, 'strangers': 1695, 'fields': 1696, 'shores': 1697, 'although': 1698, 'greed': 1699, 'flag': 1700, 'wars': 1701, 'disease': 1702, 'written': 1703, 'joo': 1704, 'roller': 1705, 'early': 1706, 'warning': 1707, 'slip': 1708, 'ear': 1709, 'kidding': 1710, 'elementary': 1711, 'compensate': 1712, 'pen': 1713, 'hood': 1714, 'parasite': 1715, 'glorify': 1716, \"'fy\": 1717, 'sanctifies': 1718, \"'fies\": 1719, 'aiming': 1720, 'stuffy': 1721, 'brings': 1722, 'kicked': 1723, 'motivate': 1724, 'fires': 1725, 'victims': 1726, 'slaughtered': 1727, 'page': 1728, 'writing': 1729, 'chivalry': 1730, 'harmonize': 1731, 'tune': 1732, 'daytime': 1733, 'beating': 1734, 'hoping': 1735, 'poor': 1736, 'fought': 1737, 'stance': 1738, 'simple': 1739, 'sincere': 1740, 'liar': 1741, \"dog's\": 1742, 'ten': 1743, 'woh': 1744, 'keen': 1745, 'wrap': 1746, 'jump': 1747, 'agitate': 1748, 'ho': 1749, 'hall': 1750, 'onto': 1751, 'intrusion': 1752, \"suckin'\": 1753, 'piece': 1754, 'beneath': 1755, 'ghosts': 1756, 'spoke': 1757, 'fantasies': 1758, 'unbreakable': 1759, 'bury': 1760, 'these': 1761, 'buying': 1762, 'diamonds': 1763, 'pearls': 1764, 'trick': 1765, 'x3': 1766, 'cruise': 1767, 'wake': 1768, 'kissing': 1769, 'whoa': 1770, 'magical': 1771, 'deal': 1772, '2000': 1773, 'watts': 1774, '8': 1775, 'ohms': 1776, '200': 1777, 'volts': 1778, 'fuse': 1779, 'overload': 1780, 'opened': 1781, 'we’re': 1782, 'pictures': 1783, 'paparazzi': 1784, 'maliciously': 1785, 'attacking': 1786, 'integrity': 1787, 'missing': 1788, 'fathers': 1789, 'mothers': 1790, 'biding': 1791, 'working': 1792, 'carlos': 1793, 'unknown': 1794, 'i’ve': 1795, 'le': 1796, 'jack': 1797, 'cos': 1798, 'bible': 1799, 'forsake': 1800, 'gloom': 1801, 'turning': 1802, 'fearful': 1803, \"night's\": 1804, 'aah': 1805, 're': 1806, 'questioned': 1807, 'darker': 1808, 'lipstick': 1809, 'tahitian': 1810, 'tanned': 1811, 'painted': 1812, 'fits': 1813, 'camera': 1814, 'seeeee': 1815, 'lalalalala': 1816, 'vision': 1817, 'dragging': 1818, '…': 1819, 'suffering': 1820, 'strangest': 1821, 'insincere': 1822, \"where's\": 1823, 'answered': 1824, 'mess': 1825, 'forgiving': 1826, 'feelin’': 1827, 'guarantee': 1828, 'adore': 1829, 'pressure': 1830, 'setting': 1831, 'voz': 1832, 'sabes': 1833, 'junto': 1834, 'puedo': 1835, 'vas': 1836, 'pues': 1837, 'quiero': 1838, 'les': 1839, 'sans': 1840, \"j'aimerais\": 1841, 'ressens': 1842, 'personne': 1843, 'comprend': 1844, 'près': 1845, \"j'en\": 1846, 'oui': 1847, 'el': 1848, 'heading': 1849, 'cruel': 1850, 'misery': 1851, \"robin'\": 1852, 'swallow': 1853, 'chick': 1854, 'dee': 1855, 'tall': 1856, 'oak': 1857, 'wise': 1858, 'owl': 1859, 'crow': 1860, \"flappin'\": 1861, 'bop': 1862, 'bless': 1863, 'bopped': 1864, 'buzzard': 1865, 'oriol': 1866, \"spirit's\": 1867, 'boundaries': 1868, 'rushes': 1869, 'ties': 1870, 'bind': 1871, 'rainbows': 1872, 'miss': 1873, 'honest': 1874, \"d'you\": 1875, 'sunflower': 1876, 'plea': 1877, 'sympathy': 1878, 'persuaded': 1879, 'tendeness': 1880, 'unaware': 1881, 'lonelyness': 1882, 'thar': 1883, 'closed': 1884, 'passing': 1885, 'stripped': 1886, 'tuch': 1887, 'fades': 1888, 'trubled': 1889, 'grows': 1890, 'north': 1891, \"here's\": 1892, \"knockin'\": 1893, 'desert': 1894, 'carnival': 1895, 'ferris': 1896, 'wheels': 1897, 'carosels': 1898, 'colored': 1899, 'moneys': 1900, 'board': 1901, 'ecology': 1902, \"air's\": 1903, 'polluted': 1904, 'hippy': 1905, 'politicians': 1906, 'poverty': 1907, 'packing': 1908, 'fixing': 1909, 'torch': 1910, 'prentending': 1911, 'envy': 1912, 'sweeter': 1913, 'riches': 1914, \"money's\": 1915, 'runneth': 1916, 'fullness': 1917, 'bullshit': 1918, 'striving': 1919, 'relies': 1920, 'screw': 1921, 'ruined': 1922, 'below': 1923, \"it'll\": 1924, 'forefathers': 1925, 'sweetheart': 1926, \"tumblin'\": 1927, \"crumblin'\": 1928, 'patch': 1929, 'heartaches': 1930, 'rescue': 1931, \"girl's\": 1932, 'mysery': 1933, 'treating': 1934, 'oooooooh': 1935, 'worries': 1936, 'frown': 1937, 'astray': 1938, 'nice': 1939, 'gay': 1940, 'merry': 1941, 'stormy': 1942, 'humpty': 1943, \"dumpty's\": 1944, 'brushed': 1945, 'himself': 1946, 'springtime': 1947, 'breathless': 1948, 'hush': 1949, 'trembles': 1950, 'brink': 1951, 'kin': 1952, 'lam': 1953, 'suspended': 1954, 'smiling': 1955, 'flee': 1956, 'oehoe': 1957, 'meaning': 1958, \"heart's\": 1959, 'upset': 1960, 'whirl': 1961, '7x': 1962, 'untamed': 1963, 'settling': 1964, 'roots': 1965, 'cage': 1966, 'thrills': 1967, 'yoour': 1968, 'abd': 1969, \"me's\": 1970, 'victorious': 1971, 'raindbows': 1972, \"anything's\": 1973, 'powers': 1974, 'ills': 1975, 'needing': 1976, 'pills': 1977, 'hymn': 1978, 'glorious': 1979, 'healthly': 1980, 'anyone': 1981, 'frustration': 1982, 'glimmer': 1983, 'sweep': 1984, 'present': 1985, 'birth': 1986, \"tomorrow's\": 1987, 'wether': 1988, 'feather': 1989, 'task': 1990, 'bridges': 1991, \"searchin'\": 1992, 'reachin': 1993, 'tighter': 1994, 'juste': 1995, 'grass': 1996, 'green': 1997, 'shone': 1998, 'card': 1999, 'prolems': 2000, 'sunbeams': 2001, \"slipper's\": 2002, 'fit': 2003, 'endure': 2004, 'fairytale': 2005, 'plant': 2006, 'garden': 2007, 'shal': 2008, 'add': 2009, 'pleasures': 2010, 'sums': 2011, 'cake': 2012, 'crumbs': 2013, \"doctor's\": 2014, 'remedy': 2015, 'eeny': 2016, 'weeny': 2017, 'teeny': 2018, \"flu'\": 2019, 'daily': 2020, \"o'\": 2021, 'thanks': 2022, 'follows': 2023, 'trough': 2024, 'harmonica': 2025, 'soulful': 2026, 'tech': 2027, 'master': 2028, 'fastest': 2029, 'wanta': 2030, 'oo': 2031, 'sexy': 2032, \"record's\": 2033, 'ouuuuuuuuuuuuuuuuuuuuuuuuuuuuh': 2034, 'held': 2035, 'sealing': 2036, 'envelope': 2037, \"abc's\": 2038, 'meeting': 2039, 'picture': 2040, 'whne': 2041, 'shared': 2042, \"temperature's\": 2043, \"risin'\": 2044, 'asks': 2045, 'candle': 2046, 'wax': 2047, 'despise': 2048, 'slow': 2049, 'survives': 2050, 'scratch': 2051, '5th': 2052, '6th': 2053, '7th': 2054, '8th': 2055, 'soothing': 2056, 'rejection': 2057, 'choices': 2058, 'hang': 2059, 'inhibitions': 2060, 'exhibition': 2061, \"savin'\": 2062, 'denied': 2063, 'granted': 2064, 'cavalier': 2065, 'possession': 2066, 'expression': 2067, 'indecision': 2068, 'cursed': 2069, 'surprise': 2070, 'sensual': 2071, 'fingers': 2072, 'possessed': 2073, 'bringing': 2074, 'sparkles': 2075, 'anybody': 2076, 'attracted': 2077, 'trading': 2078, 'patti': 2079, 'austin': 2080, 'possibility': 2081, 'steam': 2082, \"comin'\": 2083, 'foot': 2084, 'join': 2085, \"weekend's\": 2086, 'fun': 2087, 'roof': 2088, 'tongue': 2089, 'razor': 2090, 'treacherous': 2091, \"cunnin'\": 2092, \"declinin'\": 2093, \"rubbin'\": 2094, 'shoulders': 2095, 'motor': 2096, \"spyin'\": 2097, 'cant': 2098, \"hustlin'\": 2099, \"stealin'\": 2100, 'unfurl': 2101, 'melt': 2102, 'embrace': 2103, \"mornin'\": 2104, 'begun': 2105, 'mountains': 2106, 'lasting': 2107, 'walks': 2108, 'sending': 2109, 'roses': 2110, 'discover': 2111, 'build': 2112, 'hopes': 2113, 'fighter': 2114, \"evil's\": 2115, 'lurking': 2116, 'freeze': 2117, 'horror': 2118, 'paralyzed': 2119, 'creature': 2120, \"creepin'up\": 2121, \"escapin'\": 2122, 'jaws': 2123, 'alien': 2124, 'demons': 2125, 'possess': 2126, 'unless': 2127, 'cuddle': 2128, 'thru': 2129, 'terrors': 2130, 'tight': 2131, 'diller': 2132, 'chiller': 2133, 'vincent': 2134, 'midnite': 2135, 'crawl': 2136, 'terrorize': 2137, \"y'awl's\": 2138, 'neighbourhood': 2139, 'whosoever': 2140, 'hounds': 2141, 'rot': 2142, \"corpse's\": 2143, 'shell': 2144, 'foulest': 2145, 'stench': 2146, 'funk': 2147, 'grizzly': 2148, 'ghouls': 2149, 'seal': 2150, 'mere': 2151, 'mortal': 2152, 'resist': 2153, 'maniacal': 2154, 'echo': 2155, \"fire's\": 2156, 'macho': 2157, '4x': 2158, 'beauty': 2159, 'dreamed': 2160, 'becomes': 2161, 'photo': 2162, 'stood': 2163, 'perfume': 2164, 'winks': 2165, 'sleepless': 2166, 'seducing': 2167, 'sighs': 2168, 'apple': 2169, 'bite': 2170, 'electric': 2171, \"ev'rywhere\": 2172, \"city's\": 2173, 'tendoroni': 2174, 'ease': 2175, 'max': 2176, \"burnin'\": 2177, 'emergency': 2178, \"yearnin'\": 2179, 'dim': 2180, 'spot': 2181, 'lighting': 2182, 'meet': 2183, \"spinnin'\": 2184, 'candlelight': 2185, 'castles': 2186, 'trade': 2187, 'rainy': 2188, 'gray': 2189, 'squeeze': 2190, 'x7': 2191, 'popcorn': 2192, 'pony': 2193, 'disappointments': 2194, 'disappeared': 2195, 'clown': 2196, 'dancer': 2197, 'instant': 2198, 'calliope': 2199, 'cards': 2200, 'ahead': 2201, 'badly': 2202, 'madly': 2203, 'split': 2204, 'quit': 2205, 'woke': 2206, 'passed': 2207, 'destiny': 2208, 'enchanted': 2209, 'filled': 2210, 'winding': 2211, 'shorter': 2212, 'bringhten': 2213, 'lighter': 2214, 'ears': 2215, 'penny': 2216, 'poorest': 2217, 'millionaire': 2218, 'embarrassed': 2219, 'sentimental': 2220, 'learning': 2221, 'noo': 2222, 'apples': 2223, 'peaches': 2224, 'cherries': 2225, 'lollipops': 2226, 'sweetness': 2227, 'funny': 2228, 'popper': 2229, 'traffic': 2230, 'stopper': 2231, 'happiest': 2232, 'grandma': 2233, 'bumped': 2234, 'store': 2235, \"grandma's\": 2236, 'gotten': 2237, \"time's\": 2238, 'oohh': 2239, 'separate': 2240, 'golden': 2241, 'glare': 2242, 'turns': 2243, 'understanding': 2244, \"heartache's\": 2245, 'laying': 2246, 'conquer': 2247, 'pace': 2248, 'style': 2249, 'tools': 2250, 'course': 2251, 'avoiding': 2252, 'ships': 2253, 'numbered': 2254, 'listening': 2255, 'compromise': 2256, 'constant': 2257, 'eleventh': 2258, 'prepared': 2259, 'named': 2260, \"woman's\": 2261, 'youngest': 2262, 'heels': 2263, 'product': 2264, 'loveliness': 2265, 'matters': 2266, 'nearer': 2267, \"future's\": 2268, \"preachin'\": 2269, 'lit': 2270, 'rocket': 2271, 'ugh': 2272, 'pearl': 2273, 'watched': 2274, 'appreciate': 2275, 'impressions': 2276, 'affair': 2277, 'suspicions': 2278, \"jus'\": 2279, 'root': 2280, 'signs': 2281, 'planet': 2282, 'final': 2283, 'collar': 2284, 'favourite': 2285, 'coat': 2286, \"blowin'\": 2287, 'disregard': 2288, 'bottle': 2289, 'loan': 2290, 'widow': 2291, 'deeply': 2292, 'scarred': 2293, 'pattern': 2294, \"could've\": 2295, 'misunderstand': 2296, 'dawning': 2297, 'harps': 2298, 'awakes': 2299, \"feeling's\": 2300, 'weight': 2301, \"turnin'\": 2302, 'boys': 2303, \"musician's\": 2304, 'curtain': 2305, 'backstage': 2306, 'doors': 2307, 'prestige': 2308, 'taunt': 2309, 'dia': 2310, \"sleepin'\": 2311, 'worried': 2312, 'unlock': 2313, 'unable': 2314, 'outway': 2315, 'sunday': 2316, 'resuscitation': 2317, 'sounding': 2318, 'heartbeats': 2319, 'intimidations': 2320, 'area': 2321, 'excuses': 2322, 'kisses': 2323, 'ecstacy': 2324, 'six': 2325, \"body's\": 2326, 'chase': 2327, 'faraway': 2328, 'island': 2329, 'york': 2330, 'france': 2331, 'season': 2332, 'treason': 2333, 'rebbie': 2334, 'sample': 2335, 'neighbor': 2336, 'later': 2337, 'cuz': 2338, 'prophets': 2339, 'possibilities': 2340, 'rearranging': 2341, 'predictions': 2342, 'age': 2343, 'favors': 2344, 'conditioned': 2345, 'buddha': 2346, 'talmud': 2347, 'contradict': 2348, 'temple': 2349, 'heavy': 2350, 'relaxed': 2351, 'jingle': 2352, 'jungle': 2353, 'bum': 2354, 'rushed': 2355, \"4's\": 2356, 'bundle': 2357, 'execute': 2358, 'cooled': 2359, '9x': 2360, 'bigger': 2361, 'hunger': 2362, 'teach': 2363, 'diseases': 2364, 'cure': 2365, 'doctors': 2366, 'gang': 2367, 'bloodshed': 2368, 'homeless': 2369, 'addiction': 2370, 'corruption': 2371, 'streetwalkers': 2372, 'contain': 2373, 'humble': 2374, 'cleave': 2375, 'furnace': 2376, 'neglect': 2377, 'abuse': 2378, 'deny': 2379, 'rub': 2380, 'cast': 2381, 'breaks': 2382, 'turtleneck': 2383, 'sweater': 2384, \"fakin'\": 2385, 'composition': 2386, 'statistical': 2387, 'tacy': 2388, 'satin': 2389, 'lace': 2390, 'paisley': 2391, 'wasting': 2392, 'position': 2393, 'holding': 2394, 'spain': 2395, 'mysteries': 2396, 'mastermind': 2397, 'bliss': 2398, 'dread': 2399, 'existing': 2400, 'conceived': 2401, 'believed': 2402, 'strangling': 2403, 'wound': 2404, 'plain': 2405, 'heavenly': 2406, 'swords': 2407, 'plowshares': 2408, 'miracle': 2409, 'none': 2410, 'protection': 2411, 'gangs': 2412, 'clubs': 2413, 'causing': 2414, 'relations': 2415, 'turf': 2416, 'global': 2417, 'scale': 2418, 'sides': 2419, 'tale': 2420, 'races': 2421, 'duller': 2422, 'agree': 2423, 'dirt': 2424, 'anew': 2425, 'untrue': 2426, 'woe': 2427, 'unto': 2428, 'punishment': 2429, 'reasons': 2430, 'unexplained': 2431, 'stone': 2432, 'kicks': 2433, 'hurting': 2434, 'preacher': 2435, 'satisfy': 2436, 'jordan': 2437, 'weary': 2438, 'scold': 2439, 'able': 2440, \"everyone's\": 2441, 'role': 2442, 'bathe': 2443, 'trials': 2444, 'tribulations': 2445, 'doubts': 2446, 'frustrations': 2447, 'turbulence': 2448, 'confessions': 2449, 'anguish': 2450, 'alibis': 2451, 'believing': 2452, 'highest': 2453, 'swim': 2454, 'sea': 2455, 'esteem': 2456, \"'stead\": 2457, 'beliving': 2458, 'ow': 2459, 'knowwhen': 2460, 'check': 2461, 'brotha': 2462, 'track': 2463, 'comet': 2464, 'blazing': 2465, \"'cross\": 2466, 'fading': 2467, 'twinkling': 2468, 'shiny': 2469, 'sparkly': 2470, 'splendidly': 2471, 'loss': 2472, 'afternoon': 2473, 'castle': 2474, 'built': 2475, 'sandy': 2476, 'flower': 2477, 'amuse': 2478, 'inspire': 2479, 'delight': 2480, 'rising': 2481, 'divinity': 2482, 'stalked': 2483, 'aura': 2484, 'sections': 2485, \"passion's\": 2486, 'insanity': 2487, \"lust's\": 2488, 'inhumanity': 2489, 'manipulation': 2490, 'lips': 2491, 'honeycomb': 2492, 'smoother': 2493, 'oil': 2494, 'inner': 2495, 'spirit': 2496, 'sharp': 2497, 'disgusting': 2498, 'jacked': 2499, 'sucks': 2500, 'peek': 2501, \"sellin'\": 2502, \"causin'\": 2503, \"changin'\": 2504, \"scandalizin'\": 2505, \"in'\": 2506, 'disgusted': 2507, 'brutally': 2508, 'beaten': 2509, 'wrongly': 2510, 'identified': 2511, 'robbery': 2512, 'suspect': 2513, '18': 2514, 'collusions': 2515, 'aggravation': 2516, 'jew': 2517, 'wife': 2518, \"rapin'\": 2519, 'prophecy': 2520, 'trepidation': 2521, 'mail': 2522, 'jail': 2523, 'rights': 2524, 'invisible': 2525, 'proclamation': 2526, 'class': 2527, 'roosevelt': 2528, 'litigation': 2529, 'trash': 2530, 'martin': 2531, 'luther': 2532, 'segregation': 2533, 'wandering': 2534, 'swift': 2535, 'sudden': 2536, \"kremlin's\": 2537, \"belittlin'\": 2538, \"stalin's\": 2539, 'abandoned': 2540, 'armageddon': 2541, 'brain': 2542, 'beggar': 2543, 'drown': 2544, 'interrogator': 2545, 'russian': 2546, 'english': 2547, 'translation': 2548, 'achievements': 2549, 'accomplishments': 2550, 'workers': 2551, 'falsely': 2552, 'accuse': 2553, 'spit': 2554, 'notorious': 2555, \"flashin'\": 2556, 'taps': 2557, 'safe': 2558, \"missin'\": 2559, \"robbin'\": 2560, 'profit': 2561, 'apology': 2562, 'shallow': 2563, 'ocean': 2564, 'resort': 2565, \"totin'\": 2566, \"smokin'\": 2567, 'lonesome': 2568, \"jokin'\": 2569, 'endo': 2570, 'smoke': 2571, 'choked': 2572, \"hopin'\": 2573, \"blow'em\": 2574, 'rid': 2575, 'pitts': 2576, 'raised': 2577, 'peoples': 2578, 'slack': 2579, 'mike': 2580, 'mehe': 2581, 'sunrise': 2582, 'gain': 2583, 'shed': 2584, 'pledge': 2585, 'flowering': 2586, 'glance': 2587, 'drifted': 2588, 'apathy': 2589, \"nature's\": 2590, \"planet's\": 2591, 'womb': 2592, 'animals': 2593, 'kingdoms': 2594, 'elephants': 2595, 'whales': 2596, 'ravaging': 2597, 'trails': 2598, 'burnt': 2599, 'despite': 2600, 'pleas': 2601, 'creed': 2602, 'common': 2603, 'babies': 2604, 'ass': 2605, 'surprisei': 2606, 'missioned': 2607, 'political': 2608, 'bsta': 2609, 'social': 2610, 'kkk': 2611, 'himright': 2612, 'vote': 2613, 'fbi': 2614, 'spy': 2615, \"devil's\": 2616, 'church': 2617, 'absurd': 2618, 'saluting': 2619, 'trusts': 2620, 'badge': 2621, 'betray': 2622, 'cash': 2623, 'insurance': 2624, 'loyalties': 2625, 'alibi': 2626, 'pot': 2627, 'gold': 2628, 'midas': 2629, 'infected': 2630, 'gluttoney': 2631, 'ones': 2632, 'idle': 2633, 'jabbers': 2634, 'backstabbers': 2635, 'guilt': 2636, 'dealing': 2637, 'lennon': 2638, \"ol'\": 2639, 'eyeball': 2640, 'joker': 2641, 'shoe': 2642, 'toe': 2643, 'football': 2644, 'coca': 2645, 'cola': 2646, 'bag': 2647, 'production': 2648, 'walrus': 2649, 'gum': 2650, 'boot': 2651, 'ono': 2652, 'sideboard': 2653, 'spinal': 2654, 'cracker': 2655, 'arm': 2656, 'coaster': 2657, 'muddy': 2658, 'filter': 2659, 'burdens': 2660, 'understands': 2661, 'eccentricities': 2662, 'pardon': 2663, 'pirates': 2664, 'adventurous': 2665, 'kings': 2666, 'throne': 2667, 'fantastical': 2668, 'painful': 2669, 'speculate': 2670, 'circulate': 2671, 'confiscate': 2672, 'assassinate': 2673, 'mutilate': 2674, 'hounding': 2675, 'media': 2676, 'hysteria': 2677, 'resurrect': 2678, 'jfk': 2679, 'exposed': 2680, 'grassy': 2681, 'knoll': 2682, 'blackmail': 2683, 'homosexual': 2684, 'frame': 2685, 'blame': 2686, 'sympathize': 2687, 'witnesses': 2688, 'righteousness': 2689, 'heroine': 2690, 'marilyn': 2691, 'headline': 2692, 'blonde': 2693, 'bisexual': 2694, 'scandal': 2695, 'disrespectable': 2696, \"shockin'\": 2697, 'wolf': 2698, \"creepin'\": 2699, 'dusty': 2700, 'hole': 2701, 'tales': 2702, 'slapped': 2703, \"standin'\": 2704, \"kickin'\": 2705, 'shaquille': 2706, \"o'neal\": 2707, 'undefeated': 2708, 'team': 2709, 'theme': 2710, 'forth': 2711, 'realizm': 2712, 'steel': 2713, 'organizm': 2714, 'twizm': 2715, 'prizm': 2716, 'charge': 2717, 'manilla': 2718, 'shaq': 2719, 'represent': 2720, 'thrilla': 2721, 'crotch': 2722, 'twist': 2723, 'knee': 2724, 'needed': 2725, 'willed': 2726, 'daring': 2727, 'dares': 2728, 'recognized': 2729, 'struggles': 2730, \"prophet's\": 2731, 'hill': 2732, 'healing': 2733, 'killed': 2734, 'noon': 2735, 'sullen': 2736, 'lived': 2737, 'strain': 2738, 'doomed': 2739, 'died': 2740, \"grandfather's\": 2741, 'flown': 2742, 'rejecting': 2743, 'neglection': 2744, 'gladness': 2745, 'seduced': 2746, 'takin': 2747, 'attack': 2748, 'unrelying': 2749, 'swine': 2750, 'unreliable': 2751, 'buzz': 2752, 'lick': 2753, 'survivor': 2754, 'rival': 2755, 'undesirable': 2756, 'convert': 2757, 'dismay': 2758, 'drift': 2759, 'convince': 2760, 'resent': 2761, 'shit': 2762, 'reliable': 2763, 'flap': 2764, 'nigh': 2765, \"you'se\": 2766, 'motormouth': 2767, 'ball': 2768, 'scrub': 2769, 'bar': 2770, 'dunk': 2771, \"johnny's\": 2772, \"sister's\": 2773, 'marries': 2774, \"go'on\": 2775, 'doh': 2776, 'ghoul': 2777, 'floating': 2778, \"tappin'\": 2779, 'tappin': 2780, 'doubt': 2781, 'theirs': 2782, 'goul': 2783, 'whose': 2784, 'amusing': 2785, 'confusing': 2786, 'visualised': 2787, 'eccentrialities': 2788, 'grotesque': 2789, 'materialise': 2790, \"their's\": 2791, \"soul's\": 2792, 'trickery': 2793, 'purity': 2794, 'height': 2795, 'seek': 2796, 'reveals': 2797, 'abused': 2798, 'scaring': 2799, 'conceive': 2800, 'untouchable': 2801, 'block': 2802, 'i´m': 2803, 'surfacing': 2804, 'games': 2805, 'deceitful': 2806, 'thighs': 2807, 'blew': 2808, 'goal': 2809, 'can´t': 2810, 'thriough': 2811, 'plays': 2812, 'heartbreaking': 2813, 'actions': 2814, 'test': 2815, 'surprised': 2816, 'ans': 2817, \"dreamin'\": 2818, 'aboout': 2819, 'approve': 2820, 'beg': 2821, 'plead': 2822, 'checking': 2823, 'fulfilling': 2824, 'showing': 2825, 'cling': 2826, 'lovin’': 2827, 'sweat': 2828, 'nervous': 2829, 'wonderful': 2830, 'incredible': 2831, 'wouldn’t': 2832, 'unthinkable': 2833, 'you’d': 2834, 'couldn’t': 2835, 'sanity': 2836, 'waited': 2837, 'patiently': 2838, 'acknowledge': 2839, 'blissful': 2840, 'guide': 2841, 'expressions': 2842, 'hopeless': 2843, 'possible': 2844, 'hallowed': 2845, 'humbled': 2846, 'speechlessyour': 2847, 'bass': 2848, 'note': 2849, 'treble': 2850, 'stereo': 2851, 'juices': 2852, 'press': 2853, 'rotate': 2854, 'what’s': 2855, '3d': 2856, 'feedback': 2857, 'dolby': 2858, 'release': 2859, 'peak': 2860, 'compact': 2861, 'steelo': 2862, 'chico': 2863, 'highpost': 2864, 'shorty': 2865, 'appeared': 2866, 'twinkle': 2867, 'glows': 2868, 'nighttime': 2869, 'losing': 2870, 'there’': 2871, 'ain’t': 2872, 'invading': 2873, 'sold': 2874, 'haven’t': 2875, 'snatched': 2876, 'ridiculed': 2877, 'harassed': 2878, 'respect’s': 2879, 'earned': 2880, 'twisted': 2881, 'shakes': 2882, 'lacking': 2883, 'clue': 2884, 'buried': 2885, 'unfold': 2886, 'chosen': 2887, 'feelin': 2888, '4': 2889, 'unheard': 2890, 'families': 2891, 'addressing': 2892, 'counting': 2893, 'blessings': 2894, 'snug': 2895, 'tries': 2896, 'consumed': 2897, 'assures': 2898, 'preoccupied': 2899, \"doing's\": 2900, 'prays': 2901, 'thinks': 2902, 'forgetting': 2903, 'santana': 2904, 'tonight’s': 2905, 'somewhat': 2906, 'unique': 2907, 'introduction': 2908, 'arrived': 2909, 'ingredient': 2910, 'recipe': 2911, 'person': 2912, 'emotion': 2913, 'didn’t': 2914, 'introduce': 2915, 'fearing': 2916, 'halls': 2917, 'creep': 2918, 'blink': 2919, 'haunt': 2920, 'embark': 2921, 'neverland': 2922, 'particular': 2923, 'judgement': 2924, 'execution': 2925, 'slaughter': 2926, 'outro': 2927, 'witnessed': 2928, 'particularly': 2929, 'terrifying': 2930, 'isn’t': 2931, 'interlude': 2932, 'mumble': 2933, 'kinda': 2934, 'getto': 2935, \"cha'\": 2936, 'attitude': 2937, 'comin': 2938, 'compramise': 2939, 'smilin': 2940, 'stealin': 2941, 'backbone': 2942, 'aggrovator': 2943, 'radiator': 2944, 'indestructible': 2945, 'battle': 2946, 'won': 2947, 'overcome': 2948, 'speakin': 2949, 'lier': 2950, 'blasphemy': 2951, 'burst': 2952, 'breast': 2953, 'seeing': 2954, 'taxes': 2955, 'shy': 2956, 'dad': 2957, \"sittin'\": 2958, 'lays': 2959, 'surrounded': 2960, 'invaded': 2961, 'painting': 2962, 'pins': 2963, 'pulls': 2964, 'covers': 2965, 'shivers': 2966, 'fright': 2967, 'hides': 2968, 'causes': 2969, 'mournful': 2970, 'childish': 2971, 'shivering': 2972, 'swiftly': 2973, 'descends': 2974, 'intrudes': 2975, 'returning': 2976, 'beams': 2977, 'twisting': 2978, 'toll': 2979, 'gather': 2980, 'lunacy': 2981, 'shade': 2982, 'ego': 2983, 'zone': 2984, 'raw': 2985, 'breeze': 2986, 'tease': 2987, 'cinema': 2988, \"word's\": 2989, 'x10': 2990, 'everlasting': 2991, 'revelation': 2992, 'chapters': 2993, 'simulate': 2994, 'eliminate': 2995, 'congregate': 2996, 'illuminate': 2997, 'direction': 2998, 'dimelight': 2999, 'violent': 3000, 'crime': 3001, 'distant': 3002, 'toy': 3003, 'awaken': 3004, 'shakin': 3005, 'grabs': 3006, \"wife's\": 3007, 'soldiers': 3008, 'miserable': 3009, \"gettin'\": 3010, 'harder': 3011, 'bound': 3012, 'greyhound': 3013, 'tinsel': 3014, 'pursue': 3015, 'tricks': 3016, 'afar': 3017, 'imprisoned': 3018, \"paparazzi's\": 3019, 'wished': 3020, 'ms': 3021, 'finer': 3022, 'jobs': 3023, 'works': 3024, 'restaurant': 3025, 'wipes': 3026, 'borrowed': 3027, \"hangin'\": 3028, 'lovin': 3029, \"me'\": 3030, 'ahhhhhhhh': 3031, '12x': 3032, 'chcksthtshtshtsh': 3033, 'lalalalalalala': 3034, 'climbing': 3035, 'bushes': 3036, 'letter’s': 3037, 'bout': 3038, 'focus': 3039, 'eah': 3040, 'zig': 3041, 'zag': 3042, 'gunning': 3043, 'they’re': 3044, '50': 3045, 'cent': 3046, 'mood': 3047, 'flippin’': 3048, 'whippin’': 3049, 'hannibal': 3050, 'cannibal': 3051, 'addition': 3052, 'appear': 3053, 'blurring': 3054, 'drippin’': 3055, 'funeral’s': 3056, 'cemetaries': 3057, 'visit': 3058, 'tombstones': 3059, 'forbidden': 3060, 'risen': 3061, '2010': 3062, 'iller': 3063, 'missin’': 3064, 'pack': 3065, 'bomb': 3066, 'ring': 3067, 'alarm': 3068, 'crippin’': 3069, 'morn’': 3070, 'drive': 3071, 'yee': 3072, 'sacred': 3073, 'thick': 3074, 'thin': 3075, 'cheer': 3076, 'carried': 3077, 'southern': 3078, 'shaded': 3079, 'reporters': 3080, 'moves': 3081, 'obituary': 3082, 'destroy': 3083, 'weapon': 3084, 'celebrity': 3085, 'display': 3086, 'finding': 3087, 'stabs': 3088, 'phony': 3089, 'studying': 3090, \"where'd\": 3091, 'dont': 3092, 'ending': 3093, 'popping': 3094, 'lets': 3095, 'helplessly': 3096, 'she’ll': 3097, 'christian': 3098, 'runs': 3099, 'atheist': 3100, 'went': 3101, 'reading': 3102, 'citing': 3103, \"father's\": 3104, 'curse': 3105, 'grateful': 3106, 'vibe': 3107, \"y'know\": 3108, 'ronny': 3109, 'boat': 3110, 'aware': 3111, 'autographs': 3112, 'cover': 3113, \"do's\": 3114, '“just': 3115, 'dotted': 3116, '”': 3117, 'bothers': 3118, 'following': 3119, 'bleed': 3120, 'week': 3121, \"wonderin'\": 3122, 'envious': 3123, 'mistaken': 3124, \"madman's\": 3125, 'ba': 3126, 'brisa': 3127, 'acaricia': 3128, 'pregunto': 3129, 'amanece': 3130, 'aparece': 3131, 'hace': 3132, 'feliz': 3133, 'nadie': 3134, 'querra': 3135, 'haces': 3136, 'sentir': 3137, 'deseos': 3138, 'siempre': 3139, 'suerte': 3140, 'llama': 3141, 'gana': 3142, 'en': 3143, 'corazon': 3144, 'porque': 3145, 'dado': 3146, 'algo': 3147, 'sagrado': 3148, 'con': 3149, 'pasion': 3150, 'sabas': 3151, 'felicidad': 3152, 'noche': 3153, 'estrellas': 3154, 'haz': 3155, 'quiera': 3156, 'ella': 3157, 'madrugada': 3158, 'ven': 3159, 'espera': 3160, 'soy': 3161, 'joven': 3162, 'pero': 3163, 'siento': 3164, 'sola': 3165, 'viva': 3166, 'cambiaremos': 3167, 'mundo': 3168, 'manana': 3169, 'cantaremos': 3170, 'sobre': 3171, 'fue': 3172, 'diremos': 3173, 'adios': 3174, 'tristeza': 3175, 'estar': 3176, 'ferme': 3177, 'yeux': 3178, 'fiévreux': 3179, 'froid': 3180, \"t'appeler\": 3181, 'prononcer': 3182, \"t'aimer\": 3183, 'première': 3184, 'fois': 3185, 'sais': 3186, 'besoin': 3187, 'rêver': 3188, 'vais': 3189, \"t'emmener\": 3190, \"l'été\": 3191, 'finira': 3192, 'du': 3193, 'feu': 3194, 'bois': 3195, 'fera': 3196, \"l'amour\": 3197, 'blottie': 3198, 'contre': 3199, 'dirai': 3200, 'bas': 3201, 'rends': 3202, 'folle': 3203, 'perd': 3204, 'fierté': 3205, 'plus': 3206, 'tricher': 3207, 'vérité': 3208, 'vie': 3209, 'avec': 3210, 'danser': 3211, \"l'hiver\": 3212, 'un': 3213, 'enfer': 3214, \"t'en\": 3215, 'pouvoir': 3216, \"t'embrasser\": 3217, 'tremble': 3218, 'rien': 3219, \"d'y\": 3220, 'penser': 3221, 'donner': 3222, 'femmes': 3223, \"d'avant\": 3224, 'comptent': 3225, 'même': 3226, 'oublié': 3227, 'passé': 3228, 'terre': 3229, 'pous': 3230, 'trembler': 3231, 'guerre': 3232, 'éclater': 3233, 'supporterai': 3234, 'écoute': 3235, 'mon': 3236, 'notre': 3237, 'brillera': 3238, 'dans': 3239, 'monde': 3240, 'il': 3241, \"m'a\": 3242, 'vraiment': 3243, 'apporté': 3244, 'donne': 3245, 'corps': 3246, 'âme': 3247, 'dire': 3248, 'toujours': 3249, 'garder': 3250, 'mr': 3251, 'worldwide': 3252, 'pregnant': 3253, 'months': 3254, 'latest': 3255, 'delay': 3256, 'women': 3257, 'chicken': 3258, 'chain': 3259, 'luchando': 3260, 'except': 3261, 'armando': 3262, 'santo': 3263, 'nada': 3264, 'diablo': 3265, 'ay': 3266, 'mamita': 3267, 'hazme': 3268, 'prestame': 3269, 'third': 3270, 'language': 3271, 'billon': 3272, 'moonwalk': 3273}\n"
          ]
        }
      ],
      "source": [
        "# El índice para cada palabra\n",
        "# El sistema las ordena de las más populares a las menos populares\n",
        "print(tok.word_index)"
      ]
    },
    {
      "cell_type": "code",
      "execution_count": null,
      "metadata": {
        "colab": {
          "base_uri": "https://localhost:8080/"
        },
        "id": "nUDkjy80c77h",
        "outputId": "417c402c-4b26-447e-a92b-40a459de2c0f"
      },
      "outputs": [
        {
          "output_type": "stream",
          "name": "stdout",
          "text": [
            "defaultdict(<class 'int'>, {'spoken': 8, 'intro': 4, 'you': 2166, 'something': 24, 'ever': 46, 'want': 112, 'know': 239, 'have': 136, 'that': 401, \"shouldn't\": 4, 'it': 826, 'the': 1560, 'more': 39, 'then': 98, 'get': 262, 'one': 137, 'and': 909, 'day': 112, \"it's\": 214, 'too': 152, 'so': 302, 'good': 50, 'like': 215, 'but': 195, 'girl': 237, 'my': 695, 'just': 395, 'around': 109, \"she's\": 119, 'when': 179, 'me': 1140, 'i': 1219, 'feel': 128, 'right': 136, 'cold': 38, 'now': 160, 'bones': 2, 'down': 125, 'to': 1032, \"'cause\": 110, 'ooh': 56, 'sunshine': 14, \"ain't\": 139, 'gone': 64, 'no': 251, 'not': 131, 'away': 134, 'warm': 15, 'always': 61, 'long': 33, 'she': 236, 'goes': 17, 'anytime': 5, 'this': 181, 'where': 58, 'wonder': 10, 'time': 163, 'if': 192, 'stay': 51, 'home': 25, 'house': 5, 'ought': 3, 'leave': 72, 'hey': 23, 'her': 154, 'alone': 105, 'every': 76, 'only': 46, 'darkness': 6, 'be': 371, 'stayed': 5, 'can': 199, 'did': 62, 'was': 109, 'your': 473, 'mind': 43, 'thing': 45, 'back': 77, 'trying': 7, 'tell': 115, 'let': 173, \"i'm\": 249, 'at': 88, \"don't\": 461, 'worry': 4, 'coming': 14, 'should': 46, 'story': 6, 'heard': 7, 'maybe': 20, \"i've\": 53, 'love': 466, 'for': 374, 'enough': 73, 'chorus': 136, 'are': 231, 'wanna': 173, 'anywhere': 7, 'everywhere': 8, 'bridge': 19, 'door': 17, 'our': 49, 'please': 23, 'close': 28, 'future': 5, 'we': 205, 'things': 73, 'tried': 10, 'many': 11, \"haven't\": 2, \"there's\": 80, 'could': 57, 'than': 12, 'better': 62, 'used': 16, 'all': 299, 'give': 160, 'inside': 31, 'any': 11, 'gotta': 47, 'oooh': 11, 'see': 158, \"couldn't\": 8, 'foolish': 2, 'of': 406, 'trees': 4, 'forest': 2, 'been': 44, \"you've\": 33, 'true': 26, 'cruel': 1, 'oh': 145, 'way': 139, \"i'll\": 101, 'find': 46, 'a': 703, 'past': 6, 'erase': 2, 'baby': 298, 'from': 78, 'take': 164, 'say': 126, 'what': 254, 'make': 222, 'kind': 7, 'blows': 4, 'hurt': 30, 'really': 143, 'late': 5, 'chance': 24, 'up': 122, 'misery': 1, 'gonna': 121, 'in': 590, 'lean': 2, 'upon': 8, 'is': 414, 'strength': 2, 'will': 145, 'how': 148, 'wanted': 13, 'little': 31, 'do': 236, 'mean': 12, \"you'll\": 59, 'refrain': 41, \"can't\": 179, 'great': 10, 'change': 71, 'world': 166, 'may': 28, 'today': 31, 'some': 47, 'still': 49, 'small': 8, 'words': 27, 'empty': 5, 'crush': 2, \"we'll\": 35, 'cup': 3, 'each': 27, 'fill': 6, 'thirst': 2, \"other's\": 3, 'care': 57, 'because': 57, 'share': 13, 'despair': 5, 'hope': 10, 'soul': 51, 'prayer': 6, 'frees': 2, 'there': 162, 'road': 6, 'lonely': 31, 'takes': 9, 'difference': 3, 'smile': 29, 'need': 82, 'got': 257, 'morning': 21, 'hello': 5, 'says': 23, 'times': 23, 'bring': 15, 'show': 33, \"there'll\": 6, 'feeling': 23, 'moment': 7, 'loves': 11, 'eyes': 49, 'realize': 5, 'look': 64, 'beside': 3, 'sharing': 5, 'into': 36, 'welcome': 2, \"that's\": 68, 'why': 130, 'begins': 4, 'knows': 14, 'with': 233, 'rocks': 5, 'tops': 2, 'he': 141, 'tree': 8, 'singing': 12, \"hoppin'\": 2, 'his': 38, 'song': 16, \"boppin'\": 2, 'birdies': 2, 'street': 7, 'jaybird': 2, 'on': 381, 'robin': 4, 'hear': 37, 'tweet': 2, 'go': 157, \"rockin'\": 3, 'rock': 24, \"robin'\": 1, 'blow': 26, 'tonight': 42, \"we're\": 91, 'dee': 1, 'swallow': 1, 'chick': 1, 'bird': 4, 'oak': 1, 'tall': 1, 'old': 7, 'black': 16, 'owl': 1, 'big': 8, 'crow': 1, 'wise': 1, \"flappin'\": 1, 'wings': 17, 'their': 17, 'stand': 14, 'pretty': 12, 'band': 3, 'raven': 14, 'them': 26, 'told': 43, 'bop': 1, 'grand': 3, 'steady': 2, 'going': 34, 'started': 6, 'they': 124, 'bless': 1, 'out': 115, 'oriol': 1, 'buzzard': 1, 'bopped': 1, 'gets': 10, 'ground': 11, \"spirit's\": 1, 'remember': 59, 'climb': 11, 'high': 34, \"you're\": 275, \"who's\": 25, 'child': 24, 'place': 53, 'beach': 3, 'boundaries': 1, 'free': 38, 'darling': 12, 'seas': 3, 'as': 50, 'rushes': 1, 'spirits': 4, 'fly': 36, 'lift': 15, 'skies': 2, 'forever': 34, 'blue': 8, 'heaven': 19, \"'til\": 51, 'those': 25, 'bind': 1, 'break': 26, 'ties': 1, 'mine': 75, 'behind': 10, \"we've\": 32, 'yet': 7, 'rainbows': 1, 'touch': 34, 'someday': 5, 'even': 37, 'sky': 24, 'together': 42, 'hand': 69, 'yes': 19, 'maria': 20, 'calling': 2, 'were': 22, 'miss': 1, 'after': 18, 'come': 147, 'since': 6, 'honest': 1, 'running': 8, \"d'you\": 1, 'keep': 145, 'yeah': 152, 'honey': 13, 'sweet': 23, 'sunflower': 1, 'plea': 1, 'sympathy': 1, 'here': 77, 'night': 106, \"what's\": 7, 'without': 18, 'life': 132, 'through': 52, 'persuaded': 1, 'tendeness': 1, 'instead': 7, 'found': 21, 'heartache': 2, 'arms': 13, 'fell': 13, 'unaware': 1, 'lonelyness': 1, 'waiting': 9, 'thar': 1, 'closed': 1, 'heart': 89, 'key': 3, 'turned': 10, 'locked': 2, 'made': 12, 'said': 64, 'loving': 31, 'would': 65, 'beautiful': 11, 'passing': 1, 'soon': 23, 'came': 44, 'walked': 8, 'dreams': 31, 'stripped': 1, 'faith': 24, 'gave': 29, 'took': 22, 'has': 40, 'done': 14, 'face': 36, 'its': 11, 'left': 30, 'trace': 2, \"cryin'\": 7, 'own': 19, 'sound': 9, 'knowing': 8, 'cries': 5, 'tuch': 1, 'fades': 1, 'air': 12, 'cry': 51, \"'bout\": 7, 'talking': 8, 'trubled': 1, \"goin'\": 26, \"nothin'\": 12, 'think': 46, 'brighten': 2, 'darkest': 3, 'call': 35, 'name': 28, 'wherever': 24, 'am': 89, \"runnin'\": 3, 'again': 41, 'summer': 11, 'fall': 23, 'winter': 5, 'spring': 4, 'or': 70, 'friend': 31, 'above': 5, 'dark': 19, 'grows': 1, 'full': 5, 'clouds': 6, 'north': 1, 'wind': 16, \"here's\": 1, 'head': 32, 'loud': 3, \"knockin'\": 1, 'people': 38, \"they'll\": 5, 'desert': 1, 'till': 8, 'end': 10, 'us': 90, 'ben': 7, 'two': 17, 'both': 20, 'looking': 17, 'never': 109, 'turn': 36, 'most': 2, 'word': 13, 'listen': 9, 'wish': 10, 'try': 35, 'sure': 10, \"they'd\": 4, 'had': 74, 'circus': 9, 'carnival': 1, 'carosels': 1, 'spinning': 3, 'wheels': 1, 'ferris': 1, 'part': 19, 'believe': 31, 'man': 76, 'flying': 3, 'trapeze': 2, 'holiday': 3, 'everyday': 13, 'tickets': 3, 'earth': 11, 'greatest': 6, 'colored': 1, 'fantasy': 5, 'rainbow': 6, 'moneys': 1, 'step': 9, 'worth': 8, 'yea': 10, 'e': 4, \"'round\": 5, 'strike': 2, 'teachers': 2, 'school': 5, 'money': 39, 'board': 1, 'pay': 10, \"won't\": 68, \"everybody's\": 8, 'ecology': 1, \"talkin'\": 16, 'polluted': 1, \"air's\": 1, 'hard': 18, 'breathe': 4, 'makes': 28, 'round': 16, 'carousel': 10, 'downs': 4, 'ups': 4, \"people's\": 3, 'heads': 3, 'changing': 4, 'young': 25, 'men': 8, 'underground': 3, 'wear': 2, 'folks': 2, 'clothes': 2, 'judge': 11, 'by': 52, 'hippy': 1, 'swear': 10, 'hair': 13, 'poverty': 1, 'fight': 16, 'politicians': 1, 'while': 17, 'equality': 2, 'instrumental': 2, 'bad': 129, 'news': 17, 'packing': 1, 'over': 38, 'must': 25, 'kicking': 7, 'groovy': 4, 'wrong': 24, 'hit': 11, 'ran': 16, 'fixing': 1, 'fool': 12, \"somebody's\": 16, 'biggest': 2, 'learn': 4, 'burn': 12, 'torch': 1, 'though': 48, 'live': 43, 'making': 11, 'others': 4, 'fools': 2, 'giving': 8, 'prentending': 1, 'brother': 25, 'sister': 7, 'u': 4, 'answer': 27, 'watch': 11, 'begin': 6, 'ends': 5, 'sad': 10, 'rule': 2, 'cloudy': 3, 'outside': 2, 'month': 2, 'guess': 12, \"you'd\": 5, 'much': 68, 'bees': 2, 'envy': 1, 'sweeter': 1, 'birds': 4, 'ooooh': 3, 'fortune': 13, 'fame': 27, 'riches': 1, 'claim': 2, 'well': 29, 'pocket': 3, \"money's\": 1, \"they're\": 16, 'friends': 16, 'nobody': 34, 'comes': 22, 'runneth': 1, 'fullness': 1, 'grace': 5, 'bullshit': 1, 'push': 6, 'buy': 5, 'hold': 87, 'relies': 1, 'striving': 1, 'does': 34, 'destined': 2, 'screw': 1, 'ourselves': 6, 'nature': 10, 'below': 1, 'ruined': 1, 'pure': 2, \"it'll\": 1, 'children': 24, 'yours': 6, 'message': 15, 'ignore': 2, 'deep': 18, 'forefathers': 1, 'cared': 3, 'higher': 15, 'sweetheart': 1, 'precious': 2, 'faithful': 2, \"tumblin'\": 1, \"crumblin'\": 1, 'uh': 10, 'once': 18, 'finally': 7, 'lose': 3, 'tender': 7, 'shoo': 6, 'da': 14, 'doo': 8, 'wander': 2, 'feet': 21, 'stray': 3, 'straight': 2, 'send': 6, \"lovin'\": 35, 'within': 6, 'dream': 11, 'single': 3, 'patch': 1, 'understand': 23, 'apart': 12, 'torn': 3, 'tells': 7, 'tear': 3, 'last': 12, 'cried': 4, 'near': 6, 'somewhere': 7, 'heartaches': 1, \"callin'\": 4, \"fallin'\": 9, 'tears': 13, \"she'll\": 5, 'rescue': 1, \"didn't\": 14, \"girl's\": 1, 'afraid': 14, 'lost': 31, 'mysery': 1, 'shoulder': 11, 'troubles': 6, 'supposed': 5, 'girls': 2, 'win': 9, 'strange': 10, 'seem': 26, 'him': 39, 'given': 2, 'stop': 168, 'treating': 1, 'd': 8, 'babe': 21, 'oooooooh': 1, 'help': 25, 'ooooooh': 9, \"child's\": 5, 'worries': 1, 'play': 9, 'problem': 3, 'fear': 12, 'alive': 12, 'being': 24, 'clear': 5, 'very': 9, 'nothing': 36, 'frown': 1, 'reason': 11, 'sunny': 2, 'thoughts': 4, 'grown': 3, 'hearts': 5, 'lead': 3, 'astray': 1, 'nice': 1, 'easy': 7, 'gay': 1, 'carefree': 2, 'whole': 21, 'smiles': 3, 'merry': 1, \"nothing's\": 4, 'rain': 11, 'falls': 3, 'snow': 2, 'grow': 4, 'flowers': 3, 'stormy': 1, 'ride': 4, 'side': 13, 'sun': 17, 'shine': 9, 'lucky': 2, 'humpty': 1, \"dumpty's\": 1, \"he's\": 31, 'off': 46, 'brushed': 1, 'himself': 1, 'loved': 6, 'reached': 2, 'kiss': 22, 'springtime': 1, 'promised': 6, 'evening': 5, 'hush': 1, 'breathless': 1, 'brink': 1, 'trembles': 1, 'lovely': 5, 'lights': 5, 'glow': 18, 'star': 10, 'angel': 4, 'dearest': 2, 'happy': 25, 'divine': 2, 'fade': 17, 'next': 8, 'sadness': 9, 'kin': 1, 'blues': 3, 'chased': 2, 'began': 3, 'smiled': 2, 'candy': 3, 'new': 7, 'brand': 3, 'lam': 1, 'lifetime': 3, 'space': 5, 'suspended': 1, 'between': 8, 'smiling': 1, 'until': 9, 'flee': 1, 'choice': 9, 'silently': 2, 'oehoe': 1, \"love's\": 6, 'meaning': 1, 'years': 10, 'recall': 3, \"doggin'\": 13, 'put': 20, 'longer': 2, \"heart's\": 1, 'getting': 9, 'weak': 2, 'stronger': 3, 'upset': 1, \"head's\": 2, 'whirl': 1, 'about': 183, '7x': 1, 'repeat': 8, '3x': 3, 'untamed': 1, 'johnny': 13, 'settling': 1, 'roots': 1, 'cage': 1, 'wild': 5, 'born': 2, 'nest': 4, 'another': 25, 'goodbye': 12, 'restless': 5, 'second': 5, \"i'd\": 24, 'keeps': 4, 'thrills': 1, 'seems': 14, 'yoour': 1, 'everybody': 32, 'abd': 1, \"me's\": 1, 'die': 27, 'euphoria': 8, 'r': 4, 'p': 16, 'o': 3, 'h': 3, 'fine': 4, 'start': 23, 'thrill': 8, 'victorious': 1, 'wearing': 2, 'standing': 6, 'bed': 5, 'rest': 2, 'raindbows': 1, 'dial': 2, \"anything's\": 1, 'powers': 1, 'needing': 1, 'pills': 1, 'ills': 1, 'roll': 2, 'hymn': 1, 'glorious': 1, 'living': 28, 'choose': 9, 'healthly': 1, 'clean': 2, 'anyone': 1, 'having': 2, 'frustration': 1, 'invitation': 2, 'other': 16, 'starts': 3, 'glimmer': 1, 'winds': 5, 'set': 13, 'land': 9, 'sweep': 1, 'due': 2, 'far': 25, 'birth': 1, 'present': 1, 'ago': 2, 'days': 22, \"tomorrow's\": 1, 'sing': 21, 'strong': 17, 'knew': 15, 'almost': 30, 'songs': 4, 'such': 14, 'music': 12, 'rhyme': 2, 'wether': 1, 'lovers': 5, 'grab': 3, 'along': 6, 'melody': 2, 'harmony': 3, 'feather': 1, 'matter': 59, 'task': 1, 'plans': 2, 'bridges': 1, 'broken': 6, \"searchin'\": 1, 'cause': 31, \"life's\": 5, 'happen': 4, \"darlin'\": 12, \"reachin'\": 3, 'reachin': 1, 'taste': 4, 'waste': 7, 'afford': 2, \"slippin'\": 2, 'tighter': 1, \"tryin'\": 5, 'juste': 1, \"lookin'\": 2, 'everything': 32, 'ah': 18, 'belong': 8, 'grass': 1, 'thought': 48, 'green': 1, 'brighter': 9, 'shone': 1, 'saying': 7, 'card': 1, 'search': 2, 'myself': 12, 'saw': 12, 'else': 12, 'prolems': 1, 'caused': 2, 'ti': 5, 'forgive': 2, 'touching': 3, 'someone': 35, 'somehow': 3, '1': 11, 'verse': 72, 'cinderella': 7, 'awhile': 7, 'sunbeams': 1, 'midnight': 9, 'disappear': 5, '2': 12, \"slipper's\": 1, 'magic': 6, 'fit': 1, 'princess': 5, 'endure': 1, 'speak': 2, 'angels': 6, '3': 12, 'fairytale': 1, 'fairytales': 3, 'lib': 11, 'ad': 14, 'plant': 1, 'garden': 1, 'laughter': 2, 'dreaming': 7, 'meant': 5, 'few': 3, 'shall': 5, 'shal': 1, 'minute': 3, 'add': 1, 'pleasures': 1, 'sums': 1, 'treasure': 2, 'caring': 2, 'cake': 1, 'crumbs': 1, 'bit': 9, 'surely': 5, 'doctor': 8, 'power': 9, 'mama': 5, \"doctor's\": 1, 'heal': 11, 'remedy': 1, 'teeny': 1, 'eeny': 1, 'weeny': 1, \"flu'\": 1, 'catch': 4, 'daily': 1, 'become': 3, \"o'\": 1, 'before': 37, 'john': 2, 'yourself': 28, 'suddenly': 3, 'shines': 4, 'sounds': 6, 'sings': 4, 'thanks': 1, 'falling': 3, 'follows': 1, 'prayers': 6, 'trough': 1, 'ouuh': 2, 'lot': 3, 'rhythm': 4, 'dance': 42, 'shake': 31, 'country': 2, 'boy': 26, 'soulful': 1, 'harmonica': 1, 'dancin': 2, 'shalalala': 4, 'boom': 5, 'dapper': 2, 'dan': 2, \"dancin'\": 3, 'king': 7, 'disco': 8, 'tech': 1, 'beat': 24, 'master': 1, 'ohh': 2, 'fastest': 1, \"let's\": 9, 'floor': 36, 'wanta': 1, 'x2': 7, 'move': 11, 'oo': 1, 'sexy': 1, 'dear': 3, 'wrote': 12, 'michael': 82, 'letter': 10, 'probably': 3, 'hundred': 2, 'write': 9, \"record's\": 1, 'ouuuuuuuuuuuuuuuuuuuuuuuuuuuuh': 1, 'ouuuuuuuuuuuuuuuuuuuuuuuuuuuuuh': 3, 'held': 1, 'envelope': 1, 'sealing': 1, 'feelings': 3, 'fan': 3, 'number': 13, 'beginning': 2, \"abc's\": 1, 'ya': 32, 'touched': 2, 'picture': 1, 'meeting': 1, 'signed': 6, 'promess': 2, 'mister': 2, 'hurry': 2, 'postman': 2, 'whne': 1, \"feelin'\": 9, 'shared': 1, 'places': 5, 'whatever': 26, 'ask': 10, 'miles': 2, 'wondering': 3, 'force': 36, \"temperature's\": 1, \"risin'\": 1, 'fever': 7, 'vow': 4, 'questions': 2, 'asks': 1, 'closer': 1, 'body': 14, 'fire': 11, 'desire': 13, 'candle': 1, 'wax': 1, 'melting': 1, 'hot': 18, 'sensation': 1, 'hours': 2, \"complanin'\": 3, 'heartbreak': 2, 'enemy': 2, 'despise': 1, 'eternal': 1, 'alright': 16, '1st': 15, 'relax': 2, 'lay': 18, 'groove': 18, 'heat': 5, 'boogie': 7, 'sunlight': 9, '2nd': 15, 'slow': 1, 'dead': 20, 'survives': 1, \"workin'\": 27, 'sugar': 2, 'scratch': 1, 'aching': 4, '3rd': 11, 'often': 2, 'sight': 3, '4th': 4, \"man's\": 4, '5th': 1, \"thinkin'\": 7, 'tired': 17, 'reality': 3, '6th': 1, \"seein'\": 2, 'guy': 6, 'hoo': 42, '7th': 1, '8th': 1, 'woo': 12, 'especially': 7, \"groovin'\": 2, 'soothing': 1, 'across': 15, 'chances': 3, \"choosin'\": 2, 'rejection': 1, 'determined': 2, 'wait': 15, 'choices': 1, 'chant': 3, \"g'on\": 12, 'act': 2, 'straighten': 7, 'hang': 1, 'town': 10, 'room': 9, 'party': 8, 'crazy': 10, \"livin'\": 10, 'nine': 6, 'shelf': 4, 'five': 6, 'enjoy': 6, 'madness': 5, 'wall': 15, 'shout': 26, 'sin': 6, \"c'mon\": 5, 'rules': 3, 'inhibitions': 1, 'hide': 9, 'loose': 5, 'an': 24, 'exhibition': 1, 'girlfriend': 7, 'boyfriend': 3, \"doin'\": 34, 'exactly': 4, \"savin'\": 1, 'letters': 2, \"an'\": 2, 'denied': 1, 'doot': 7, 'etc': 3, 'needs': 9, 'laugh': 3, 'whether': 2, 'knife': 9, 'cuts': 4, 'hands': 8, 'cavalier': 1, 'granted': 1, 'stands': 2, 'possession': 1, 'learned': 8, 'expression': 1, 'damned': 3, 'pride': 6, 'cursed': 1, 'indecision': 1, 'kept': 2, 'mirror': 16, 'surprise': 1, 'helpless': 2, 'disguise': 4, 'sensual': 1, \"wouldn't\": 14, 'fingers': 1, 'run': 8, 'softly': 4, 'sigh': 2, 'possessed': 1, 'sparkles': 1, 'bringing': 1, 'trip': 18, 'prize': 4, 'glad': 3, 'anybody': 1, 'attracted': 1, 'same': 14, 'doing': 7, \"someone's\": 4, 'trading': 1, 'passion': 8, 'pain': 26, \"makin'\": 10, 'austin': 1, 'patti': 1, 'lies': 13, 'mystery': 4, 'web': 2, 'possibility': 1, 'might': 15, 'rather': 4, 'steam': 1, \"comin'\": 1, 'j': 4, 'spin': 4, 'foot': 1, 'freak': 2, 'join': 1, \"movin'\": 4, 'sit': 16, \"weekend's\": 1, 'fun': 1, 'ready': 5, 'roof': 1, 'raise': 2, \"startin'\": 23, \"somethin'\": 23, 'low': 13, 'under': 18, 'middle': 11, 'stuck': 10, 'thunder': 10, 'breakdown': 3, \"squealin'\": 2, \"lyin'\": 4, \"sayin'\": 7, 'pretend': 3, 'hate': 13, 'became': 2, 'tongue': 1, 'razor': 1, \"cunnin'\": 1, 'treacherous': 1, \"declinin'\": 1, 'vegetable': 9, 'buffet': 2, 'eat': 10, 'jean': 12, 'billie': 12, \"tellin'\": 7, 'shoulders': 1, \"rubbin'\": 1, 'mouth': 9, 'called': 9, 'motor': 1, \"spyin'\": 1, 'cant': 1, 'feed': 5, \"hustlin'\": 1, \"stealin'\": 1, 'slowly': 4, \"baby's\": 4, \"dyin'\": 2, 'scream': 39, 'unfurl': 1, 'truth': 21, 'se': 3, 'ma': 5, 'coo': 2, 'sa': 3, 'paradise': 2, 'melt': 1, 'fears': 2, 'perfect': 9, 'ecstasy': 3, 'embrace': 1, 'burning': 3, \"mornin'\": 1, 'promise': 15, 'dawn': 10, 'different': 5, 'begun': 1, \"heaven's\": 3, 'lady': 28, 'mountains': 1, 'lasting': 1, 'light': 17, 'walks': 1, 'met': 16, 'proud': 6, 'special': 2, 'who': 88, 'doggone': 9, 'paul': 12, 'silly': 3, 'roses': 1, 'sending': 1, 'endlessly': 3, 'cannot': 14, 'discover': 1, 'hopes': 1, 'build': 1, 'yep': 2, 'okay': 6, 'lover': 17, 'fighter': 1, 'lurking': 1, \"evil's\": 1, 'moonlight': 7, 'stops': 2, 'terror': 2, 'looks': 3, 'freeze': 1, 'horror': 1, 'paralyzed': 1, 'thriller': 11, \"one's\": 9, 'save': 9, 'beast': 3, 'killer': 5, 'fighting': 4, 'nowhere': 4, 'slam': 2, 'imagination': 3, \"creepin'up\": 1, 'creature': 1, 'against': 6, 'forty': 3, 'survive': 2, 'creatures': 2, 'masquerade': 2, 'walk': 15, 'alien': 1, 'open': 5, 'jaws': 1, \"escapin'\": 1, 'wide': 2, 'demons': 1, 'closing': 2, 'unless': 1, 'possess': 1, 'cuddle': 1, 'thru': 1, 'screen': 15, 'terrors': 1, 'dare': 10, 'ghost': 11, 'diller': 1, 'chiller': 1, 'tight': 1, 'rap': 9, 'vincent': 1, 'price': 18, 'midnite': 1, 'hour': 4, 'crawl': 1, 'blood': 26, \"y'awl's\": 1, 'neighbourhood': 1, 'terrorize': 1, 'whosoever': 1, 'hell': 5, 'hounds': 1, 'shell': 1, 'rot': 1, \"corpse's\": 1, 'foulest': 1, 'stench': 1, 'thousand': 2, 'funk': 1, 'grizzly': 1, 'tomb': 3, 'ghouls': 1, 'doom': 11, 'seal': 1, 'shiver': 2, 'resist': 1, 'mere': 1, 'mortal': 1, 'evil': 3, 'dig': 2, 'maniacal': 1, 'echo': 1, \"fire's\": 1, 'macho': 1, 'tough': 2, 'defeated': 4, 'wants': 42, 'funky': 5, \"showin'\": 4, \"doesn't\": 53, '4x': 1, 'scared': 21, \"playin'\": 2, 'kick': 5, 'fair': 3, '2x': 7, 'movie': 5, 'beauty': 1, 'queen': 2, 'scene': 7, 'dreamed': 1, 'careful': 6, 'breaking': 13, \"girls'\": 2, 'mother': 19, 'lie': 32, 'becomes': 1, 'claims': 4, 'son': 11, 'kid': 8, 'nights': 2, 'law': 8, 'demand': 2, 'schemes': 2, 'danced': 2, 'twice': 6, 'advice': 2, 'three': 7, \"we'd\": 8, 'looked': 7, 'showed': 9, 'crying': 12, 'photo': 1, 'stood': 1, 'perfume': 1, 'smell': 4, 'happened': 4, 'sleepless': 1, 'city': 3, 'eye': 5, 'winks': 1, 'voice': 9, 'window': 8, 'sighs': 1, 'seducing': 1, 'walls': 6, 'four': 2, 'apple': 1, 'bite': 1, \"'em\": 10, 'human': 14, 'reaching': 4, 'stranger': 10, 'electric': 1, \"ev'rywhere\": 1, 'watching': 7, 'stare': 3, 'likes': 3, \"city's\": 1, 'tendoroni': 1, 'spark': 4, 'ease': 1, 'max': 1, 'y': 22, 't': 19, 'l': 7, 'c': 6, 'background': 2, \"burnin'\": 1, 'emergency': 1, 'cool': 2, \"yearnin'\": 1, 'dim': 1, 'spot': 1, 'na': 17, \"'s\": 4, 'lighting': 1, 'meet': 1, 'trust': 18, 'steal': 2, 'shadows': 3, \"spinnin'\": 1, 'candlelight': 1, 'castles': 1, 'trade': 1, 'rainy': 1, 'tenderness': 5, 'forget': 17, 'caress': 5, 'reach': 7, 'gray': 1, 'sweetest': 4, 'squeeze': 1, 'x7': 1, 'popcorn': 1, 'rides': 2, 'dime': 4, 'pony': 1, 'laughing': 7, 'confusions': 3, 'disappointments': 1, 'walking': 5, 'disappeared': 1, 'crowd': 2, 'pieces': 3, 'clown': 1, 'dancer': 1, 'work': 6, 'faces': 3, 'memories': 2, 'instant': 1, 'calliope': 1, 'sometimes': 2, 'top': 6, 'numbers': 2, 'game': 13, 'double': 3, 'cards': 1, 'pick': 2, 'regret': 8, 'yesterday': 8, 'tomorrow': 12, 'ahead': 1, 'thinking': 6, 'treat': 5, 'badly': 1, 'madly': 1, 'spend': 4, 'split': 1, 'quit': 1, 'woke': 1, 'passed': 1, 'destiny': 1, 'felt': 10, 'enchanted': 1, 'filled': 1, 'symphony': 3, 'melodie': 6, 'winding': 1, 'shorter': 1, 'lend': 2, 'bringhten': 1, 'lighter': 1, 'ears': 1, 'everytime': 5, 'penny': 1, 'nickel': 3, 'millionaire': 1, 'poorest': 1, 'willing': 2, 'embarrassed': 1, 'moved': 2, 'sentimental': 1, 'selfish': 2, 'learning': 1, 'million': 2, 'bucks': 2, 'noo': 1, 'proof': 2, 'peaches': 1, 'apples': 1, 'cherries': 1, 'lollipops': 1, 'sweetness': 1, 'storm': 3, 'funny': 1, 'popper': 1, 'stopper': 1, 'real': 19, 'traffic': 1, 'knock': 13, 'farewell': 12, 'happiest': 1, 'grandma': 1, 'bumped': 1, 'store': 1, 'corner': 2, \"grandma's\": 1, \"summer's\": 2, 'gotten': 1, \"time's\": 1, 'fast': 5, 'moving': 4, 'bye': 3, 'hometown': 2, 'return': 5, 'discuss': 2, 'year': 5, 'drop': 7, 'line': 11, 'sometime': 2, 'oohh': 1, 'ways': 9, 'separate': 1, 'rough': 2, 'glare': 1, 'golden': 1, 'taking': 15, 'turns': 1, 'understanding': 1, 'leaving': 5, 'kill': 11, \"heartache's\": 1, 'happiness': 4, 'elsewhere': 3, 'arrive': 3, 'waits': 4, 'keeping': 17, 'laying': 1, 'begging': 3, 'half': 5, 'broke': 4, 'father': 15, 'worlds': 2, 'conquer': 1, 'pace': 1, 'style': 1, 'follow': 7, 'tools': 1, 'sail': 2, 'course': 1, 'ships': 1, 'avoiding': 1, 'numbered': 1, 'best': 3, 'listening': 1, 'compromise': 1, 'constant': 1, 'eleventh': 1, 'prepared': 1, 'shame': 5, 'god': 29, 'named': 1, 'which': 2, 'youngest': 1, \"woman's\": 1, 'growing': 2, 'butt': 3, 'daylight': 2, 'broad': 2, 'telling': 6, 'shoot': 5, 'count': 3, 'stuff': 21, 'limit': 3, \"sky's\": 3, 'seen': 16, 'lock': 2, 'cheap': 2, 'talk': 20, \"throwin'\": 3, 'stones': 2, 'slap': 2, 'smooth': 5, 'hee': 55, 'aaow': 21, 'heels': 1, 'known': 6, 'product': 1, 'loveliness': 1, 'dress': 2, 'car': 2, 'paint': 2, \"givin'\": 2, 'forevermore': 2, \"keepin'\": 3, 'satisfied': 4, 'acha': 2, 'business': 20, \"nobody's\": 8, 'chika': 4, 'headed': 4, 'border': 3, 'matters': 1, 'view': 2, 'tracks': 2, 'nearer': 1, 'demon': 19, 'speed': 20, 'freeway': 4, \"speedin'\": 6, 'leadway': 4, 'highway': 3, 'compass': 3, \"stoppin'\": 4, 'pull': 14, 'ticket': 16, 'midway': 2, \"future's\": 1, \"preachin'\": 1, 'lit': 1, 'rocket': 1, 'ugh': 1, 'uhh': 2, \"yo'\": 1, 'taka': 3, 'naku': 3, 'penda': 3, 'piya': 6, 'mpenziwe': 3, 'liberian': 13, 'changed': 10, 'movies': 2, 'pearl': 1, 'complete': 2, 'stevie': 7, 'nah': 16, 'watched': 1, 'cheek': 1, 'mistake': 3, 'appreciate': 1, 'secret': 3, 'shows': 7, 'cares': 9, 'hug': 4, 'acts': 3, 'ooo': 11, 'dah': 17, 'impressions': 1, 'first': 10, 'affair': 1, 'suspicions': 1, 'asking': 8, \"jus'\": 1, 'root': 1, 'signs': 1, \"takin'\": 13, 'mission': 2, 'point': 2, 'finger': 3, 'dangerous': 19, 'planet': 1, \"sendin'\": 3, 'major': 4, \"linin'\": 3, 'planets': 4, \"bringin'\": 3, \"waitin'\": 3, 'nation': 2, 'fulfill': 4, 'final': 1, 'danger': 3, 'collar': 1, 'coat': 1, 'favourite': 1, \"blowin'\": 1, 'kids': 6, 'blind': 6, 'pretending': 2, 'disregard': 1, 'bottle': 1, \"ya'\": 2, 'starting': 6, 'clearer': 6, 'victim': 4, 'loan': 1, 'deeply': 1, 'widow': 1, 'scarred': 1, 'washed': 2, 'pattern': 1, \"could've\": 1, 'misunderstand': 1, 'whispers': 3, 'dawning': 1, 'siedah': 12, 'harps': 1, 'stars': 6, 'pray': 15, 'awakes': 1, \"feeling's\": 1, 'sorrow': 6, 'weight': 1, 'seduce': 2, 'ok': 47, \"touchin'\": 13, \"turnin'\": 1, 'trapped': 3, 'dirty': 31, 'diana': 24, 'boys': 1, \"musician's\": 1, 'curtain': 1, 'backstage': 1, 'doors': 1, 'prestige': 1, 'taunt': 1, 'aa': 1, 'dia': 1, \"sleepin'\": 1, 'worried': 1, 'phone': 6, 'unlock': 1, 'forgot': 2, 'sleeping': 10, 'crescendo': 5, 'apartment': 5, 'bloodstains': 5, 'carpet': 5, 'table': 2, 'underneath': 3, 'unable': 1, 'bedroom': 5, 'struck': 10, 'annie': 46, 'sign': 7, 'criminal': 3, 'outway': 1, 'sunday': 1, 'resuscitation': 1, 'intimidations': 1, 'heartbeats': 1, 'sounding': 1, 'area': 1, 'dang': 5, \"walkin'\": 3, \"beggin'\": 8, 'anyway': 3, 'excuses': 1, 'mountain': 4, \"laughin'\": 4, 'sorry': 3, 'deceive': 2, 'kisses': 1, 'excited': 2, 'ecstacy': 1, 'streetwalking': 4, 'six': 1, 'satisfying': 2, \"body's\": 1, 'chase': 1, 'island': 1, 'faraway': 1, 'fact': 2, 'york': 1, 'france': 1, 'paris': 2, 'somebody': 13, 'motion': 3, 'notion': 2, 'season': 1, 'treason': 1, 'rebbie': 1, 'sample': 1, 'problems': 4, 'asked': 2, 'neighbor': 1, 'favor': 2, 'later': 1, 'peace': 6, 'cuz': 1, 'prophets': 1, 'false': 2, 'possibilities': 1, 'jam': 17, 'rearranging': 1, 'minds': 5, 'predictions': 1, 'age': 1, 'brothers': 7, 'favors': 1, 'conditioned': 1, 'system': 2, 'buddha': 1, 'talmud': 1, 'contradict': 1, 'self': 5, 'recognize': 2, 'temple': 1, 'heavy': 1, 'performed': 2, 'damn': 17, 'jackson': 13, 'relaxed': 1, \"mike's\": 2, 'mingle': 1, 'jingle': 1, 'jungle': 1, 'rushed': 1, 'bum': 1, \"4's\": 1, 'bundle': 1, 'plan': 3, 'execute': 1, 'cooled': 1, 'janet': 7, '9x': 1, 'bigger': 1, 'hunger': 1, \"trippin'\": 13, 'teach': 1, 'read': 25, 'diseases': 1, 'cure': 1, 'doctors': 1, \"aren't\": 3, 'violence': 2, 'gang': 1, 'bloodshed': 1, 'homeless': 1, 'food': 4, 'shoes': 4, 'addiction': 1, 'drug': 2, 'corruption': 1, 'brutality': 2, 'police': 5, 'streetwalkers': 1, 'monaco': 4, 'stephanie': 4, 'contain': 1, 'presence': 4, 'humble': 1, 'woman': 11, 'cleave': 1, 'furnace': 1, 'wet': 2, 'aahh': 13, 'soothe': 3, 'neglect': 1, 'abuse': 1, 'lust': 7, 'secrets': 2, 'closet': 4, 'deny': 1, 'rub': 1, 'burns': 2, 'spell': 2, 'cast': 1, 'breaks': 1, 'gives': 2, 'jeans': 3, 'turtleneck': 1, 'sweater': 1, \"fakin'\": 1, 'composition': 1, 'statistical': 1, 'wanting': 5, 'driving': 4, 'shock': 2, 'tacy': 1, 'pleasure': 2, 'satin': 1, 'lace': 1, 'cut': 4, 'paisley': 1, 'wasting': 1, 'position': 1, 'mojo': 3, 'case': 3, 'innocent': 2, 'seemed': 5, 'holding': 1, 'park': 4, 'spain': 1, 'situation': 4, 'remain': 4, 'mysteries': 1, 'knees': 7, 'mastermind': 1, 'played': 2, 'lives': 3, 'race': 7, 'entire': 5, 'dying': 11, 'joyful': 2, 'bliss': 1, 'dread': 1, 'existing': 1, 'feels': 6, 'conceived': 1, 'reveal': 2, 'believed': 1, 'strangling': 1, 'wound': 1, 'crucify': 2, 'plain': 1, 'heavenly': 1, \"god's\": 3, 'create': 6, 'nations': 4, 'swords': 1, 'plowshares': 1, 'bang': 2, 'saturday': 5, 'miracles': 2, 'miracle': 1, 'white': 10, 'print': 2, 'none': 1, 'either': 2, 'devil': 16, 'sheets': 2, 'scare': 3, 'performance': 2, 'b': 2, 'gangs': 1, 'clubs': 1, 'protection': 1, 'grief': 2, 'relations': 1, 'causing': 1, 'scale': 1, 'war': 3, 'global': 1, 'turf': 1, 'tale': 1, 'sides': 1, 'races': 1, 'duller': 1, 'bright': 4, 'color': 2, 'agree': 1, 'dirt': 1, 'promises': 2, 'untold': 2, 'vows': 4, 'anew': 1, \"she'd\": 3, 'untrue': 1, 'brought': 11, 'composure': 8, 'lying': 5, 'agony': 2, 'injustice': 5, 'thee': 3, 'woe': 1, 'unto': 1, 'punishment': 1, 'mercy': 19, 'reasons': 1, 'unexplained': 1, 'bothered': 6, 'stone': 1, 'throw': 7, 'spent': 2, 'simply': 3, 'quench': 6, 'kicks': 1, 'hurting': 1, 'wont': 4, 'preacher': 1, 'satisfy': 1, 'river': 2, 'jordan': 1, 'carry': 8, 'weary': 1, 'scold': 1, 'able': 1, 'control': 23, \"everyone's\": 1, \"world's\": 3, 'role': 1, 'confused': 6, 'bear': 5, 'lowly': 2, 'boldly': 4, 'blessed': 2, 'bathe': 1, 'deepest': 2, 'trials': 1, 'tribulations': 1, 'doubts': 1, 'frustrations': 1, 'turbulence': 1, 'confessions': 1, 'anguish': 1, 'joy': 4, 'surrender': 2, 'alibis': 1, 'believing': 1, \"power's\": 3, 'highest': 1, 'swim': 1, 'sea': 1, 'esteem': 1, 'confidence': 5, \"gon'\": 6, 'winner': 3, 'circumstance': 2, \"'stead\": 1, 'beliving': 1, 'water': 2, 'float': 2, 'ow': 1, 'flat': 4, 'means': 5, 'knowwhen': 1, 'check': 1, 'blown': 3, 'ta': 2, 'brotha': 1, 'track': 1, 'dust': 2, 'respect': 2, 'comet': 1, 'blazing': 1, \"'cross\": 1, 'fading': 1, 'twinkling': 1, 'sparkly': 1, 'shiny': 1, 'splendidly': 1, 'loss': 1, 'afternoon': 1, 'castle': 1, 'built': 1, 'sandy': 1, 'flower': 1, 'beyond': 3, 'delight': 1, 'amuse': 1, 'inspire': 1, 'sunset': 6, 'rising': 1, 'moon': 21, 'lines': 2, 'divinity': 1, 'stalked': 1, 'aura': 1, 'persuasive': 2, 'sections': 1, 'whisper': 2, 'insanity': 1, \"passion's\": 1, 'taken': 3, \"lust's\": 1, 'inhumanity': 1, 'vain': 4, 'sleep': 5, 'cope': 3, 'manipulation': 1, 'lips': 1, 'honeycomb': 1, 'smoother': 1, 'oil': 1, 'spirit': 1, 'inner': 1, 'sharp': 1, 'edged': 2, 'sword': 3, 'libs': 3, 'disgusting': 1, 'jacked': 1, 'sucks': 1, 'peek': 1, 'shadow': 2, 'prove': 2, \"sellin'\": 1, 'souls': 2, 'bash': 4, 'victimize': 3, 'scheme': 4, \"abusin'\": 3, 'scrutinize': 2, \"pressurin'\": 23, 'confusion': 2, \"causin'\": 1, \"changin'\": 1, 'insane': 3, \"scandalizin'\": 1, \"in'\": 1, 'tv': 12, 'disgusted': 1, 'brutally': 1, 'beaten': 1, 'death': 2, 'identified': 1, 'wrongly': 1, 'robbery': 1, 'suspect': 1, '18': 1, 'male': 2, 'collusions': 1, 'skin': 7, 'aggravation': 1, 'allegation': 3, 'suite': 3, 'dog': 5, 'shot': 8, 'mad': 2, 'sue': 2, 'jew': 1, 'kike': 2, 'wife': 1, \"bein'\": 2, \"rapin'\": 1, 'sake': 2, 'prophecy': 1, 'speculation': 2, 'trepidation': 1, 'mail': 1, 'jail': 1, 'rights': 1, 'invisible': 1, 'proclamation': 1, 'liberty': 4, 'class': 1, 'throwing': 3, 'government': 2, 'roosevelt': 1, 'litigation': 1, 'trash': 1, 'martin': 1, 'luther': 1, 'segregation': 1, 'wandering': 1, 'mask': 4, 'sudden': 1, 'swift': 1, \"belittlin'\": 1, \"kremlin's\": 1, \"stalin's\": 1, 'abandoned': 1, 'armageddon': 1, 'brain': 1, 'kgb': 2, 'beggar': 1, 'drown': 1, 'moscow': 4, 'lord': 11, 'interrogator': 1, 'russian': 1, 'translation': 1, 'english': 1, 'west': 2, 'accomplishments': 1, 'workers': 1, 'confess': 2, 'achievements': 1, 'fix': 4, 'sick': 4, 's': 5, 'use': 7, 'falsely': 1, 'accuse': 1, 'spit': 1, 'notorious': 1, 'cameras': 2, 'taps': 1, \"flashin'\": 1, 'safe': 1, \"missin'\": 1, \"robbin'\": 1, 'profit': 1, 'shallow': 1, 'ocean': 1, 'apology': 1, 'gun': 2, \"totin'\": 1, 'resort': 1, \"smokin'\": 1, 'lonesome': 1, 'nigga': 2, \"jokin'\": 1, \"hopin'\": 1, 'endo': 1, 'choked': 1, 'smoke': 1, \"blow'em\": 1, 'flow': 2, 'rid': 1, 'pitts': 1, 'peoples': 1, 'raised': 1, 'strangers': 2, 'slack': 1, 'mike': 1, 'mehe': 1, 'sunrise': 1, 'gain': 1, 'fields': 2, 'killing': 3, 'notice': 4, 'shed': 1, 'shores': 2, 'weeping': 3, 'oooooooooh': 10, 'aaaaaaaaah': 10, 'pledge': 1, 'flowering': 1, 'glance': 1, 'although': 2, 'drifted': 1, 'heavens': 3, 'apathy': 1, \"nature's\": 1, \"planet's\": 1, 'womb': 1, 'animals': 1, 'kingdoms': 1, 'elephants': 1, 'whales': 1, 'ravaging': 1, 'trails': 1, 'pleas': 1, 'burnt': 1, 'despite': 1, 'holy': 10, 'creed': 1, 'common': 1, 'babies': 1, 'abraham': 4, 'ass': 1, 'bet': 6, 'surprisei': 1, 'missioned': 1, 'cia': 3, 'sheldon': 21, 'dom': 21, \"he'll\": 4, 'political': 1, 'bsta': 1, 'social': 1, 'kkk': 1, 'taught': 3, 'himright': 1, 'vote': 1, 'fbi': 1, 'spy': 1, \"devil's\": 1, 'greed': 2, 'church': 1, 'absurd': 1, 'flag': 2, 'saluting': 1, 'trusts': 1, 'badge': 1, 'wars': 2, 'soldier': 5, 'betray': 1, 'cash': 1, 'fake': 5, 'anything': 51, 'sell': 17, 'insurance': 1, 'loyalties': 1, 'alibi': 1, 'pot': 1, 'gold': 1, 'midas': 1, 'disease': 2, 'infected': 1, 'gluttoney': 1, 'ones': 1, 'idle': 1, 'backstabbers': 1, 'jabbers': 1, 'guilt': 1, 'dealing': 1, 'lennon': 1, 'written': 2, \"ol'\": 1, 'eyeball': 1, 'joo': 1, 'roller': 2, 'joker': 1, 'shoe': 1, 'football': 1, 'toe': 1, 'monkey': 13, 'cola': 1, 'coca': 1, 'production': 1, 'bag': 1, 'boot': 1, 'walrus': 1, 'gum': 1, 'ono': 1, 'sideboard': 1, 'spinal': 1, 'cracker': 1, 'arm': 1, 'coaster': 1, 'early': 2, 'warning': 2, 'muddy': 1, 'filter': 1, 'slip': 2, 'ear': 2, \"'lone\": 2, 'burdens': 1, 'childhood': 8, 'searching': 5, 'understands': 1, 'eccentricities': 1, 'kidding': 2, 'pardon': 1, 'elementary': 2, 'fate': 4, 'compensate': 2, 'youth': 4, 'adventurous': 1, 'pirates': 1, 'throne': 1, 'conquest': 4, 'kings': 1, 'stories': 5, 'fantastical': 1, 'painful': 1, 'speculate': 1, 'circulate': 1, 'confiscate': 1, 'assassinate': 1, 'mutilate': 1, 'hysteria': 1, 'media': 1, 'hounding': 1, 'resurrect': 1, 'jfk': 1, 'exposed': 1, 'knoll': 1, 'grassy': 1, 'glory': 5, 'blackmail': 1, 'slander': 3, 'torture': 3, 'pen': 2, \"foolin'\": 4, 'magazine': 12, 'factual': 11, 'actual': 3, 'homosexual': 1, 'hood': 2, 'frame': 1, 'blame': 1, 'sympathize': 1, 'dies': 5, 'witnesses': 1, 'righteousness': 1, 'stab': 3, 'heroine': 1, 'marilyn': 1, 'headline': 1, 'parasite': 2, 'glorify': 2, \"'fy\": 2, \"'fies\": 2, 'sanctifies': 2, 'bisexual': 1, 'blonde': 1, 'scandal': 1, 'disrespectable': 1, \"shockin'\": 1, 'wolf': 1, \"disgustin'\": 3, 'aiming': 2, 'stuffy': 2, 'hollywood': 27, 'dusty': 1, \"creepin'\": 1, 'hole': 1, 'tales': 1, 'haunting': 7, 'slapped': 1, \"standin'\": 1, \"kickin'\": 1, \"o'neal\": 1, 'shaquille': 1, 'theme': 1, 'undefeated': 1, 'team': 1, 'mj': 4, 'forth': 1, 'realizm': 1, 'brings': 2, 'organizm': 1, 'steel': 1, 'twizm': 1, 'prizm': 1, 'manilla': 1, 'charge': 1, 'shaq': 1, 'represent': 1, 'thrilla': 1, 'knee': 1, 'crotch': 1, 'twist': 1, 'kicked': 2, 'needed': 1, 'willed': 1, 'motivate': 2, 'daring': 1, 'history': 7, 'dares': 1, 'recognized': 1, 'fires': 2, 'victims': 2, 'slaughtered': 2, 'struggles': 1, \"prophet's\": 1, 'legacy': 5, 'path': 3, 'legend': 3, 'hill': 1, 'healing': 1, 'page': 2, 'writing': 2, 'hero': 3, 'chivalry': 2, 'harmonize': 2, 'family': 11, 'killed': 1, 'susie': 15, 'tune': 2, 'daytime': 2, 'noon': 1, 'screaming': 4, 'beating': 2, 'stairs': 3, 'sullen': 1, 'tenderly': 3, 'fashioned': 3, 'slenderly': 3, 'everyone': 3, 'lived': 1, 'strain': 1, \"susie's\": 4, 'hoping': 2, 'doomed': 1, 'died': 1, 'poor': 2, \"grandfather's\": 1, 'flown': 1, 'rejecting': 1, 'neglection': 1, 'fought': 2, 'worthwhile': 4, 'gladness': 1, 'seduced': 1, 'stance': 2, 'romance': 6, 'escape': 3, 'simple': 2, 'sincere': 2, 'inches': 3, 'seven': 3, 'takin': 1, 'attack': 1, 'bitch': 3, 'unrelying': 1, 'swine': 1, 'daddy': 6, 'unreliable': 1, 'buzz': 1, 'morphine': 13, 'liar': 2, 'lick': 1, \"dog's\": 2, 'survivor': 1, 'rival': 1, 'undesirable': 1, 'ten': 2, 'convert': 1, 'dismay': 1, 'drift': 1, 'demerol': 12, 'convince': 1, 'resent': 1, 'shit': 1, 'reliable': 1, 'woh': 2, 'stick': 5, 'keen': 2, 'wrap': 2, 'flap': 1, 'jump': 2, 'nigh': 1, \"you'se\": 1, 'motormouth': 1, 'ha': 3, 'agitate': 2, \"mother's\": 3, 'preaching': 4, 'ball': 1, 'playing': 3, 'scrub': 1, 'bar': 1, 'dunk': 1, \"jammin'\": 3, 'ho': 2, \"johnny's\": 1, 'marries': 1, \"sister's\": 1, 'mary': 7, 'moly': 3, 'nasty': 3, \"go'on\": 1, 'doh': 1, 'hall': 2, 'ghoul': 1, 'floating': 1, 'onto': 2, \"tappin'\": 1, 'creak': 4, 'rocking': 3, 'chair': 3, 'sitting': 8, 'ghostly': 4, \"coughin'\": 3, \"yawnin'\": 3, 'arrow': 3, 'jealousy': 8, 'tappin': 1, 'intrusion': 2, \"suckin'\": 2, 'piece': 2, 'doubt': 1, 'goul': 1, 'beneath': 2, 'theirs': 1, 'hiding': 3, 'ghosts': 2, 'whose': 1, 'amusing': 1, 'confusing': 1, 'visualised': 1, 'eccentrialities': 1, 'grotesque': 1, 'materialise': 1, 'scary': 25, \"their's\": 1, \"soul's\": 1, 'spoke': 2, 'fantasies': 2, 'trickery': 1, 'dancing': 6, 'purity': 1, 'height': 1, 'seek': 1, 'reveals': 1, 'abused': 1, 'scaring': 1, 'conceive': 1, 'untouchable': 1, 'unbreakable': 2, 'block': 1, 'bury': 2, 'surfacing': 1, 'i´m': 1, 'games': 1, 'thighs': 1, 'deceitful': 1, 'speaks': 2, 'blew': 1, 'goal': 1, 'can´t': 1, 'heartbreaker': 4, 'thriough': 1, 'plays': 1, 'heartbreaking': 1, 'test': 1, 'actions': 1, 'caught': 6, 'surprised': 1, 'ans': 1, \"dreamin'\": 1, 'aboout': 1, 'these': 2, 'approve': 1, 'pearls': 2, 'diamonds': 2, 'buying': 2, 'trick': 2, 'invincible': 4, 'plead': 1, 'beg': 1, 'checking': 1, 'fulfilling': 1, 'showing': 1, 'x3': 2, 'cling': 1, 'makin’': 3, 'i’ll': 6, '‘til': 5, 'don’t': 37, 'can’t': 13, 'i’m': 19, 'lovin’': 1, 'won’t': 5, 'you’ve': 4, 'sweat': 1, 'nervous': 1, 'cruise': 2, 'there’s': 12, 'it’s': 26, 'x': 4, 'let’s': 3, 'that’s': 10, 'you’re': 10, 'wonderful': 1, 'incredible': 1, 'i’d': 14, 'wake': 2, 'wouldn’t': 1, 'unthinkable': 1, 'you’d': 1, 'kissing': 2, 'couldn’t': 1, 'explain': 6, 'searched': 3, 'rocked': 21, \"who'd\": 13, 'rarest': 10, 'sanity': 1, 'waited': 1, 'patiently': 1, 'whoa': 2, 'pass': 3, 'acknowledge': 1, 'calls': 3, 'butterflies': 7, 'blissful': 1, 'guide': 1, 'magical': 2, 'expressions': 1, 'speechless': 5, 'hopeless': 1, 'possible': 1, 'hallowed': 1, 'humbled': 1, 'speechlessyour': 1, 'note': 1, 'treble': 1, 'bass': 1, 'stereo': 1, 'juices': 1, 'press': 1, 'rotate': 1, 'deal': 2, 'what’s': 1, 'volts': 2, '8': 2, 'ohms': 2, 'watts': 2, '200': 2, '2000': 2, 'fuse': 2, 'overload': 2, 'feedback': 1, '3d': 1, 'dolby': 1, 'release': 1, 'peak': 1, 'compact': 1, 'highpost': 1, 'lo': 7, 'chico': 1, 'steelo': 1, 'shorty': 1, 'appeared': 1, 'twinkle': 1, 'glows': 1, 'nighttime': 1, \"wasn't\": 3, 'opened': 2, 'you’ll': 4, 'losing': 1, '‘cause': 4, 'we’re': 2, 'there’': 1, 'pictures': 2, 'ain’t': 1, 'invading': 1, 'privacy': 2, 'stalking': 6, 'sold': 1, 'paparazzi': 2, 'haven’t': 1, 'snatched': 1, 'ridiculed': 1, 'harassed': 1, 'lesson': 6, 'earned': 1, 'respect’s': 1, 'maliciously': 2, 'integrity': 2, 'attacking': 2, 'twisted': 1, 'shakes': 1, 'missing': 2, 'lacking': 1, 'clue': 1, 'buried': 1, 'unfold': 1, 'chosen': 1, 'feelin': 1, '4': 1, 'unheard': 1, 'mothers': 2, 'fathers': 2, 'families': 1, 'wishing': 9, 'one’s': 5, 'addressing': 1, 'counting': 1, 'blessings': 1, 'biding': 2, 'snug': 1, 'tries': 1, 'consumed': 1, 'happens': 13, 'assures': 1, 'preoccupied': 1, \"doing's\": 1, \"they've\": 14, 'prays': 1, 'thinks': 1, 'working': 2, 'forgetting': 1, 'thank': 4, 'carlos': 2, 'santana': 1, 'rod': 3, 'serling': 3, 'unique': 1, 'introduction': 1, 'somewhat': 1, 'tonight’s': 1, 'arrived': 1, 'village': 3, 'monster': 34, 'unknown': 2, 'recipe': 1, 'ingredient': 1, 'person': 1, 'emotion': 1, 'introduce': 1, 'didn’t': 1, 'fearing': 1, 'halls': 1, 'threatened': 6, 'creep': 1, 'i’ve': 2, 'worst': 3, 'nightmare': 3, 'blink': 1, 'haunt': 1, 'embark': 1, 'neverland': 1, 'particular': 1, 'judgement': 1, 'execution': 1, 'slaughter': 1, 'outro': 1, 'terrifying': 1, 'witnessed': 1, 'particularly': 1, 'isn’t': 1, 'romancing': 4, 'de': 22, 'dum': 9, 'la': 21, 'interlude': 1, 'mumble': 1, 'le': 2, 'kinda': 1, 'getto': 1, \"cha'\": 1, 'jack': 2, 'cos': 2, 'cheater': 5, 'attitude': 1, 'comin': 1, 'compramise': 1, 'stealin': 1, 'smilin': 1, 'backbone': 1, 'aggrovator': 1, 'radiator': 1, 'indestructible': 1, 'won': 1, 'battle': 1, 'overcome': 1, 'speakin': 1, 'bible': 2, 'lier': 1, 'forsake': 2, 'dude': 6, 'blasphemy': 1, \"brother's\": 6, 'breast': 1, 'burst': 1, 'seeing': 1, 'paper': 3, 'taxes': 1, 'shy': 1, 'kissed': 7, 'dad': 1, \"sittin'\": 1, 'lays': 1, 'gloom': 2, 'surrounded': 1, 'invaded': 1, 'painting': 1, 'pins': 1, 'pulls': 1, 'covers': 1, 'fright': 1, 'shivers': 1, 'hides': 1, 'causes': 1, 'mournful': 1, 'turning': 2, 'childish': 1, 'shivering': 1, 'swiftly': 1, 'fearful': 2, 'descends': 1, 'intrudes': 1, 'beams': 1, 'returning': 1, 'twisting': 1, 'toll': 1, 'gather': 1, 'lunacy': 1, 'shade': 1, 'reaches': 3, 'touches': 3, 'shining': 3, 'zone': 1, 'ego': 1, 'uuh': 5, 'raw': 1, 'driver': 4, 'rider': 4, \"friday's\": 3, 'aaw': 3, 'nighter': 3, 'breeze': 1, 'tease': 1, 'pah': 3, \"night's\": 2, 'cinema': 1, \"word's\": 1, 'aah': 2, \"holdin'\": 12, \"kissin'\": 12, 're': 2, 'x10': 1, 'everlasting': 1, 'revelation': 1, 'chapters': 1, 'eliminate': 1, 'simulate': 1, 'illuminate': 1, 'congregate': 1, 'dimelight': 1, 'direction': 1, 'crime': 1, 'violent': 1, 'questioned': 2, 'innocently': 3, 'decide': 6, 'distant': 1, 'toy': 1, 'shakin': 1, 'awaken': 1, 'grabs': 1, \"wife's\": 1, 'soldiers': 1, 'already': 6, 'akon': 3, 'miserable': 1, \"gettin'\": 1, 'darker': 1, 'harder': 1, 'lipstick': 2, 'tanned': 2, 'tahitian': 2, 'painted': 2, 'fits': 2, 'greyhound': 1, 'bound': 1, 'tinsel': 1, 'pursue': 1, 'tricks': 1, 'afar': 1, 'camera': 2, 'imprisoned': 1, \"paparazzi's\": 1, 'wished': 1, 'ms': 1, 'finer': 1, 'job': 4, 'jobs': 1, 'restaurant': 1, 'works': 1, 'wipes': 1, 'rise': 6, 'borrowed': 1, \"hangin'\": 1, 'uuuuuuh': 6, 'uuuuuuuuuuh': 8, 'lovin': 1, \"me'\": 1, 'seeeee': 2, 'ahhhhhhhh': 1, '12x': 1, 'chcksthtshtshtsh': 1, 'lalalalala': 1, 'lalalalalalala': 1, 'climbing': 1, 'bushes': 1, 'bout': 1, 'letter’s': 1, 'focus': 1, 'jumping': 3, 'bouncing': 3, 'drunk': 3, 'he’s': 23, 'animal': 11, 'eah': 1, 'zig': 1, 'zag': 1, 'gunning': 1, 'yeh': 1, 'they’re': 1, '50': 1, 'cent': 1, 'whippin’': 1, 'mood': 1, 'flippin’': 1, 'addition': 1, 'hannibal': 1, 'cannibal': 1, 'blurring': 1, 'appear': 1, 'vision': 2, 'drippin’': 1, 'visit': 1, 'cemetaries': 1, 'funeral’s': 1, 'tombstones': 1, 'forbidden': 1, 'risen': 1, '2010': 1, 'iller': 1, 'pack': 1, 'missin’': 1, 'alarm': 1, 'bomb': 1, 'ring': 1, 'crippin’': 1, 'morn’': 1, 'drive': 1, 'yee': 1, 'dragging': 2, 'sacred': 1, 'thick': 1, 'thin': 1, 'cheer': 1, 'carried': 1, 'southern': 1, 'shaded': 1, '…': 1, 'reporters': 1, 'moves': 1, 'obituary': 1, 'boogieman': 3, 'destroy': 1, 'weapon': 1, 'celebrity': 1, 'display': 1, 'finding': 1, 'stabs': 1, 'phony': 1, 'studying': 1, 'suffering': 2, 'strangest': 2, 'wary': 4, 'insincere': 2, \"where's\": 2, \"where'd\": 1, 'dont': 1, 'answered': 2, 'ending': 1, 'letting': 8, 'messin’': 12, 'messin': 3, 'oho': 2, 'popping': 1, 'lets': 1, 'mess': 2, 'ice': 4, 'forgiving': 2, 'feelin’': 2, 'daa': 13, 'dada': 13, 'tschada': 13, 'guarantee': 1, 'helplessly': 1, 'wooh': 4, 'she’ll': 1, 'christian': 1, 'runs': 1, 'atheist': 1, 'papers': 16, 'abortion': 17, 'went': 1, 'reading': 1, 'citing': 1, \"father's\": 1, 'curse': 1, 'grateful': 1, 'adore': 2, 'sparrow': 7, 'vibe': 1, \"y'know\": 1, 'woah': 1, 'ronny': 1, 'boat': 1, 'aware': 1, 'autographs': 1, 'quiet': 3, 'pressure': 2, 'setting': 2, 'complain': 5, 'cover': 1, \"do's\": 1, 'dotted': 1, '“just': 1, '”': 1, 'bothers': 1, 'following': 1, 'bleed': 1, 'week': 1, \"wonderin'\": 1, 'envious': 1, 'mistaken': 1, 'staring': 3, 'pushed': 3, 'spied': 3, 'revenge': 3, 'capone': 3, 'al': 4, \"madman's\": 1, \"grievin'\": 8, 'ba': 1, 'brisa': 1, 'como': 3, 'tu': 24, 'acaricia': 1, 'voz': 2, 'por': 3, 'pregunto': 1, 'amanece': 1, 'cuando': 5, 'aparece': 1, 'amor': 15, 'hace': 1, 'feliz': 1, 'conoces': 3, 'bien': 5, 'sabes': 2, 'tambien': 3, 'que': 17, 'te': 8, 'querra': 1, 'nadie': 1, 'yo': 3, 'sentir': 1, 'haces': 1, 'vivir': 3, 'deseos': 1, 'junto': 2, 'siempre': 1, 'suerte': 1, 'mi': 15, 'es': 3, 'llama': 1, 'eres': 11, 'quien': 4, 'gana': 1, 'corazon': 1, 'en': 1, 'porque': 1, 'dado': 1, 'algo': 1, 'sagrado': 1, 'con': 1, 'pasion': 1, 'sabas': 1, 'puedo': 2, 'estas': 4, 'hay': 4, 'felicidad': 1, 'vida': 2, 'vas': 2, 'si': 6, 'todo': 12, 'das': 3, 'pues': 2, 'noche': 1, 'estrellas': 1, 'quiera': 1, 'haz': 1, 'ella': 1, 'madrugada': 1, 'espera': 1, 'ven': 1, 'soy': 1, 'joven': 1, 'pero': 1, 'siento': 1, 'quiero': 2, 'sola': 1, 'viva': 1, 'manana': 1, 'mundo': 1, 'cambiaremos': 1, 'cantaremos': 1, 'fue': 1, 'sobre': 1, 'adios': 1, 'tristeza': 1, 'diremos': 1, 'estar': 1, 'les': 2, 'je': 24, 'yeux': 1, 'ferme': 1, 'sens': 3, 'fiévreux': 1, 'sans': 2, 'toi': 8, 'froid': 1, \"j'ai\": 3, \"j'aimerais\": 2, \"t'appeler\": 1, 'prononcer': 1, 'ce': 3, 'ressens': 2, 'comprend': 2, 'ne': 14, 'personne': 2, \"t'aimer\": 1, 'première': 1, 'fois': 1, 'pour': 3, 'sais': 1, \"c'est\": 3, 'rêver': 1, 'besoin': 1, \"t'emmener\": 1, 'vais': 1, 'finira': 1, \"l'été\": 1, 'bois': 1, 'près': 2, 'feu': 1, 'du': 1, 'fera': 1, \"l'amour\": 1, 'blottie': 1, 'contre': 1, 'bas': 1, 'tout': 6, 'dirai': 1, 'rends': 1, 'folle': 1, 'perd': 1, \"j'en\": 2, 'fierté': 1, 'plus': 1, 'veux': 11, 'tricher': 1, 'vérité': 1, 'moi': 3, 'avec': 1, 'vie': 1, 'pas': 11, 'fin': 9, 'nous': 9, 'stoppe': 3, 'et': 6, 'ca': 3, 'crois': 3, 'deviendrais': 3, 'fou': 3, 'danser': 1, \"l'hiver\": 1, 'un': 1, 'enfer': 1, \"t'en\": 1, 'pouvoir': 1, \"t'embrasser\": 1, 'penser': 1, \"d'y\": 1, 'tremble': 1, 'rien': 1, 'donner': 1, \"d'avant\": 1, 'femmes': 1, 'même': 1, 'comptent': 1, 'passé': 1, 'oublié': 1, 'ton': 2, 'terre': 1, 'pous': 1, 'trembler': 1, 'éclater': 1, 'guerre': 1, 'supporterai': 1, 'amour': 3, 'écoute': 1, 'mon': 1, 'brillera': 1, 'notre': 1, 'dans': 1, 'monde': 1, 'apporté': 1, 'vraiment': 1, 'il': 1, \"m'a\": 1, 'âme': 1, 'corps': 1, 'donne': 1, 'garder': 1, 'toujours': 1, 'dire': 1, 'pitbull': 5, 'mr': 1, 'worldwide': 1, 'months': 1, 'pregnant': 1, 'latest': 1, 'delay': 1, 'toast': 4, 'women': 1, 'shameone': 13, 'chicken': 1, 'oui': 1, 'chain': 1, 'luchando': 1, 'armando': 1, 'except': 1, 'tengo': 3, 'nada': 1, 'santo': 1, 'ay': 1, 'diablo': 1, 'mamita': 1, 'el': 1, 'prestame': 1, 'hazme': 1, 'third': 1, 'language': 1, 'billon': 1, 'moonwalk': 1, 'heading': 2})\n"
          ]
        }
      ],
      "source": [
        "# Cantidad de veces quea aparece cada palabra en cada \"documento\"\n",
        "# (1 documento = 1 caso de entrada)\n",
        "print(tok.word_docs)"
      ]
    },
    {
      "cell_type": "markdown",
      "metadata": {
        "id": "uYfhWVLLzKVO"
      },
      "source": [
        "\n",
        "### Definir el modelo"
      ]
    },
    {
      "cell_type": "markdown",
      "metadata": {
        "id": "AOYVvZ6a0uVJ"
      },
      "source": [
        "Modelo 1: guardado como \"Model\""
      ]
    },
    {
      "cell_type": "code",
      "execution_count": null,
      "metadata": {
        "colab": {
          "base_uri": "https://localhost:8080/",
          "height": 257
        },
        "id": "5UXA5hQfWVX1",
        "outputId": "9cbe34aa-1a2f-4fa7-d214-f5ce346110ca"
      },
      "outputs": [
        {
          "data": {
            "text/html": [
              "<pre style=\"white-space:pre;overflow-x:auto;line-height:normal;font-family:Menlo,'DejaVu Sans Mono',consolas,'Courier New',monospace\"><span style=\"font-weight: bold\">Model: \"sequential_8\"</span>\n",
              "</pre>\n"
            ],
            "text/plain": [
              "\u001b[1mModel: \"sequential_8\"\u001b[0m\n"
            ]
          },
          "metadata": {},
          "output_type": "display_data"
        },
        {
          "data": {
            "text/html": [
              "<pre style=\"white-space:pre;overflow-x:auto;line-height:normal;font-family:Menlo,'DejaVu Sans Mono',consolas,'Courier New',monospace\">┏━━━━━━━━━━━━━━━━━━━━━━━━━━━━━━━━━━━━━━┳━━━━━━━━━━━━━━━━━━━━━━━━━━━━━┳━━━━━━━━━━━━━━━━━┓\n",
              "┃<span style=\"font-weight: bold\"> Layer (type)                         </span>┃<span style=\"font-weight: bold\"> Output Shape                </span>┃<span style=\"font-weight: bold\">         Param # </span>┃\n",
              "┡━━━━━━━━━━━━━━━━━━━━━━━━━━━━━━━━━━━━━━╇━━━━━━━━━━━━━━━━━━━━━━━━━━━━━╇━━━━━━━━━━━━━━━━━┩\n",
              "│ embedding_8 (<span style=\"color: #0087ff; text-decoration-color: #0087ff\">Embedding</span>)              │ (<span style=\"color: #00d7ff; text-decoration-color: #00d7ff\">None</span>, <span style=\"color: #00d7ff; text-decoration-color: #00d7ff\">None</span>, <span style=\"color: #00af00; text-decoration-color: #00af00\">50</span>)            │         <span style=\"color: #00af00; text-decoration-color: #00af00\">163,700</span> │\n",
              "├──────────────────────────────────────┼─────────────────────────────┼─────────────────┤\n",
              "│ lstm_16 (<span style=\"color: #0087ff; text-decoration-color: #0087ff\">LSTM</span>)                       │ (<span style=\"color: #00d7ff; text-decoration-color: #00d7ff\">None</span>, <span style=\"color: #00d7ff; text-decoration-color: #00d7ff\">None</span>, <span style=\"color: #00af00; text-decoration-color: #00af00\">100</span>)           │          <span style=\"color: #00af00; text-decoration-color: #00af00\">60,400</span> │\n",
              "├──────────────────────────────────────┼─────────────────────────────┼─────────────────┤\n",
              "│ lstm_17 (<span style=\"color: #0087ff; text-decoration-color: #0087ff\">LSTM</span>)                       │ (<span style=\"color: #00d7ff; text-decoration-color: #00d7ff\">None</span>, <span style=\"color: #00d7ff; text-decoration-color: #00d7ff\">None</span>, <span style=\"color: #00af00; text-decoration-color: #00af00\">100</span>)           │          <span style=\"color: #00af00; text-decoration-color: #00af00\">80,400</span> │\n",
              "├──────────────────────────────────────┼─────────────────────────────┼─────────────────┤\n",
              "│ dense_10 (<span style=\"color: #0087ff; text-decoration-color: #0087ff\">Dense</span>)                     │ (<span style=\"color: #00d7ff; text-decoration-color: #00d7ff\">None</span>, <span style=\"color: #00d7ff; text-decoration-color: #00d7ff\">None</span>, <span style=\"color: #00af00; text-decoration-color: #00af00\">3274</span>)          │         <span style=\"color: #00af00; text-decoration-color: #00af00\">330,674</span> │\n",
              "└──────────────────────────────────────┴─────────────────────────────┴─────────────────┘\n",
              "</pre>\n"
            ],
            "text/plain": [
              "┏━━━━━━━━━━━━━━━━━━━━━━━━━━━━━━━━━━━━━━┳━━━━━━━━━━━━━━━━━━━━━━━━━━━━━┳━━━━━━━━━━━━━━━━━┓\n",
              "┃\u001b[1m \u001b[0m\u001b[1mLayer (type)                        \u001b[0m\u001b[1m \u001b[0m┃\u001b[1m \u001b[0m\u001b[1mOutput Shape               \u001b[0m\u001b[1m \u001b[0m┃\u001b[1m \u001b[0m\u001b[1m        Param #\u001b[0m\u001b[1m \u001b[0m┃\n",
              "┡━━━━━━━━━━━━━━━━━━━━━━━━━━━━━━━━━━━━━━╇━━━━━━━━━━━━━━━━━━━━━━━━━━━━━╇━━━━━━━━━━━━━━━━━┩\n",
              "│ embedding_8 (\u001b[38;5;33mEmbedding\u001b[0m)              │ (\u001b[38;5;45mNone\u001b[0m, \u001b[38;5;45mNone\u001b[0m, \u001b[38;5;34m50\u001b[0m)            │         \u001b[38;5;34m163,700\u001b[0m │\n",
              "├──────────────────────────────────────┼─────────────────────────────┼─────────────────┤\n",
              "│ lstm_16 (\u001b[38;5;33mLSTM\u001b[0m)                       │ (\u001b[38;5;45mNone\u001b[0m, \u001b[38;5;45mNone\u001b[0m, \u001b[38;5;34m100\u001b[0m)           │          \u001b[38;5;34m60,400\u001b[0m │\n",
              "├──────────────────────────────────────┼─────────────────────────────┼─────────────────┤\n",
              "│ lstm_17 (\u001b[38;5;33mLSTM\u001b[0m)                       │ (\u001b[38;5;45mNone\u001b[0m, \u001b[38;5;45mNone\u001b[0m, \u001b[38;5;34m100\u001b[0m)           │          \u001b[38;5;34m80,400\u001b[0m │\n",
              "├──────────────────────────────────────┼─────────────────────────────┼─────────────────┤\n",
              "│ dense_10 (\u001b[38;5;33mDense\u001b[0m)                     │ (\u001b[38;5;45mNone\u001b[0m, \u001b[38;5;45mNone\u001b[0m, \u001b[38;5;34m3274\u001b[0m)          │         \u001b[38;5;34m330,674\u001b[0m │\n",
              "└──────────────────────────────────────┴─────────────────────────────┴─────────────────┘\n"
            ]
          },
          "metadata": {},
          "output_type": "display_data"
        },
        {
          "data": {
            "text/html": [
              "<pre style=\"white-space:pre;overflow-x:auto;line-height:normal;font-family:Menlo,'DejaVu Sans Mono',consolas,'Courier New',monospace\"><span style=\"font-weight: bold\"> Total params: </span><span style=\"color: #00af00; text-decoration-color: #00af00\">635,174</span> (2.42 MB)\n",
              "</pre>\n"
            ],
            "text/plain": [
              "\u001b[1m Total params: \u001b[0m\u001b[38;5;34m635,174\u001b[0m (2.42 MB)\n"
            ]
          },
          "metadata": {},
          "output_type": "display_data"
        },
        {
          "data": {
            "text/html": [
              "<pre style=\"white-space:pre;overflow-x:auto;line-height:normal;font-family:Menlo,'DejaVu Sans Mono',consolas,'Courier New',monospace\"><span style=\"font-weight: bold\"> Trainable params: </span><span style=\"color: #00af00; text-decoration-color: #00af00\">635,174</span> (2.42 MB)\n",
              "</pre>\n"
            ],
            "text/plain": [
              "\u001b[1m Trainable params: \u001b[0m\u001b[38;5;34m635,174\u001b[0m (2.42 MB)\n"
            ]
          },
          "metadata": {},
          "output_type": "display_data"
        },
        {
          "data": {
            "text/html": [
              "<pre style=\"white-space:pre;overflow-x:auto;line-height:normal;font-family:Menlo,'DejaVu Sans Mono',consolas,'Courier New',monospace\"><span style=\"font-weight: bold\"> Non-trainable params: </span><span style=\"color: #00af00; text-decoration-color: #00af00\">0</span> (0.00 B)\n",
              "</pre>\n"
            ],
            "text/plain": [
              "\u001b[1m Non-trainable params: \u001b[0m\u001b[38;5;34m0\u001b[0m (0.00 B)\n"
            ]
          },
          "metadata": {},
          "output_type": "display_data"
        }
      ],
      "source": [
        "model = Sequential()\n",
        "\n",
        "# la primera capa es de embedding entrenable. Recordar que se puede variar el tamaño\n",
        "# del embedding a entrenar\n",
        "model.add(Embedding(input_dim=vocab_size+1, output_dim=50, input_shape=(None,)))\n",
        "\n",
        "model.add(LSTM(100, return_sequences=True))\n",
        "# model.add(Dropout(0.2))\n",
        "\n",
        "model.add(LSTM(100, return_sequences=True))\n",
        "# model.add(Dense(32, activation='relu'))\n",
        "\n",
        "# Predicción de clasificación con softmax\n",
        "# La salida es del tamaño del vocabulario\n",
        "model.add(Dense(vocab_size+1, activation='softmax'))\n",
        "\n",
        "\n",
        "# Clasificación multiple categórica --> loss = categorical_crossentropy\n",
        "# notar que usamos la versión Sparse para utilizar sólo índices en lugar de OHE\n",
        "model.compile(loss=SparseCategoricalCrossentropy(), optimizer='rmsprop')\n",
        "\n",
        "model.summary()"
      ]
    },
    {
      "cell_type": "markdown",
      "metadata": {
        "id": "YWK3z85sQfUe"
      },
      "source": [
        "Dado que por el momento no hay implementaciones adecuadas de la perplejidad que puedan operar en tiempo de entrenamiento, armaremos un Callback *ad-hoc* que la calcule en cada epoch.\n",
        "\n",
        "**Nota**: un Callback es una rutina gatillada por algún evento, son muy útiles para relevar datos en diferentes momentos del desarrollo del modelo. En este caso queremos hacer un cálculo cada vez que termina una epoch de entrenamiento."
      ]
    },
    {
      "cell_type": "code",
      "execution_count": null,
      "metadata": {
        "id": "zUHX3r5JD-MG"
      },
      "outputs": [],
      "source": [
        "class PplCallback(keras.callbacks.Callback):\n",
        "\n",
        "    '''\n",
        "    Este callback es una solución ad-hoc para calcular al final de cada epoch de\n",
        "    entrenamiento la métrica de Perplejidad sobre un conjunto de datos de validación.\n",
        "    La perplejidad es una métrica cuantitativa para evaluar la calidad de la generación de secuencias.\n",
        "    Además implementa la finalización del entrenamiento (Early Stopping)\n",
        "    si la perplejidad no mejora después de `patience` epochs.\n",
        "    '''\n",
        "\n",
        "    def __init__(self, val_data, history_ppl, patience=5):\n",
        "      # El callback lo inicializamos con secuencias de validación sobre las cuales\n",
        "      # mediremos la perplejidad y la paciencia para detener el entrenamiento.\n",
        "      self.val_data = val_data\n",
        "\n",
        "      self.target = []\n",
        "      self.padded = []\n",
        "\n",
        "      count = 0\n",
        "      self.info = []\n",
        "      self.history_ppl = []\n",
        "      self.min_score = np.inf\n",
        "      self.patience_counter = 0\n",
        "      self.patience = patience\n",
        "\n",
        "      # nos movemos en todas las secuencias de los datos de validación\n",
        "      for seq in self.val_data:\n",
        "\n",
        "        len_seq = len(seq)\n",
        "        # armamos todas las subsecuencias\n",
        "        subseq = [seq[:i] for i in range(len_seq)]\n",
        "        self.target.extend([seq[i] for i in range(len_seq)])\n",
        "\n",
        "        if len(subseq)!=0:\n",
        "\n",
        "          self.padded.append(pad_sequences(subseq, maxlen=max_context_size, padding='pre'))\n",
        "\n",
        "          self.info.append((count,count+len_seq))\n",
        "          count += len_seq\n",
        "\n",
        "      self.padded = np.vstack(self.padded)\n",
        "\n",
        "\n",
        "    def on_epoch_end(self, epoch, logs=None):\n",
        "\n",
        "        # en `scores` iremos guardando la perplejidad de cada secuencia\n",
        "        scores = []\n",
        "\n",
        "        predictions = self.model.predict(self.padded,verbose=0)\n",
        "\n",
        "        # para cada secuencia de validación\n",
        "        for start,end in self.info:\n",
        "\n",
        "          # en `probs` iremos guardando las probabilidades de los términos target\n",
        "          probs = [predictions[idx_seq,-1,idx_vocab] for idx_seq, idx_vocab in zip(range(start,end),self.target[start:end])]\n",
        "\n",
        "          # calculamos la perplejidad por medio de logaritmos\n",
        "          scores.append(np.exp(-np.sum(np.log(probs))/(end-start)))\n",
        "\n",
        "        # promediamos todos los scores e imprimimos el valor promedio\n",
        "        current_score = np.mean(scores)\n",
        "        history_ppl.append(current_score)\n",
        "        print(f'\\n mean perplexity: {current_score} \\n')\n",
        "\n",
        "        # chequeamos si tenemos que detener el entrenamiento\n",
        "        if current_score < self.min_score:\n",
        "          self.min_score = current_score\n",
        "          self.model.save(\"model_MJ_3.keras\")\n",
        "          print(\"Saved model 3!\")\n",
        "          self.patience_counter = 0\n",
        "        else:\n",
        "          self.patience_counter += 1\n",
        "          if self.patience_counter == self.patience:\n",
        "            print(\"Stopping training...\")\n",
        "            self.model.stop_training = True\n"
      ]
    },
    {
      "cell_type": "markdown",
      "metadata": {
        "id": "8HBZIwR0gruA"
      },
      "source": [
        "### Entrenamiento"
      ]
    },
    {
      "cell_type": "code",
      "execution_count": null,
      "metadata": {
        "colab": {
          "base_uri": "https://localhost:8080/"
        },
        "id": "oQq1PHDkxDvN",
        "outputId": "44584f41-90d7-40a4-b4b2-dfdcb2285c8f"
      },
      "outputs": [
        {
          "name": "stdout",
          "output_type": "stream",
          "text": [
            "Epoch 1/20\n",
            "\u001b[1m618/619\u001b[0m \u001b[32m━━━━━━━━━━━━━━━━━━━\u001b[0m\u001b[37m━\u001b[0m \u001b[1m0s\u001b[0m 158ms/step - loss: 4.4733\n",
            " mean perplexity: 2694.6378831211564 \n",
            "\n",
            "Saved model !\n",
            "\u001b[1m619/619\u001b[0m \u001b[32m━━━━━━━━━━━━━━━━━━━━\u001b[0m\u001b[37m\u001b[0m \u001b[1m110s\u001b[0m 171ms/step - loss: 4.4710\n",
            "Epoch 2/20\n",
            "\u001b[1m618/619\u001b[0m \u001b[32m━━━━━━━━━━━━━━━━━━━\u001b[0m\u001b[37m━\u001b[0m \u001b[1m0s\u001b[0m 170ms/step - loss: 3.4025\n",
            " mean perplexity: 3315.6472691159875 \n",
            "\n",
            "\u001b[1m619/619\u001b[0m \u001b[32m━━━━━━━━━━━━━━━━━━━━\u001b[0m\u001b[37m\u001b[0m \u001b[1m147s\u001b[0m 179ms/step - loss: 3.4024\n",
            "Epoch 3/20\n",
            "\u001b[1m618/619\u001b[0m \u001b[32m━━━━━━━━━━━━━━━━━━━\u001b[0m\u001b[37m━\u001b[0m \u001b[1m0s\u001b[0m 168ms/step - loss: 3.2984\n",
            " mean perplexity: 3410.9282798049635 \n",
            "\n",
            "\u001b[1m619/619\u001b[0m \u001b[32m━━━━━━━━━━━━━━━━━━━━\u001b[0m\u001b[37m\u001b[0m \u001b[1m142s\u001b[0m 179ms/step - loss: 3.2983\n",
            "Epoch 4/20\n",
            "\u001b[1m618/619\u001b[0m \u001b[32m━━━━━━━━━━━━━━━━━━━\u001b[0m\u001b[37m━\u001b[0m \u001b[1m0s\u001b[0m 145ms/step - loss: 3.1905\n",
            " mean perplexity: 2832.650763236719 \n",
            "\n",
            "\u001b[1m619/619\u001b[0m \u001b[32m━━━━━━━━━━━━━━━━━━━━\u001b[0m\u001b[37m\u001b[0m \u001b[1m131s\u001b[0m 161ms/step - loss: 3.1905\n",
            "Epoch 5/20\n",
            "\u001b[1m619/619\u001b[0m \u001b[32m━━━━━━━━━━━━━━━━━━━━\u001b[0m\u001b[37m\u001b[0m \u001b[1m0s\u001b[0m 168ms/step - loss: 3.1238\n",
            " mean perplexity: 2851.746575217557 \n",
            "\n",
            "\u001b[1m619/619\u001b[0m \u001b[32m━━━━━━━━━━━━━━━━━━━━\u001b[0m\u001b[37m\u001b[0m \u001b[1m157s\u001b[0m 186ms/step - loss: 3.1238\n",
            "Epoch 6/20\n",
            "\u001b[1m618/619\u001b[0m \u001b[32m━━━━━━━━━━━━━━━━━━━\u001b[0m\u001b[37m━\u001b[0m \u001b[1m0s\u001b[0m 171ms/step - loss: 3.0731\n",
            " mean perplexity: 2299.662930698409 \n",
            "\n",
            "Saved model !\n",
            "\u001b[1m619/619\u001b[0m \u001b[32m━━━━━━━━━━━━━━━━━━━━\u001b[0m\u001b[37m\u001b[0m \u001b[1m143s\u001b[0m 187ms/step - loss: 3.0730\n",
            "Epoch 7/20\n",
            "\u001b[1m618/619\u001b[0m \u001b[32m━━━━━━━━━━━━━━━━━━━\u001b[0m\u001b[37m━\u001b[0m \u001b[1m0s\u001b[0m 164ms/step - loss: 3.0163\n",
            " mean perplexity: 2415.907785830211 \n",
            "\n",
            "\u001b[1m619/619\u001b[0m \u001b[32m━━━━━━━━━━━━━━━━━━━━\u001b[0m\u001b[37m\u001b[0m \u001b[1m137s\u001b[0m 180ms/step - loss: 3.0163\n",
            "Epoch 8/20\n",
            "\u001b[1m618/619\u001b[0m \u001b[32m━━━━━━━━━━━━━━━━━━━\u001b[0m\u001b[37m━\u001b[0m \u001b[1m0s\u001b[0m 166ms/step - loss: 2.9881\n",
            " mean perplexity: 2394.7366509628814 \n",
            "\n",
            "\u001b[1m619/619\u001b[0m \u001b[32m━━━━━━━━━━━━━━━━━━━━\u001b[0m\u001b[37m\u001b[0m \u001b[1m113s\u001b[0m 183ms/step - loss: 2.9880\n",
            "Epoch 9/20\n",
            "\u001b[1m618/619\u001b[0m \u001b[32m━━━━━━━━━━━━━━━━━━━\u001b[0m\u001b[37m━\u001b[0m \u001b[1m0s\u001b[0m 145ms/step - loss: 2.9472\n",
            " mean perplexity: 2334.511570070695 \n",
            "\n",
            "\u001b[1m619/619\u001b[0m \u001b[32m━━━━━━━━━━━━━━━━━━━━\u001b[0m\u001b[37m\u001b[0m \u001b[1m100s\u001b[0m 162ms/step - loss: 2.9472\n",
            "Epoch 10/20\n",
            "\u001b[1m618/619\u001b[0m \u001b[32m━━━━━━━━━━━━━━━━━━━\u001b[0m\u001b[37m━\u001b[0m \u001b[1m0s\u001b[0m 179ms/step - loss: 2.9234\n",
            " mean perplexity: 2394.9520478087306 \n",
            "\n",
            "\u001b[1m619/619\u001b[0m \u001b[32m━━━━━━━━━━━━━━━━━━━━\u001b[0m\u001b[37m\u001b[0m \u001b[1m159s\u001b[0m 190ms/step - loss: 2.9234\n",
            "Epoch 11/20\n",
            "\u001b[1m618/619\u001b[0m \u001b[32m━━━━━━━━━━━━━━━━━━━\u001b[0m\u001b[37m━\u001b[0m \u001b[1m0s\u001b[0m 146ms/step - loss: 2.8783\n",
            " mean perplexity: 2362.5158575613987 \n",
            "\n",
            "Stopping training...\n",
            "\u001b[1m619/619\u001b[0m \u001b[32m━━━━━━━━━━━━━━━━━━━━\u001b[0m\u001b[37m\u001b[0m \u001b[1m125s\u001b[0m 162ms/step - loss: 2.8783\n"
          ]
        }
      ],
      "source": [
        "# fiteamos, nótese el agregado del callback con su inicialización. El batch_size lo podemos seleccionar a mano\n",
        "# en general, lo mejor es escoger el batch más grande posible que minimice el tiempo de cada época.\n",
        "# En la variable `history_ppl` se guardarán los valores de perplejidad para cada época.\n",
        "history_ppl = []\n",
        "hist = model.fit(X, y, epochs=20, callbacks=[PplCallback(tokenized_sentences_val,history_ppl)], batch_size=64)"
      ]
    },
    {
      "cell_type": "markdown",
      "metadata": {
        "id": "vziKF_ct6CZ8"
      },
      "source": [
        "Observamos que a lo largo de las épocas se ha mejorado progresivamente el loss, en cuanto a la perplejidad en terminos grales mejoró también, pero ha habido fluctuaciones. Se cortó el entrenamiento en la época 13. Vamos a probar con otro modelo teniendo en cuenta estos resultados."
      ]
    },
    {
      "cell_type": "code",
      "execution_count": null,
      "metadata": {
        "colab": {
          "base_uri": "https://localhost:8080/",
          "height": 430
        },
        "id": "K30JHB3Dv-mx",
        "outputId": "961a24a7-c663-42b6-a957-c1e325e75d25"
      },
      "outputs": [
        {
          "data": {
            "image/png": "[encoded data removed]",
            "text/plain": [
              "<Figure size 640x480 with 1 Axes>"
            ]
          },
          "metadata": {},
          "output_type": "display_data"
        }
      ],
      "source": [
        "import matplotlib.pyplot as plt\n",
        "import seaborn as sns\n",
        "\n",
        "# Podemos graficar la evolución de la perplejidad con las épocas.\n",
        "# Recordar que el valor de perplejidad del modelo trivial es el tamaño del vocabulario.\n",
        "epoch_count = range(1, len(history_ppl) + 1)\n",
        "sns.lineplot(x=epoch_count,  y=history_ppl)\n",
        "plt.show()"
      ]
    },
    {
      "cell_type": "markdown",
      "metadata": {
        "id": "Pu-C9NZo3T5V"
      },
      "source": [
        "### New Model"
      ]
    },
    {
      "cell_type": "markdown",
      "metadata": {
        "id": "uIAMqDu63AHY"
      },
      "source": [
        "Vamos a definir otro modelo y el que mejor performance tenga, será el elegido para generar las predicciones."
      ]
    },
    {
      "cell_type": "code",
      "execution_count": null,
      "metadata": {
        "colab": {
          "base_uri": "https://localhost:8080/",
          "height": 376
        },
        "id": "x_CbDBtZ3Xp7",
        "outputId": "b5ff925b-fb3b-449e-a48f-ecc2059a45ef"
      },
      "outputs": [
        {
          "name": "stderr",
          "output_type": "stream",
          "text": [
            "/usr/local/lib/python3.10/dist-packages/keras/src/layers/core/embedding.py:93: UserWarning: Do not pass an `input_shape`/`input_dim` argument to a layer. When using Sequential models, prefer using an `Input(shape)` object as the first layer in the model instead.\n",
            "  super().__init__(**kwargs)\n"
          ]
        },
        {
          "data": {
            "text/html": [
              "<pre style=\"white-space:pre;overflow-x:auto;line-height:normal;font-family:Menlo,'DejaVu Sans Mono',consolas,'Courier New',monospace\"><span style=\"font-weight: bold\">Model: \"sequential_1\"</span>\n",
              "</pre>\n"
            ],
            "text/plain": [
              "\u001b[1mModel: \"sequential_1\"\u001b[0m\n"
            ]
          },
          "metadata": {},
          "output_type": "display_data"
        },
        {
          "data": {
            "text/html": [
              "<pre style=\"white-space:pre;overflow-x:auto;line-height:normal;font-family:Menlo,'DejaVu Sans Mono',consolas,'Courier New',monospace\">┏━━━━━━━━━━━━━━━━━━━━━━━━━━━━━━━━━━━━━━┳━━━━━━━━━━━━━━━━━━━━━━━━━━━━━┳━━━━━━━━━━━━━━━━━┓\n",
              "┃<span style=\"font-weight: bold\"> Layer (type)                         </span>┃<span style=\"font-weight: bold\"> Output Shape                </span>┃<span style=\"font-weight: bold\">         Param # </span>┃\n",
              "┡━━━━━━━━━━━━━━━━━━━━━━━━━━━━━━━━━━━━━━╇━━━━━━━━━━━━━━━━━━━━━━━━━━━━━╇━━━━━━━━━━━━━━━━━┩\n",
              "│ embedding_1 (<span style=\"color: #0087ff; text-decoration-color: #0087ff\">Embedding</span>)              │ (<span style=\"color: #00d7ff; text-decoration-color: #00d7ff\">None</span>, <span style=\"color: #00d7ff; text-decoration-color: #00d7ff\">None</span>, <span style=\"color: #00af00; text-decoration-color: #00af00\">100</span>)           │         <span style=\"color: #00af00; text-decoration-color: #00af00\">327,400</span> │\n",
              "├──────────────────────────────────────┼─────────────────────────────┼─────────────────┤\n",
              "│ lstm_2 (<span style=\"color: #0087ff; text-decoration-color: #0087ff\">LSTM</span>)                        │ (<span style=\"color: #00d7ff; text-decoration-color: #00d7ff\">None</span>, <span style=\"color: #00d7ff; text-decoration-color: #00d7ff\">None</span>, <span style=\"color: #00af00; text-decoration-color: #00af00\">100</span>)           │          <span style=\"color: #00af00; text-decoration-color: #00af00\">80,400</span> │\n",
              "├──────────────────────────────────────┼─────────────────────────────┼─────────────────┤\n",
              "│ dropout_1 (<span style=\"color: #0087ff; text-decoration-color: #0087ff\">Dropout</span>)                  │ (<span style=\"color: #00d7ff; text-decoration-color: #00d7ff\">None</span>, <span style=\"color: #00d7ff; text-decoration-color: #00d7ff\">None</span>, <span style=\"color: #00af00; text-decoration-color: #00af00\">100</span>)           │               <span style=\"color: #00af00; text-decoration-color: #00af00\">0</span> │\n",
              "├──────────────────────────────────────┼─────────────────────────────┼─────────────────┤\n",
              "│ lstm_3 (<span style=\"color: #0087ff; text-decoration-color: #0087ff\">LSTM</span>)                        │ (<span style=\"color: #00d7ff; text-decoration-color: #00d7ff\">None</span>, <span style=\"color: #00d7ff; text-decoration-color: #00d7ff\">None</span>, <span style=\"color: #00af00; text-decoration-color: #00af00\">100</span>)           │          <span style=\"color: #00af00; text-decoration-color: #00af00\">80,400</span> │\n",
              "├──────────────────────────────────────┼─────────────────────────────┼─────────────────┤\n",
              "│ dense_2 (<span style=\"color: #0087ff; text-decoration-color: #0087ff\">Dense</span>)                      │ (<span style=\"color: #00d7ff; text-decoration-color: #00d7ff\">None</span>, <span style=\"color: #00d7ff; text-decoration-color: #00d7ff\">None</span>, <span style=\"color: #00af00; text-decoration-color: #00af00\">32</span>)            │           <span style=\"color: #00af00; text-decoration-color: #00af00\">3,232</span> │\n",
              "├──────────────────────────────────────┼─────────────────────────────┼─────────────────┤\n",
              "│ dense_3 (<span style=\"color: #0087ff; text-decoration-color: #0087ff\">Dense</span>)                      │ (<span style=\"color: #00d7ff; text-decoration-color: #00d7ff\">None</span>, <span style=\"color: #00d7ff; text-decoration-color: #00d7ff\">None</span>, <span style=\"color: #00af00; text-decoration-color: #00af00\">3274</span>)          │         <span style=\"color: #00af00; text-decoration-color: #00af00\">108,042</span> │\n",
              "└──────────────────────────────────────┴─────────────────────────────┴─────────────────┘\n",
              "</pre>\n"
            ],
            "text/plain": [
              "┏━━━━━━━━━━━━━━━━━━━━━━━━━━━━━━━━━━━━━━┳━━━━━━━━━━━━━━━━━━━━━━━━━━━━━┳━━━━━━━━━━━━━━━━━┓\n",
              "┃\u001b[1m \u001b[0m\u001b[1mLayer (type)                        \u001b[0m\u001b[1m \u001b[0m┃\u001b[1m \u001b[0m\u001b[1mOutput Shape               \u001b[0m\u001b[1m \u001b[0m┃\u001b[1m \u001b[0m\u001b[1m        Param #\u001b[0m\u001b[1m \u001b[0m┃\n",
              "┡━━━━━━━━━━━━━━━━━━━━━━━━━━━━━━━━━━━━━━╇━━━━━━━━━━━━━━━━━━━━━━━━━━━━━╇━━━━━━━━━━━━━━━━━┩\n",
              "│ embedding_1 (\u001b[38;5;33mEmbedding\u001b[0m)              │ (\u001b[38;5;45mNone\u001b[0m, \u001b[38;5;45mNone\u001b[0m, \u001b[38;5;34m100\u001b[0m)           │         \u001b[38;5;34m327,400\u001b[0m │\n",
              "├──────────────────────────────────────┼─────────────────────────────┼─────────────────┤\n",
              "│ lstm_2 (\u001b[38;5;33mLSTM\u001b[0m)                        │ (\u001b[38;5;45mNone\u001b[0m, \u001b[38;5;45mNone\u001b[0m, \u001b[38;5;34m100\u001b[0m)           │          \u001b[38;5;34m80,400\u001b[0m │\n",
              "├──────────────────────────────────────┼─────────────────────────────┼─────────────────┤\n",
              "│ dropout_1 (\u001b[38;5;33mDropout\u001b[0m)                  │ (\u001b[38;5;45mNone\u001b[0m, \u001b[38;5;45mNone\u001b[0m, \u001b[38;5;34m100\u001b[0m)           │               \u001b[38;5;34m0\u001b[0m │\n",
              "├──────────────────────────────────────┼─────────────────────────────┼─────────────────┤\n",
              "│ lstm_3 (\u001b[38;5;33mLSTM\u001b[0m)                        │ (\u001b[38;5;45mNone\u001b[0m, \u001b[38;5;45mNone\u001b[0m, \u001b[38;5;34m100\u001b[0m)           │          \u001b[38;5;34m80,400\u001b[0m │\n",
              "├──────────────────────────────────────┼─────────────────────────────┼─────────────────┤\n",
              "│ dense_2 (\u001b[38;5;33mDense\u001b[0m)                      │ (\u001b[38;5;45mNone\u001b[0m, \u001b[38;5;45mNone\u001b[0m, \u001b[38;5;34m32\u001b[0m)            │           \u001b[38;5;34m3,232\u001b[0m │\n",
              "├──────────────────────────────────────┼─────────────────────────────┼─────────────────┤\n",
              "│ dense_3 (\u001b[38;5;33mDense\u001b[0m)                      │ (\u001b[38;5;45mNone\u001b[0m, \u001b[38;5;45mNone\u001b[0m, \u001b[38;5;34m3274\u001b[0m)          │         \u001b[38;5;34m108,042\u001b[0m │\n",
              "└──────────────────────────────────────┴─────────────────────────────┴─────────────────┘\n"
            ]
          },
          "metadata": {},
          "output_type": "display_data"
        },
        {
          "data": {
            "text/html": [
              "<pre style=\"white-space:pre;overflow-x:auto;line-height:normal;font-family:Menlo,'DejaVu Sans Mono',consolas,'Courier New',monospace\"><span style=\"font-weight: bold\"> Total params: </span><span style=\"color: #00af00; text-decoration-color: #00af00\">599,474</span> (2.29 MB)\n",
              "</pre>\n"
            ],
            "text/plain": [
              "\u001b[1m Total params: \u001b[0m\u001b[38;5;34m599,474\u001b[0m (2.29 MB)\n"
            ]
          },
          "metadata": {},
          "output_type": "display_data"
        },
        {
          "data": {
            "text/html": [
              "<pre style=\"white-space:pre;overflow-x:auto;line-height:normal;font-family:Menlo,'DejaVu Sans Mono',consolas,'Courier New',monospace\"><span style=\"font-weight: bold\"> Trainable params: </span><span style=\"color: #00af00; text-decoration-color: #00af00\">599,474</span> (2.29 MB)\n",
              "</pre>\n"
            ],
            "text/plain": [
              "\u001b[1m Trainable params: \u001b[0m\u001b[38;5;34m599,474\u001b[0m (2.29 MB)\n"
            ]
          },
          "metadata": {},
          "output_type": "display_data"
        },
        {
          "data": {
            "text/html": [
              "<pre style=\"white-space:pre;overflow-x:auto;line-height:normal;font-family:Menlo,'DejaVu Sans Mono',consolas,'Courier New',monospace\"><span style=\"font-weight: bold\"> Non-trainable params: </span><span style=\"color: #00af00; text-decoration-color: #00af00\">0</span> (0.00 B)\n",
              "</pre>\n"
            ],
            "text/plain": [
              "\u001b[1m Non-trainable params: \u001b[0m\u001b[38;5;34m0\u001b[0m (0.00 B)\n"
            ]
          },
          "metadata": {},
          "output_type": "display_data"
        }
      ],
      "source": [
        "new_model = Sequential()\n",
        "\n",
        "# la primera capa es de embedding entrenable. Recordar que se puede variar el tamaño\n",
        "# del embedding a entrenar\n",
        "new_model.add(Embedding(input_dim=vocab_size+1, output_dim=100, input_shape=(None,)))\n",
        "\n",
        "new_model.add(LSTM(100, return_sequences=True))\n",
        "new_model.add(Dropout(0.2))\n",
        "\n",
        "new_model.add(LSTM(100, return_sequences=True))\n",
        "new_model.add(Dense(32, activation='relu'))\n",
        "\n",
        "# Predicción de clasificación con softmax\n",
        "# La salida es del tamaño del vocabulario\n",
        "new_model.add(Dense(vocab_size+1, activation='softmax'))\n",
        "\n",
        "\n",
        "# Clasificación multiple categórica --> loss = categorical_crossentropy\n",
        "# notar que usamos la versión Sparse para utilizar sólo índices en lugar de OHE\n",
        "new_model.compile(loss=SparseCategoricalCrossentropy(), optimizer='rmsprop')\n",
        "\n",
        "new_model.summary()"
      ]
    },
    {
      "cell_type": "code",
      "execution_count": null,
      "metadata": {
        "colab": {
          "base_uri": "https://localhost:8080/"
        },
        "id": "mZqD-mt984Ud",
        "outputId": "8d9158a7-2ebe-4800-8fee-ac1799ee9aa6"
      },
      "outputs": [
        {
          "name": "stdout",
          "output_type": "stream",
          "text": [
            "Epoch 1/20\n",
            "\u001b[1m618/619\u001b[0m \u001b[32m━━━━━━━━━━━━━━━━━━━\u001b[0m\u001b[37m━\u001b[0m \u001b[1m0s\u001b[0m 82ms/step - loss: 3.3412\n",
            " mean perplexity: 2737.721010462194 \n",
            "\n",
            "Saved new model!\n",
            "\u001b[1m619/619\u001b[0m \u001b[32m━━━━━━━━━━━━━━━━━━━━\u001b[0m\u001b[37m\u001b[0m \u001b[1m62s\u001b[0m 100ms/step - loss: 3.3411\n",
            "Epoch 2/20\n",
            "\u001b[1m618/619\u001b[0m \u001b[32m━━━━━━━━━━━━━━━━━━━\u001b[0m\u001b[37m━\u001b[0m \u001b[1m0s\u001b[0m 85ms/step - loss: 3.2016\n",
            " mean perplexity: 2675.1448736775633 \n",
            "\n",
            "Saved new model!\n",
            "\u001b[1m619/619\u001b[0m \u001b[32m━━━━━━━━━━━━━━━━━━━━\u001b[0m\u001b[37m\u001b[0m \u001b[1m77s\u001b[0m 92ms/step - loss: 3.2015\n",
            "Epoch 3/20\n",
            "\u001b[1m618/619\u001b[0m \u001b[32m━━━━━━━━━━━━━━━━━━━\u001b[0m\u001b[37m━\u001b[0m \u001b[1m0s\u001b[0m 81ms/step - loss: 3.0971\n",
            " mean perplexity: 2623.6412625971975 \n",
            "\n",
            "Saved new model!\n",
            "\u001b[1m619/619\u001b[0m \u001b[32m━━━━━━━━━━━━━━━━━━━━\u001b[0m\u001b[37m\u001b[0m \u001b[1m80s\u001b[0m 89ms/step - loss: 3.0971\n",
            "Epoch 4/20\n",
            "\u001b[1m618/619\u001b[0m \u001b[32m━━━━━━━━━━━━━━━━━━━\u001b[0m\u001b[37m━\u001b[0m \u001b[1m0s\u001b[0m 81ms/step - loss: 2.9994\n",
            " mean perplexity: 2914.4563013492257 \n",
            "\n",
            "\u001b[1m619/619\u001b[0m \u001b[32m━━━━━━━━━━━━━━━━━━━━\u001b[0m\u001b[37m\u001b[0m \u001b[1m82s\u001b[0m 90ms/step - loss: 2.9994\n",
            "Epoch 5/20\n",
            "\u001b[1m618/619\u001b[0m \u001b[32m━━━━━━━━━━━━━━━━━━━\u001b[0m\u001b[37m━\u001b[0m \u001b[1m0s\u001b[0m 83ms/step - loss: 2.9048\n",
            " mean perplexity: 2508.561955900137 \n",
            "\n",
            "Saved new model!\n",
            "\u001b[1m619/619\u001b[0m \u001b[32m━━━━━━━━━━━━━━━━━━━━\u001b[0m\u001b[37m\u001b[0m \u001b[1m83s\u001b[0m 92ms/step - loss: 2.9047\n",
            "Epoch 6/20\n",
            "\u001b[1m618/619\u001b[0m \u001b[32m━━━━━━━━━━━━━━━━━━━\u001b[0m\u001b[37m━\u001b[0m \u001b[1m0s\u001b[0m 83ms/step - loss: 2.8228\n",
            " mean perplexity: 2578.3485817710975 \n",
            "\n",
            "\u001b[1m619/619\u001b[0m \u001b[32m━━━━━━━━━━━━━━━━━━━━\u001b[0m\u001b[37m\u001b[0m \u001b[1m57s\u001b[0m 91ms/step - loss: 2.8227\n",
            "Epoch 7/20\n",
            "\u001b[1m618/619\u001b[0m \u001b[32m━━━━━━━━━━━━━━━━━━━\u001b[0m\u001b[37m━\u001b[0m \u001b[1m0s\u001b[0m 88ms/step - loss: 2.7576\n",
            " mean perplexity: 2612.6501875739673 \n",
            "\n",
            "\u001b[1m619/619\u001b[0m \u001b[32m━━━━━━━━━━━━━━━━━━━━\u001b[0m\u001b[37m\u001b[0m \u001b[1m90s\u001b[0m 105ms/step - loss: 2.7575\n",
            "Epoch 8/20\n",
            "\u001b[1m618/619\u001b[0m \u001b[32m━━━━━━━━━━━━━━━━━━━\u001b[0m\u001b[37m━\u001b[0m \u001b[1m0s\u001b[0m 81ms/step - loss: 2.6822\n",
            " mean perplexity: 2707.9148300263514 \n",
            "\n",
            "\u001b[1m619/619\u001b[0m \u001b[32m━━━━━━━━━━━━━━━━━━━━\u001b[0m\u001b[37m\u001b[0m \u001b[1m60s\u001b[0m 98ms/step - loss: 2.6822\n",
            "Epoch 9/20\n",
            "\u001b[1m618/619\u001b[0m \u001b[32m━━━━━━━━━━━━━━━━━━━\u001b[0m\u001b[37m━\u001b[0m \u001b[1m0s\u001b[0m 83ms/step - loss: 2.6518\n",
            " mean perplexity: 3008.763494345669 \n",
            "\n",
            "\u001b[1m619/619\u001b[0m \u001b[32m━━━━━━━━━━━━━━━━━━━━\u001b[0m\u001b[37m\u001b[0m \u001b[1m77s\u001b[0m 90ms/step - loss: 2.6518\n",
            "Epoch 10/20\n",
            "\u001b[1m618/619\u001b[0m \u001b[32m━━━━━━━━━━━━━━━━━━━\u001b[0m\u001b[37m━\u001b[0m \u001b[1m0s\u001b[0m 83ms/step - loss: 2.6055\n",
            " mean perplexity: 3750.5076286404183 \n",
            "\n",
            "Stopping training...\n",
            "\u001b[1m619/619\u001b[0m \u001b[32m━━━━━━━━━━━━━━━━━━━━\u001b[0m\u001b[37m\u001b[0m \u001b[1m56s\u001b[0m 90ms/step - loss: 2.6054\n"
          ]
        }
      ],
      "source": [
        "history_ppl = []\n",
        "hist_2 = new_model.fit(X, y, epochs=20, callbacks=[PplCallback(tokenized_sentences_val,history_ppl)], batch_size=64)"
      ]
    },
    {
      "cell_type": "code",
      "execution_count": null,
      "metadata": {
        "colab": {
          "base_uri": "https://localhost:8080/",
          "height": 432
        },
        "id": "2ajugUKIvVek",
        "outputId": "980dbd21-be12-4459-9316-d98e508608d8"
      },
      "outputs": [
        {
          "data": {
            "image/png": "[encoded data removed]",
            "text/plain": [
              "<Figure size 640x480 with 1 Axes>"
            ]
          },
          "metadata": {},
          "output_type": "display_data"
        }
      ],
      "source": [
        "import matplotlib.pyplot as plt\n",
        "import seaborn as sns\n",
        "\n",
        "# Podemos graficar la evolución de la perplejidad con las épocas.\n",
        "# Recordar que el valor de perplejidad del modelo trivial es el tamaño del vocabulario.\n",
        "epoch_count = range(1, len(history_ppl) + 1)\n",
        "sns.lineplot(x=epoch_count,  y=history_ppl)\n",
        "plt.show()"
      ]
    },
    {
      "cell_type": "markdown",
      "metadata": {
        "id": "OGIL0nWq10Rb"
      },
      "source": [
        "En este modelo realizamos algunos cambios: se le agrega una capa densa con 32 neuronas, seguida de una función de activación ReLU aplicada a la salida de esa capa. Se aumentó al doble el output_dim (de 50 a 100) y se agrega dropout.\n",
        "\n",
        "Los resultados muestran una disminución en la pérdida. Sin embrgo, observamos que la perplejidad, Si bien disminuye al principio, parece aumentar en algunas épocas. Probablemente el modelo esté sobreajustando.\n",
        "\n",
        "Mejor vamos a hacer una prueba mas, tomando como referencia el primer modelo, agregandole dropOut y aumentando a 75 el output_dim."
      ]
    },
    {
      "cell_type": "markdown",
      "metadata": {
        "id": "5-aM9-g294JO"
      },
      "source": [
        "### New Model 2"
      ]
    },
    {
      "cell_type": "code",
      "execution_count": null,
      "metadata": {
        "colab": {
          "base_uri": "https://localhost:8080/",
          "height": 289
        },
        "id": "N0ABPSp951Tg",
        "outputId": "aecee6c9-1378-4ac2-bbc0-884e8094c69e"
      },
      "outputs": [
        {
          "output_type": "display_data",
          "data": {
            "text/plain": [
              "\u001b[1mModel: \"sequential_2\"\u001b[0m\n"
            ],
            "text/html": [
              "<pre style=\"white-space:pre;overflow-x:auto;line-height:normal;font-family:Menlo,'DejaVu Sans Mono',consolas,'Courier New',monospace\"><span style=\"font-weight: bold\">Model: \"sequential_2\"</span>\n",
              "</pre>\n"
            ]
          },
          "metadata": {}
        },
        {
          "output_type": "display_data",
          "data": {
            "text/plain": [
              "┏━━━━━━━━━━━━━━━━━━━━━━━━━━━━━━━━━━━━━━┳━━━━━━━━━━━━━━━━━━━━━━━━━━━━━┳━━━━━━━━━━━━━━━━━┓\n",
              "┃\u001b[1m \u001b[0m\u001b[1mLayer (type)                        \u001b[0m\u001b[1m \u001b[0m┃\u001b[1m \u001b[0m\u001b[1mOutput Shape               \u001b[0m\u001b[1m \u001b[0m┃\u001b[1m \u001b[0m\u001b[1m        Param #\u001b[0m\u001b[1m \u001b[0m┃\n",
              "┡━━━━━━━━━━━━━━━━━━━━━━━━━━━━━━━━━━━━━━╇━━━━━━━━━━━━━━━━━━━━━━━━━━━━━╇━━━━━━━━━━━━━━━━━┩\n",
              "│ embedding_2 (\u001b[38;5;33mEmbedding\u001b[0m)              │ (\u001b[38;5;45mNone\u001b[0m, \u001b[38;5;45mNone\u001b[0m, \u001b[38;5;34m75\u001b[0m)            │         \u001b[38;5;34m245,550\u001b[0m │\n",
              "├──────────────────────────────────────┼─────────────────────────────┼─────────────────┤\n",
              "│ lstm_4 (\u001b[38;5;33mLSTM\u001b[0m)                        │ (\u001b[38;5;45mNone\u001b[0m, \u001b[38;5;45mNone\u001b[0m, \u001b[38;5;34m100\u001b[0m)           │          \u001b[38;5;34m70,400\u001b[0m │\n",
              "├──────────────────────────────────────┼─────────────────────────────┼─────────────────┤\n",
              "│ dropout_2 (\u001b[38;5;33mDropout\u001b[0m)                  │ (\u001b[38;5;45mNone\u001b[0m, \u001b[38;5;45mNone\u001b[0m, \u001b[38;5;34m100\u001b[0m)           │               \u001b[38;5;34m0\u001b[0m │\n",
              "├──────────────────────────────────────┼─────────────────────────────┼─────────────────┤\n",
              "│ lstm_5 (\u001b[38;5;33mLSTM\u001b[0m)                        │ (\u001b[38;5;45mNone\u001b[0m, \u001b[38;5;45mNone\u001b[0m, \u001b[38;5;34m100\u001b[0m)           │          \u001b[38;5;34m80,400\u001b[0m │\n",
              "├──────────────────────────────────────┼─────────────────────────────┼─────────────────┤\n",
              "│ dense_2 (\u001b[38;5;33mDense\u001b[0m)                      │ (\u001b[38;5;45mNone\u001b[0m, \u001b[38;5;45mNone\u001b[0m, \u001b[38;5;34m3274\u001b[0m)          │         \u001b[38;5;34m330,674\u001b[0m │\n",
              "└──────────────────────────────────────┴─────────────────────────────┴─────────────────┘\n"
            ],
            "text/html": [
              "<pre style=\"white-space:pre;overflow-x:auto;line-height:normal;font-family:Menlo,'DejaVu Sans Mono',consolas,'Courier New',monospace\">┏━━━━━━━━━━━━━━━━━━━━━━━━━━━━━━━━━━━━━━┳━━━━━━━━━━━━━━━━━━━━━━━━━━━━━┳━━━━━━━━━━━━━━━━━┓\n",
              "┃<span style=\"font-weight: bold\"> Layer (type)                         </span>┃<span style=\"font-weight: bold\"> Output Shape                </span>┃<span style=\"font-weight: bold\">         Param # </span>┃\n",
              "┡━━━━━━━━━━━━━━━━━━━━━━━━━━━━━━━━━━━━━━╇━━━━━━━━━━━━━━━━━━━━━━━━━━━━━╇━━━━━━━━━━━━━━━━━┩\n",
              "│ embedding_2 (<span style=\"color: #0087ff; text-decoration-color: #0087ff\">Embedding</span>)              │ (<span style=\"color: #00d7ff; text-decoration-color: #00d7ff\">None</span>, <span style=\"color: #00d7ff; text-decoration-color: #00d7ff\">None</span>, <span style=\"color: #00af00; text-decoration-color: #00af00\">75</span>)            │         <span style=\"color: #00af00; text-decoration-color: #00af00\">245,550</span> │\n",
              "├──────────────────────────────────────┼─────────────────────────────┼─────────────────┤\n",
              "│ lstm_4 (<span style=\"color: #0087ff; text-decoration-color: #0087ff\">LSTM</span>)                        │ (<span style=\"color: #00d7ff; text-decoration-color: #00d7ff\">None</span>, <span style=\"color: #00d7ff; text-decoration-color: #00d7ff\">None</span>, <span style=\"color: #00af00; text-decoration-color: #00af00\">100</span>)           │          <span style=\"color: #00af00; text-decoration-color: #00af00\">70,400</span> │\n",
              "├──────────────────────────────────────┼─────────────────────────────┼─────────────────┤\n",
              "│ dropout_2 (<span style=\"color: #0087ff; text-decoration-color: #0087ff\">Dropout</span>)                  │ (<span style=\"color: #00d7ff; text-decoration-color: #00d7ff\">None</span>, <span style=\"color: #00d7ff; text-decoration-color: #00d7ff\">None</span>, <span style=\"color: #00af00; text-decoration-color: #00af00\">100</span>)           │               <span style=\"color: #00af00; text-decoration-color: #00af00\">0</span> │\n",
              "├──────────────────────────────────────┼─────────────────────────────┼─────────────────┤\n",
              "│ lstm_5 (<span style=\"color: #0087ff; text-decoration-color: #0087ff\">LSTM</span>)                        │ (<span style=\"color: #00d7ff; text-decoration-color: #00d7ff\">None</span>, <span style=\"color: #00d7ff; text-decoration-color: #00d7ff\">None</span>, <span style=\"color: #00af00; text-decoration-color: #00af00\">100</span>)           │          <span style=\"color: #00af00; text-decoration-color: #00af00\">80,400</span> │\n",
              "├──────────────────────────────────────┼─────────────────────────────┼─────────────────┤\n",
              "│ dense_2 (<span style=\"color: #0087ff; text-decoration-color: #0087ff\">Dense</span>)                      │ (<span style=\"color: #00d7ff; text-decoration-color: #00d7ff\">None</span>, <span style=\"color: #00d7ff; text-decoration-color: #00d7ff\">None</span>, <span style=\"color: #00af00; text-decoration-color: #00af00\">3274</span>)          │         <span style=\"color: #00af00; text-decoration-color: #00af00\">330,674</span> │\n",
              "└──────────────────────────────────────┴─────────────────────────────┴─────────────────┘\n",
              "</pre>\n"
            ]
          },
          "metadata": {}
        },
        {
          "output_type": "display_data",
          "data": {
            "text/plain": [
              "\u001b[1m Total params: \u001b[0m\u001b[38;5;34m727,024\u001b[0m (2.77 MB)\n"
            ],
            "text/html": [
              "<pre style=\"white-space:pre;overflow-x:auto;line-height:normal;font-family:Menlo,'DejaVu Sans Mono',consolas,'Courier New',monospace\"><span style=\"font-weight: bold\"> Total params: </span><span style=\"color: #00af00; text-decoration-color: #00af00\">727,024</span> (2.77 MB)\n",
              "</pre>\n"
            ]
          },
          "metadata": {}
        },
        {
          "output_type": "display_data",
          "data": {
            "text/plain": [
              "\u001b[1m Trainable params: \u001b[0m\u001b[38;5;34m727,024\u001b[0m (2.77 MB)\n"
            ],
            "text/html": [
              "<pre style=\"white-space:pre;overflow-x:auto;line-height:normal;font-family:Menlo,'DejaVu Sans Mono',consolas,'Courier New',monospace\"><span style=\"font-weight: bold\"> Trainable params: </span><span style=\"color: #00af00; text-decoration-color: #00af00\">727,024</span> (2.77 MB)\n",
              "</pre>\n"
            ]
          },
          "metadata": {}
        },
        {
          "output_type": "display_data",
          "data": {
            "text/plain": [
              "\u001b[1m Non-trainable params: \u001b[0m\u001b[38;5;34m0\u001b[0m (0.00 B)\n"
            ],
            "text/html": [
              "<pre style=\"white-space:pre;overflow-x:auto;line-height:normal;font-family:Menlo,'DejaVu Sans Mono',consolas,'Courier New',monospace\"><span style=\"font-weight: bold\"> Non-trainable params: </span><span style=\"color: #00af00; text-decoration-color: #00af00\">0</span> (0.00 B)\n",
              "</pre>\n"
            ]
          },
          "metadata": {}
        }
      ],
      "source": [
        "new_model_2 = Sequential()\n",
        "\n",
        "# la primera capa es de embedding entrenable. Recordar que se puede variar el tamaño\n",
        "# del embedding a entrenar\n",
        "new_model_2.add(Embedding(input_dim=vocab_size+1, output_dim=75, input_shape=(None,)))\n",
        "\n",
        "new_model_2.add(LSTM(100, return_sequences=True))\n",
        "new_model_2.add(Dropout(0.3))\n",
        "\n",
        "new_model_2.add(LSTM(100, return_sequences=True))\n",
        "# model.add(Dense(32, activation='relu'))\n",
        "\n",
        "# Predicción de clasificación con softmax\n",
        "# La salida es del tamaño del vocabulario\n",
        "new_model_2.add(Dense(vocab_size+1, activation='softmax'))\n",
        "\n",
        "\n",
        "# Clasificación multiple categórica --> loss = categorical_crossentropy\n",
        "# notar que usamos la versión Sparse para utilizar sólo índices en lugar de OHE\n",
        "new_model_2.compile(loss=SparseCategoricalCrossentropy(), optimizer='rmsprop')\n",
        "\n",
        "new_model_2.summary()"
      ]
    },
    {
      "cell_type": "code",
      "execution_count": null,
      "metadata": {
        "colab": {
          "base_uri": "https://localhost:8080/"
        },
        "id": "aUQ5N7Ex6Vhw",
        "outputId": "4d0392e7-7ae5-4b38-c89c-31a6449d44d6"
      },
      "outputs": [
        {
          "output_type": "stream",
          "name": "stdout",
          "text": [
            "Epoch 1/20\n",
            "\u001b[1m618/619\u001b[0m \u001b[32m━━━━━━━━━━━━━━━━━━━\u001b[0m\u001b[37m━\u001b[0m \u001b[1m0s\u001b[0m 230ms/step - loss: 4.4861\n",
            " mean perplexity: 2574.2403649962353 \n",
            "\n",
            "Saved model 3!\n",
            "\u001b[1m619/619\u001b[0m \u001b[32m━━━━━━━━━━━━━━━━━━━━\u001b[0m\u001b[37m\u001b[0m \u001b[1m156s\u001b[0m 247ms/step - loss: 4.4837\n",
            "Epoch 2/20\n",
            "\u001b[1m618/619\u001b[0m \u001b[32m━━━━━━━━━━━━━━━━━━━\u001b[0m\u001b[37m━\u001b[0m \u001b[1m0s\u001b[0m 226ms/step - loss: 3.4083\n",
            " mean perplexity: 2847.2540571160584 \n",
            "\n",
            "\u001b[1m619/619\u001b[0m \u001b[32m━━━━━━━━━━━━━━━━━━━━\u001b[0m\u001b[37m\u001b[0m \u001b[1m199s\u001b[0m 242ms/step - loss: 3.4083\n",
            "Epoch 3/20\n",
            "\u001b[1m618/619\u001b[0m \u001b[32m━━━━━━━━━━━━━━━━━━━\u001b[0m\u001b[37m━\u001b[0m \u001b[1m0s\u001b[0m 222ms/step - loss: 3.3275\n",
            " mean perplexity: 4020.245120964199 \n",
            "\n",
            "\u001b[1m619/619\u001b[0m \u001b[32m━━━━━━━━━━━━━━━━━━━━\u001b[0m\u001b[37m\u001b[0m \u001b[1m200s\u001b[0m 239ms/step - loss: 3.3274\n",
            "Epoch 4/20\n",
            "\u001b[1m618/619\u001b[0m \u001b[32m━━━━━━━━━━━━━━━━━━━\u001b[0m\u001b[37m━\u001b[0m \u001b[1m0s\u001b[0m 193ms/step - loss: 3.2243\n",
            " mean perplexity: 3199.072062854518 \n",
            "\n",
            "\u001b[1m619/619\u001b[0m \u001b[32m━━━━━━━━━━━━━━━━━━━━\u001b[0m\u001b[37m\u001b[0m \u001b[1m183s\u001b[0m 208ms/step - loss: 3.2242\n",
            "Epoch 5/20\n",
            "\u001b[1m618/619\u001b[0m \u001b[32m━━━━━━━━━━━━━━━━━━━\u001b[0m\u001b[37m━\u001b[0m \u001b[1m0s\u001b[0m 213ms/step - loss: 3.1498\n",
            " mean perplexity: 2938.9952870487305 \n",
            "\n",
            "\u001b[1m619/619\u001b[0m \u001b[32m━━━━━━━━━━━━━━━━━━━━\u001b[0m\u001b[37m\u001b[0m \u001b[1m155s\u001b[0m 229ms/step - loss: 3.1497\n",
            "Epoch 6/20\n",
            "\u001b[1m618/619\u001b[0m \u001b[32m━━━━━━━━━━━━━━━━━━━\u001b[0m\u001b[37m━\u001b[0m \u001b[1m0s\u001b[0m 216ms/step - loss: 3.1019\n",
            " mean perplexity: 2648.0914067763224 \n",
            "\n",
            "Stopping training...\n",
            "\u001b[1m619/619\u001b[0m \u001b[32m━━━━━━━━━━━━━━━━━━━━\u001b[0m\u001b[37m\u001b[0m \u001b[1m201s\u001b[0m 227ms/step - loss: 3.1018\n"
          ]
        }
      ],
      "source": [
        "history_ppl = []\n",
        "hist_3 = new_model_2.fit(X, y, epochs=20, callbacks=[PplCallback(tokenized_sentences_val,history_ppl)], batch_size=64)"
      ]
    },
    {
      "cell_type": "code",
      "execution_count": null,
      "metadata": {
        "colab": {
          "base_uri": "https://localhost:8080/",
          "height": 430
        },
        "id": "eix46Fyr8-xw",
        "outputId": "f6861a14-3df7-4fb2-a964-a403b62a438a"
      },
      "outputs": [
        {
          "output_type": "display_data",
          "data": {
            "text/plain": [
              "<Figure size 640x480 with 1 Axes>"
            ],
            "image/png": "[encoded data removed]"
          },
          "metadata": {}
        }
      ],
      "source": [
        "import matplotlib.pyplot as plt\n",
        "import seaborn as sns\n",
        "\n",
        "# Podemos graficar la evolución de la perplejidad con las épocas.\n",
        "# Recordar que el valor de perplejidad del modelo trivial es el tamaño del vocabulario.\n",
        "epoch_count = range(1, len(history_ppl) + 1)\n",
        "sns.lineplot(x=epoch_count,  y=history_ppl)\n",
        "plt.show()"
      ]
    },
    {
      "cell_type": "markdown",
      "metadata": {
        "id": "37KrmZ4z85T_"
      },
      "source": [
        "El nuevo modelo ha mejorado en comparación con el anterior en cuanto a la perplejidad."
      ]
    },
    {
      "cell_type": "markdown",
      "metadata": {
        "id": "R__LGEs63YeC"
      },
      "source": [
        "### Carga del mejor modelo"
      ]
    },
    {
      "cell_type": "code",
      "execution_count": null,
      "metadata": {
        "id": "Rhy5hZN38qfO"
      },
      "outputs": [],
      "source": [
        "# Cargamos el mejor modelo guardado del entrenamiento para hacer inferencia\n",
        "model = keras.models.load_model('model_MJ_3.keras')"
      ]
    },
    {
      "cell_type": "markdown",
      "metadata": {
        "id": "KN6Fg_BsxJe6"
      },
      "source": [
        "\n",
        "### Predicción de próxima palabra"
      ]
    },
    {
      "cell_type": "code",
      "execution_count": null,
      "metadata": {
        "id": "IBvKHFPmzpy2"
      },
      "outputs": [],
      "source": [
        "# Se puede usar gradio para probar el modelo\n",
        "# Gradio es una herramienta muy útil para crear interfaces para ensayar modelos\n",
        "# https://gradio.app/\n",
        "\n",
        "!pip install -q gradio"
      ]
    },
    {
      "cell_type": "code",
      "execution_count": null,
      "metadata": {
        "colab": {
          "base_uri": "https://localhost:8080/",
          "height": 764
        },
        "id": "HNyBykvhzs7-",
        "outputId": "27eff7f5-7512-4b0d-e11c-c216ddb577c7"
      },
      "outputs": [
        {
          "output_type": "stream",
          "name": "stdout",
          "text": [
            "Setting queue=True in a Colab notebook requires sharing enabled. Setting `share=True` (you can turn this off by setting `share=False` in `launch()` explicitly).\n",
            "\n",
            "Colab notebook detected. This cell will run indefinitely so that you can see errors and logs. To turn off, set debug=False in launch().\n",
            "Running on public URL: https://344462fb7010df980d.gradio.live\n",
            "\n",
            "This share link expires in 72 hours. For free permanent hosting and GPU upgrades, run `gradio deploy` from Terminal to deploy to Spaces (https://huggingface.co/spaces)\n"
          ]
        },
        {
          "output_type": "display_data",
          "data": {
            "text/plain": [
              "<IPython.core.display.HTML object>"
            ],
            "text/html": [
              "<div><iframe src=\"https://344462fb7010df980d.gradio.live\" width=\"100%\" height=\"500\" allow=\"autoplay; camera; microphone; clipboard-read; clipboard-write;\" frameborder=\"0\" allowfullscreen></iframe></div>"
            ]
          },
          "metadata": {}
        },
        {
          "output_type": "stream",
          "name": "stdout",
          "text": [
            "\u001b[1m1/1\u001b[0m \u001b[32m━━━━━━━━━━━━━━━━━━━━\u001b[0m\u001b[37m\u001b[0m \u001b[1m0s\u001b[0m 27ms/step\n",
            "\u001b[1m1/1\u001b[0m \u001b[32m━━━━━━━━━━━━━━━━━━━━\u001b[0m\u001b[37m\u001b[0m \u001b[1m0s\u001b[0m 26ms/step\n",
            "\u001b[1m1/1\u001b[0m \u001b[32m━━━━━━━━━━━━━━━━━━━━\u001b[0m\u001b[37m\u001b[0m \u001b[1m0s\u001b[0m 25ms/step\n",
            "\u001b[1m1/1\u001b[0m \u001b[32m━━━━━━━━━━━━━━━━━━━━\u001b[0m\u001b[37m\u001b[0m \u001b[1m0s\u001b[0m 28ms/step\n",
            "\u001b[1m1/1\u001b[0m \u001b[32m━━━━━━━━━━━━━━━━━━━━\u001b[0m\u001b[37m\u001b[0m \u001b[1m0s\u001b[0m 25ms/step\n",
            "\u001b[1m1/1\u001b[0m \u001b[32m━━━━━━━━━━━━━━━━━━━━\u001b[0m\u001b[37m\u001b[0m \u001b[1m0s\u001b[0m 27ms/step\n",
            "Keyboard interruption in main thread... closing server.\n",
            "Killing tunnel 127.0.0.1:7860 <> https://344462fb7010df980d.gradio.live\n"
          ]
        },
        {
          "output_type": "execute_result",
          "data": {
            "text/plain": []
          },
          "metadata": {},
          "execution_count": 56
        }
      ],
      "source": [
        "import gradio as gr\n",
        "\n",
        "def model_response(human_text):\n",
        "\n",
        "    # Encodeamos\n",
        "    encoded = tok.texts_to_sequences([human_text])[0]\n",
        "    # Si tienen distinto largo\n",
        "    encoded = pad_sequences([encoded], maxlen=max_context_size, padding='pre')\n",
        "\n",
        "    # Predicción softmax\n",
        "    y_hat = np.argmax(model.predict(encoded)[0,-1,:])\n",
        "\n",
        "\n",
        "    # Debemos buscar en el vocabulario la palabra\n",
        "    # que corresopnde al indice (y_hat) predicho por le modelo\n",
        "    out_word = ''\n",
        "    for word, index in tok.word_index.items():\n",
        "        if index == y_hat:\n",
        "            out_word = word\n",
        "            break\n",
        "\n",
        "    # Agrego la palabra a la frase predicha\n",
        "    return human_text + ' ' + out_word\n",
        "\n",
        "iface = gr.Interface(\n",
        "    fn=model_response,\n",
        "    inputs=[\"textbox\"],\n",
        "    outputs=\"text\")\n",
        "\n",
        "iface.launch(debug=True)"
      ]
    },
    {
      "cell_type": "markdown",
      "source": [
        "Al probar el modelo con este generador de palabras se obtiene una predicción pobre en cuanto a que casi siempre predice la palabra \"you\".\n",
        "\n",
        "En principio se probó con un par de palabras, luego con una frase de una de las canciones de Michael jackson, el resultado fue el mismo. Pensando que el modelo puede necesitar un mejor contexto se le pasó una parte de una canción de \"Billie Jean\", donde el resultado fue el mismo: \"you\".\n",
        "\n",
        "Cómo observamos que el modelo no ha sobreajustado, estoy se entiende como que el modelo no ha aprendido lo suficiente o tiene un sesgo con esa palabra, ya que es muchas canciones del artista se menciona mucho. Además cuando listamos anteriormente las palabras con las que contamos en el corpus, la palabra \"you\" es la primera que sale en la lista. Por lo que probablemente sea un sesgo. Vamos a seguir probando!"
      ],
      "metadata": {
        "id": "BvyGgmtpWxfC"
      }
    },
    {
      "cell_type": "markdown",
      "metadata": {
        "id": "mCeMWWupxN1-"
      },
      "source": [
        "### Generación de secuencias"
      ]
    },
    {
      "cell_type": "code",
      "execution_count": null,
      "metadata": {
        "id": "bwbS_pfhxvB3"
      },
      "outputs": [],
      "source": [
        "def generate_seq(model, tokenizer, seed_text, max_length, n_words):\n",
        "    \"\"\"\n",
        "        Exec model sequence prediction\n",
        "\n",
        "        Args:\n",
        "            model (keras): modelo entrenado\n",
        "            tokenizer (keras tokenizer): tonenizer utilizado en el preprocesamiento\n",
        "            seed_text (string): texto de entrada (input_seq)\n",
        "            max_length (int): máxima longitud de la sequencia de entrada\n",
        "            n_words (int): números de palabras a agregar a la sequencia de entrada\n",
        "        returns:\n",
        "            output_text (string): sentencia con las \"n_words\" agregadas\n",
        "    \"\"\"\n",
        "    output_text = seed_text\n",
        "\t  # generate a fixed number of words\n",
        "    for _ in range(n_words):\n",
        "\t\t  # Tokenizamos\n",
        "      encoded = tokenizer.texts_to_sequences([output_text])[0]\n",
        "\n",
        "\t\t  # Si tienen distinto largo\n",
        "      encoded = pad_sequences([encoded], maxlen=max_length, padding='pre')\n",
        "\n",
        "\t\t  # Predicción softmax\n",
        "      y_hat = np.argmax(model.predict(encoded)[0,-1,:])\n",
        "\n",
        "      # Vamos concatenando las predicciones\n",
        "      out_word = ''\n",
        "\n",
        "      # Debemos buscar en el vocabulario la palabra\n",
        "      # que corresopnde al indice (y_hat) predicho por le modelo\n",
        "      for word, index in tokenizer.word_index.items():\n",
        "        if index == y_hat:\n",
        "          out_word = word\n",
        "          break\n",
        "\n",
        "\t\t  # Agrego las palabras a la frase predicha\n",
        "      output_text += ' ' + out_word\n",
        "\n",
        "    return output_text"
      ]
    },
    {
      "cell_type": "code",
      "execution_count": null,
      "metadata": {
        "id": "JoFqRC5pxzqS",
        "colab": {
          "base_uri": "https://localhost:8080/",
          "height": 122
        },
        "outputId": "34d51ab3-f4b7-45d4-8b0d-cf82420f52e9"
      },
      "outputs": [
        {
          "output_type": "stream",
          "name": "stdout",
          "text": [
            "\u001b[1m1/1\u001b[0m \u001b[32m━━━━━━━━━━━━━━━━━━━━\u001b[0m\u001b[37m\u001b[0m \u001b[1m0s\u001b[0m 24ms/step\n",
            "\u001b[1m1/1\u001b[0m \u001b[32m━━━━━━━━━━━━━━━━━━━━\u001b[0m\u001b[37m\u001b[0m \u001b[1m0s\u001b[0m 37ms/step\n",
            "\u001b[1m1/1\u001b[0m \u001b[32m━━━━━━━━━━━━━━━━━━━━\u001b[0m\u001b[37m\u001b[0m \u001b[1m0s\u001b[0m 24ms/step\n",
            "\u001b[1m1/1\u001b[0m \u001b[32m━━━━━━━━━━━━━━━━━━━━\u001b[0m\u001b[37m\u001b[0m \u001b[1m0s\u001b[0m 23ms/step\n",
            "\u001b[1m1/1\u001b[0m \u001b[32m━━━━━━━━━━━━━━━━━━━━\u001b[0m\u001b[37m\u001b[0m \u001b[1m0s\u001b[0m 24ms/step\n"
          ]
        },
        {
          "output_type": "execute_result",
          "data": {
            "text/plain": [
              "\"Dont mind, but't you you you you you\""
            ],
            "application/vnd.google.colaboratory.intrinsic+json": {
              "type": "string"
            }
          },
          "metadata": {},
          "execution_count": 46
        }
      ],
      "source": [
        "input_text='Dont mind, but\\'t'\n",
        "\n",
        "generate_seq(model, tok, input_text, max_length=max_context_size, n_words=5)"
      ]
    },
    {
      "cell_type": "markdown",
      "source": [
        "De alguna manera esperábamos este resultado ya que el modelo selecciona la palabra con la mayor probabilidad en cada paso de predicción, lo que tiende a generar resultados repetitivos, mas aún con el sesgo que mencionamos antes."
      ],
      "metadata": {
        "id": "ZvcirPAwbLZA"
      }
    },
    {
      "cell_type": "markdown",
      "metadata": {
        "id": "drJ6xn5qW1Hl"
      },
      "source": [
        "###  Beam search y muestreo aleatorio"
      ]
    },
    {
      "cell_type": "code",
      "execution_count": null,
      "metadata": {
        "id": "_vovn9XZW1Hl"
      },
      "outputs": [],
      "source": [
        "# funcionalidades para hacer encoding y decoding\n",
        "\n",
        "def encode(text,max_length=max_context_size):\n",
        "\n",
        "    encoded = tok.texts_to_sequences([text])[0]\n",
        "    encoded = pad_sequences([encoded], maxlen=max_length, padding='pre')\n",
        "\n",
        "    return encoded\n",
        "\n",
        "def decode(seq):\n",
        "    return tok.sequences_to_texts([seq])"
      ]
    },
    {
      "cell_type": "code",
      "execution_count": null,
      "metadata": {
        "id": "I_lZiQwkW1Hl"
      },
      "outputs": [],
      "source": [
        "from scipy.special import softmax\n",
        "\n",
        "# función que selecciona candidatos para el beam search\n",
        "def select_candidates(pred,num_beams,vocab_size,history_probs,history_tokens,temp,mode):\n",
        "\n",
        "  # colectar todas las probabilidades para la siguiente búsqueda\n",
        "  pred_large = []\n",
        "\n",
        "  for idx,pp in enumerate(pred):\n",
        "    pred_large.extend(np.log(pp+1E-10)+history_probs[idx])\n",
        "\n",
        "  pred_large = np.array(pred_large)\n",
        "\n",
        "  # criterio de selección\n",
        "  if mode == 'det':\n",
        "    idx_select = np.argsort(pred_large)[::-1][:num_beams] # beam search determinista\n",
        "  elif mode == 'sto':\n",
        "    idx_select = np.random.choice(np.arange(pred_large.shape[0]), num_beams, p=softmax(pred_large/temp)) # beam search con muestreo aleatorio\n",
        "  else:\n",
        "    raise ValueError(f'Wrong selection mode. {mode} was given. det and sto are supported.')\n",
        "\n",
        "  # traducir a índices de token en el vocabulario\n",
        "  new_history_tokens = np.concatenate((np.array(history_tokens)[idx_select//vocab_size],\n",
        "                        np.array([idx_select%vocab_size]).T),\n",
        "                      axis=1)\n",
        "\n",
        "  # devolver el producto de las probabilidades (log) y la secuencia de tokens seleccionados\n",
        "  return pred_large[idx_select.astype(int)], new_history_tokens.astype(int)\n",
        "\n",
        "\n",
        "def beam_search(model,num_beams,num_words,input,temp=1,mode='det'):\n",
        "\n",
        "    # first iteration\n",
        "\n",
        "    # encode\n",
        "    encoded = encode(input)\n",
        "\n",
        "    # first prediction\n",
        "    y_hat = model.predict(encoded,verbose=0)[0,-1,:]\n",
        "\n",
        "    # get vocabulary size\n",
        "    vocab_size = y_hat.shape[0]\n",
        "\n",
        "    # initialize history\n",
        "    history_probs = [0]*num_beams\n",
        "    history_tokens = [encoded[0]]*num_beams\n",
        "\n",
        "    # select num_beams candidates\n",
        "    history_probs, history_tokens = select_candidates([y_hat],\n",
        "                                        num_beams,\n",
        "                                        vocab_size,\n",
        "                                        history_probs,\n",
        "                                        history_tokens,\n",
        "                                        temp,\n",
        "                                        mode)\n",
        "\n",
        "    # beam search loop\n",
        "    for i in range(num_words-1):\n",
        "\n",
        "      preds = []\n",
        "\n",
        "      for hist in history_tokens:\n",
        "\n",
        "        # actualizar secuencia de tokens\n",
        "        input_update = np.array([hist[i+1:]]).copy()\n",
        "\n",
        "        # predicción\n",
        "        y_hat = model.predict(input_update,verbose=0)[0,-1,:]\n",
        "\n",
        "        preds.append(y_hat)\n",
        "\n",
        "      history_probs, history_tokens = select_candidates(preds,\n",
        "                                                        num_beams,\n",
        "                                                        vocab_size,\n",
        "                                                        history_probs,\n",
        "                                                        history_tokens,\n",
        "                                                        temp,\n",
        "                                                        mode)\n",
        "\n",
        "    return history_tokens"
      ]
    },
    {
      "cell_type": "code",
      "execution_count": null,
      "metadata": {
        "id": "GeLqAoOYW1Hm"
      },
      "outputs": [],
      "source": [
        "# predicción con beam search.\n",
        "# Se pueden camiar los modos entre 'det' (determinista) y\n",
        "# 'sto' (estocástico)\n",
        "# para el caso estocástico también se puede variar la temperatura\n",
        "salidas = beam_search(model,num_beams=10,num_words=6,input=\"For forty days and for forty nights The law was on her side\",temp=1,mode='sto')"
      ]
    },
    {
      "cell_type": "code",
      "execution_count": null,
      "metadata": {
        "id": "P8HQoLhw-NYg",
        "colab": {
          "base_uri": "https://localhost:8080/"
        },
        "outputId": "5731e623-4e06-4f7a-c71b-466d9d26b45e"
      },
      "outputs": [
        {
          "output_type": "execute_result",
          "data": {
            "text/plain": [
              "(10, 14)"
            ]
          },
          "metadata": {},
          "execution_count": 64
        }
      ],
      "source": [
        "# tenemos `num_beams` salidas ordenadas de mayor a menor likelihood\n",
        "salidas.shape"
      ]
    },
    {
      "cell_type": "code",
      "execution_count": null,
      "metadata": {
        "id": "2S3_I3S1W1Hm",
        "colab": {
          "base_uri": "https://localhost:8080/"
        },
        "outputId": "4df3bb96-e0b6-44b1-bfb3-adf0b34990ee"
      },
      "outputs": [
        {
          "output_type": "execute_result",
          "data": {
            "text/plain": [
              "['forty nights the law was on her side in you you i you name']"
            ]
          },
          "metadata": {},
          "execution_count": 65
        }
      ],
      "source": [
        "# veamos las salidas\n",
        "decode(salidas[0])"
      ]
    },
    {
      "cell_type": "markdown",
      "source": [
        "Posiblemente, el beam search está explorando opciones que no reflejan bien la semántica, probablemente por la distribución de probabilidades del modelo está dominada por las palabras más comunes."
      ],
      "metadata": {
        "id": "WrH0IHY8dXhZ"
      }
    },
    {
      "cell_type": "code",
      "source": [
        "salidas = beam_search(model, num_beams=10, num_words=6, input=input_text, temp=0.7, mode='sto')\n",
        "salidas.shape\n",
        "decode(salidas[0])"
      ],
      "metadata": {
        "colab": {
          "base_uri": "https://localhost:8080/"
        },
        "id": "qFqMqRNddx6n",
        "outputId": "e4729aab-29bc-422c-9c3d-31a288bc63a1"
      },
      "execution_count": null,
      "outputs": [
        {
          "output_type": "execute_result",
          "data": {
            "text/plain": [
              "['dont mind me you the i you in']"
            ]
          },
          "metadata": {},
          "execution_count": 69
        }
      ]
    },
    {
      "cell_type": "code",
      "source": [
        "salidas = beam_search(model, num_beams=10, num_words=6, input=input_text, temp=3.7, mode='sto')\n",
        "salidas.shape\n",
        "decode(salidas[0])"
      ],
      "metadata": {
        "colab": {
          "base_uri": "https://localhost:8080/"
        },
        "id": "oppA0t-ZeHSM",
        "outputId": "10b41403-5fdf-48a7-fbd8-039e035661d7"
      },
      "execution_count": null,
      "outputs": [
        {
          "output_type": "execute_result",
          "data": {
            "text/plain": [
              "['dont mind on il i lock exhibition afford']"
            ]
          },
          "metadata": {},
          "execution_count": 70
        }
      ]
    },
    {
      "cell_type": "code",
      "source": [
        "salidas = beam_search(model, num_beams=10, num_words=6, input=input_text, temp=1.7, mode='sto')\n",
        "salidas.shape\n",
        "decode(salidas[0])"
      ],
      "metadata": {
        "colab": {
          "base_uri": "https://localhost:8080/"
        },
        "id": "JUbu3UvTe84T",
        "outputId": "cddc6f2d-d8d1-46d7-eaaf-411a0e3f8ce6"
      },
      "execution_count": null,
      "outputs": [
        {
          "output_type": "execute_result",
          "data": {
            "text/plain": [
              "[\"dont mind gonna on you touchin' it only\"]"
            ]
          },
          "metadata": {},
          "execution_count": 71
        }
      ]
    },
    {
      "cell_type": "code",
      "source": [
        "salidas = beam_search(model, num_beams=10, num_words=6, input=input_text, temp=1.2, mode='sto')\n",
        "salidas.shape\n",
        "decode(salidas[0])"
      ],
      "metadata": {
        "colab": {
          "base_uri": "https://localhost:8080/"
        },
        "id": "uqDqVwvGfSvb",
        "outputId": "4eebf11c-6dcd-4e7c-effe-880a91bb63cf"
      },
      "execution_count": null,
      "outputs": [
        {
          "output_type": "execute_result",
          "data": {
            "text/plain": [
              "['dont mind i off the the that and']"
            ]
          },
          "metadata": {},
          "execution_count": 72
        }
      ]
    },
    {
      "cell_type": "code",
      "source": [
        "salidas = beam_search(model, num_beams=10, num_words=6, input=input_text, temp=0.9, mode='sto')\n",
        "salidas.shape\n",
        "decode(salidas[0])"
      ],
      "metadata": {
        "colab": {
          "base_uri": "https://localhost:8080/"
        },
        "id": "3ehrKxLOfzQO",
        "outputId": "cc016f64-87fb-4aa6-d9c2-134de8a6a8a7"
      },
      "execution_count": null,
      "outputs": [
        {
          "output_type": "execute_result",
          "data": {
            "text/plain": [
              "['dont mind you you me the out and']"
            ]
          },
          "metadata": {},
          "execution_count": 73
        }
      ]
    },
    {
      "cell_type": "markdown",
      "source": [
        "### Conclusion"
      ],
      "metadata": {
        "id": "DguT3rWmfRZZ"
      }
    },
    {
      "cell_type": "markdown",
      "source": [
        "Se observa que al aumentar demasiado la temperatura el modelo predice palabras menos esperadas pero a la vez mas incoherentes. Es interesante ver como a medida que cambiamos la temperatura la salida cambia desde una salida muy conservadora en temperaturas mas bajas (lo que en este caso a veces se vuelve repetitivo) a una salida mas creativa, diversa y cada vez mas incoherente en temperaturas muy altas."
      ],
      "metadata": {
        "id": "d3wSyVJJeyHo"
      }
    }
  ],
  "metadata": {
    "colab": {
      "provenance": []
    },
    "kernelspec": {
      "display_name": "Python 3",
      "name": "python3"
    },
    "language_info": {
      "name": "python"
    }
  },
  "nbformat": 4,
  "nbformat_minor": 0
}